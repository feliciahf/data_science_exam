{
  "nbformat": 4,
  "nbformat_minor": 0,
  "metadata": {
    "language_info": {
      "codemirror_mode": {
        "name": "ipython",
        "version": 3
      },
      "file_extension": ".py",
      "mimetype": "text/x-python",
      "name": "python",
      "nbconvert_exporter": "python",
      "pygments_lexer": "ipython3",
      "version": "3.8.5-final"
    },
    "orig_nbformat": 2,
    "kernelspec": {
      "name": "python3",
      "display_name": "Python 3",
      "language": "python"
    },
    "colab": {
      "name": "hippocorpus_binaryclass.ipynb",
      "provenance": [],
      "include_colab_link": true
    }
  },
  "cells": [
    {
      "cell_type": "markdown",
      "metadata": {
        "id": "view-in-github",
        "colab_type": "text"
      },
      "source": [
        "<a href=\"https://colab.research.google.com/github/feliciahf/data_science_exam/blob/main/hippocorpus_binaryclass.ipynb\" target=\"_parent\"><img src=\"https://colab.research.google.com/assets/colab-badge.svg\" alt=\"Open In Colab\"/></a>"
      ]
    },
    {
      "cell_type": "code",
      "metadata": {
        "id": "xbYlujGD3XmC"
      },
      "source": [
        "import pandas as pd\n",
        "import numpy as np\n",
        "from sklearn.metrics import matthews_corrcoef\n",
        "from sklearn.linear_model import LogisticRegression\n",
        "from sklearn.linear_model import RidgeClassifier\n",
        "from sklearn.preprocessing import StandardScaler\n",
        "from sklearn.linear_model import SGDClassifier\n",
        "from sklearn.pipeline import make_pipeline\n",
        "from sklearn.metrics import confusion_matrix, accuracy_score, roc_auc_score, classification_report\n",
        "from sklearn.model_selection import cross_val_score\n",
        "import matplotlib.pyplot as plt\n",
        "import seaborn as sns"
      ],
      "execution_count": 33,
      "outputs": []
    },
    {
      "cell_type": "markdown",
      "metadata": {
        "id": "aQNz0Xf93XmL"
      },
      "source": [
        "# Load dataset"
      ]
    },
    {
      "cell_type": "code",
      "metadata": {
        "id": "juM4IVy-3XmM"
      },
      "source": [
        "# import csv file as dataframe (from GitHub repo)\n",
        "url = 'https://raw.githubusercontent.com/feliciahf/data_science_exam/main/hippoCorpusV2.csv'\n",
        "df = pd.read_csv(url, encoding='latin1')\n",
        "df_full = pd.read_csv(url, encoding='latin1') # for visualisation"
      ],
      "execution_count": 2,
      "outputs": []
    },
    {
      "cell_type": "markdown",
      "metadata": {
        "id": "ppmLxlFy3XmN"
      },
      "source": [
        "# Clean data"
      ]
    },
    {
      "cell_type": "code",
      "metadata": {
        "id": "vfea02DN3XmN",
        "colab": {
          "base_uri": "https://localhost:8080/"
        },
        "outputId": "75874984-afc5-4114-d910-8046e3cc5e19"
      },
      "source": [
        "# Are there missing values in the train set?\n",
        "df.isnull().sum()"
      ],
      "execution_count": 3,
      "outputs": [
        {
          "output_type": "execute_result",
          "data": {
            "text/plain": [
              "AssignmentId            0\n",
              "WorkTimeInSeconds       0\n",
              "WorkerId                0\n",
              "annotatorAge           23\n",
              "annotatorGender         0\n",
              "annotatorRace           0\n",
              "distracted              0\n",
              "draining                0\n",
              "frequency            2756\n",
              "importance            144\n",
              "logTimeSinceEvent       0\n",
              "mainEvent               0\n",
              "memType                 0\n",
              "mostSurprising          0\n",
              "openness                0\n",
              "recAgnPairId         4235\n",
              "recImgPairId         1526\n",
              "similarity           4098\n",
              "similarityReason     4098\n",
              "story                   0\n",
              "stressful               0\n",
              "summary                 0\n",
              "timeSinceEvent          0\n",
              "dtype: int64"
            ]
          },
          "metadata": {
            "tags": []
          },
          "execution_count": 3
        }
      ]
    },
    {
      "cell_type": "code",
      "metadata": {
        "id": "-JfJXOrG3XmY"
      },
      "source": [
        "# Okay, lots of missing values. Filling them with the mean value of the column\n",
        "df[\"annotatorAge\"] = df[\"annotatorAge\"].fillna(df[\"annotatorAge\"].mean())\n",
        "df[\"frequency\"] = df[\"frequency\"].fillna(df[\"frequency\"].mean())\n",
        "df[\"importance\"] = df[\"importance\"].fillna(df[\"importance\"].mean())\n",
        "df[\"similarity\"] = df[\"similarity\"].fillna(df[\"similarity\"].mean())"
      ],
      "execution_count": 4,
      "outputs": []
    },
    {
      "cell_type": "code",
      "metadata": {
        "id": "kViJqPgW3XmY",
        "colab": {
          "base_uri": "https://localhost:8080/"
        },
        "outputId": "b3a9f8f0-0da4-42f6-a6b9-08e32688541e"
      },
      "source": [
        "# Let's see if it worked\n",
        "df.isnull().sum()"
      ],
      "execution_count": 5,
      "outputs": [
        {
          "output_type": "execute_result",
          "data": {
            "text/plain": [
              "AssignmentId            0\n",
              "WorkTimeInSeconds       0\n",
              "WorkerId                0\n",
              "annotatorAge            0\n",
              "annotatorGender         0\n",
              "annotatorRace           0\n",
              "distracted              0\n",
              "draining                0\n",
              "frequency               0\n",
              "importance              0\n",
              "logTimeSinceEvent       0\n",
              "mainEvent               0\n",
              "memType                 0\n",
              "mostSurprising          0\n",
              "openness                0\n",
              "recAgnPairId         4235\n",
              "recImgPairId         1526\n",
              "similarity              0\n",
              "similarityReason     4098\n",
              "story                   0\n",
              "stressful               0\n",
              "summary                 0\n",
              "timeSinceEvent          0\n",
              "dtype: int64"
            ]
          },
          "metadata": {
            "tags": []
          },
          "execution_count": 5
        }
      ]
    },
    {
      "cell_type": "code",
      "metadata": {
        "id": "4gMPeb8z3XmY"
      },
      "source": [
        "# sklearn does not like columns with categorical values\n",
        "# make them binary dummy variables instead\n",
        "df = pd.get_dummies(df, columns=[\"annotatorGender\", \"annotatorRace\"])"
      ],
      "execution_count": 6,
      "outputs": []
    },
    {
      "cell_type": "code",
      "metadata": {
        "id": "GkBme56N370J"
      },
      "source": [
        "# drop retold label\n",
        "df = df[df.memType != 'retold']\n",
        "df_full = df_full[df_full.memType != 'retold']"
      ],
      "execution_count": 7,
      "outputs": []
    },
    {
      "cell_type": "code",
      "metadata": {
        "id": "fLAKh8GuFXWf",
        "colab": {
          "base_uri": "https://localhost:8080/"
        },
        "outputId": "2e266015-4d12-4cdb-dc76-3bc9f37136c7"
      },
      "source": [
        "len(df['story'])"
      ],
      "execution_count": 8,
      "outputs": [
        {
          "output_type": "execute_result",
          "data": {
            "text/plain": [
              "5535"
            ]
          },
          "metadata": {
            "tags": []
          },
          "execution_count": 8
        }
      ]
    },
    {
      "cell_type": "code",
      "metadata": {
        "id": "aGPQ_DCM3XmZ",
        "colab": {
          "base_uri": "https://localhost:8080/"
        },
        "outputId": "6de02fbe-f729-48d0-f93d-f59acfa7b21b"
      },
      "source": [
        "# make labels column using numerical values\n",
        "df.memType = pd.Categorical(df.memType)\n",
        "df['label'] = df.memType.cat.codes\n",
        "\n",
        "# story type corresponding to label\n",
        "print(f\"Label 0: {df.loc[df['label'] == 0,'memType'].unique()}\")\n",
        "print(f\"Label 1: {df.loc[df['label'] == 1,'memType'].unique()}\")"
      ],
      "execution_count": 9,
      "outputs": [
        {
          "output_type": "stream",
          "text": [
            "Label 0: ['imagined']\n",
            "Categories (1, object): ['imagined']\n",
            "Label 1: ['recalled']\n",
            "Categories (1, object): ['recalled']\n"
          ],
          "name": "stdout"
        }
      ]
    },
    {
      "cell_type": "code",
      "metadata": {
        "id": "91dRB5-63Xma"
      },
      "source": [
        "# drop categorical column\n",
        "df = df.drop(columns='memType')"
      ],
      "execution_count": 10,
      "outputs": []
    },
    {
      "cell_type": "code",
      "metadata": {
        "id": "Vgdeg1mZ3Xma"
      },
      "source": [
        "# AssignmentId, WorkerId, recAgnPairId and recImgPairId are practically unique for each individual and thus unusable for predictions\n",
        "# mainEvent, mostSurprising, similarityReason, story and summary contain text and are unique to each individual\n",
        "uninformative_cols = [\"AssignmentId\", \"WorkerId\", \"recAgnPairId\", \"recImgPairId\"]\n",
        "text_cols = [\"mainEvent\", \"mostSurprising\", \"similarityReason\", \"story\", \"summary\"]\n",
        "df = df.drop(columns=uninformative_cols)\n",
        "df = df.drop(columns=text_cols)"
      ],
      "execution_count": 11,
      "outputs": []
    },
    {
      "cell_type": "code",
      "metadata": {
        "id": "4_jKYuow3Xma"
      },
      "source": [
        "# age as binary measures\n",
        "df['Old'] = np.where(df['annotatorAge']>=44, 1, 0)\n",
        "df['Young'] = np.where(df['annotatorAge']>=25, 0, 1)\n",
        "df['Middle1'] = np.where((df['annotatorAge']>=33) & (df['annotatorAge'] >=25), 1, 0)\n",
        "df['Middle2'] = np.where((df['annotatorAge']>=44) & (df['annotatorAge'] >=33), 1, 0)"
      ],
      "execution_count": 12,
      "outputs": []
    },
    {
      "cell_type": "code",
      "metadata": {
        "id": "cgLem2unw-PC"
      },
      "source": [
        "# drop gender and race columns\n",
        "gender = [\"annotatorGender_man\", \"annotatorGender_na\", \"annotatorGender_nonBinary\", \"annotatorGender_other\", \"annotatorGender_transman\", \"annotatorGender_transwoman\", \"annotatorGender_woman\"]\n",
        "df = df.drop(columns=gender)\n",
        "race = [\"annotatorRace_asian\", \"annotatorRace_black\", \"annotatorRace_hisp\", \"annotatorRace_indian\", \"annotatorRace_islander\", \"annotatorRace_middleEastern\", \"annotatorRace_na\", \"annotatorRace_native\", \"annotatorRace_other\", \"annotatorRace_white\"]\n",
        "df = df.drop(columns=race)"
      ],
      "execution_count": 13,
      "outputs": []
    },
    {
      "cell_type": "markdown",
      "metadata": {
        "id": "LX3xX7Ku3Xmb"
      },
      "source": [
        "# Inspect data visually"
      ]
    },
    {
      "cell_type": "code",
      "metadata": {
        "id": "Xt_PfFjP3Xmb",
        "colab": {
          "base_uri": "https://localhost:8080/",
          "height": 645
        },
        "outputId": "7b694753-319b-4072-b562-057a42d83825"
      },
      "source": [
        "# Compute the correlation matrix\n",
        "corr = df_full.corr()\n",
        "\n",
        "# Generate a mask for the upper triangle\n",
        "mask = np.triu(np.ones_like(corr, dtype=bool))\n",
        "\n",
        "# Set up the matplotlib figure\n",
        "f, ax = plt.subplots(figsize=(11, 9))\n",
        "\n",
        "# Generate a custom diverging colormap\n",
        "cmap = sns.diverging_palette(230, 20, as_cmap=True)\n",
        "\n",
        "# Draw the heatmap with the mask and correct aspect ratio\n",
        "sns.heatmap(corr, mask=mask, cmap=cmap, vmax=.3, center=0,\n",
        "            square=True, linewidths=.5, cbar_kws={\"shrink\": .5})"
      ],
      "execution_count": 14,
      "outputs": [
        {
          "output_type": "execute_result",
          "data": {
            "text/plain": [
              "<matplotlib.axes._subplots.AxesSubplot at 0x7f41537d8590>"
            ]
          },
          "metadata": {
            "tags": []
          },
          "execution_count": 14
        },
        {
          "output_type": "display_data",
          "data": {
            "image/png": "[encoded data removed]",
            "text/plain": [
              "<Figure size 792x648 with 2 Axes>"
            ]
          },
          "metadata": {
            "tags": [],
            "needs_background": "light"
          }
        }
      ]
    },
    {
      "cell_type": "code",
      "metadata": {
        "id": "OUWxsEv83Xmc",
        "colab": {
          "base_uri": "https://localhost:8080/",
          "height": 296
        },
        "outputId": "ee78b0c9-c8e2-44e0-9f59-a833874b2d36"
      },
      "source": [
        "# histogram of gender and story type\n",
        "sns.countplot(x=\"annotatorGender\", hue=\"memType\", data=df_full)"
      ],
      "execution_count": 15,
      "outputs": [
        {
          "output_type": "execute_result",
          "data": {
            "text/plain": [
              "<matplotlib.axes._subplots.AxesSubplot at 0x7f41525b5990>"
            ]
          },
          "metadata": {
            "tags": []
          },
          "execution_count": 15
        },
        {
          "output_type": "display_data",
          "data": {
            "image/png": "[encoded data removed]",
            "text/plain": [
              "<Figure size 432x288 with 1 Axes>"
            ]
          },
          "metadata": {
            "tags": [],
            "needs_background": "light"
          }
        }
      ]
    },
    {
      "cell_type": "code",
      "metadata": {
        "id": "BUBGghSJF4qb",
        "colab": {
          "base_uri": "https://localhost:8080/",
          "height": 296
        },
        "outputId": "577b0579-b462-42b4-e08d-e291b870bac3"
      },
      "source": [
        "# histogram of age and story type\n",
        "sns.countplot(x=\"annotatorAge\", hue=\"memType\", data=df_full)"
      ],
      "execution_count": 16,
      "outputs": [
        {
          "output_type": "execute_result",
          "data": {
            "text/plain": [
              "<matplotlib.axes._subplots.AxesSubplot at 0x7f4152b3c590>"
            ]
          },
          "metadata": {
            "tags": []
          },
          "execution_count": 16
        },
        {
          "output_type": "display_data",
          "data": {
            "image/png": "[encoded data removed]",
            "text/plain": [
              "<Figure size 432x288 with 1 Axes>"
            ]
          },
          "metadata": {
            "tags": [],
            "needs_background": "light"
          }
        }
      ]
    },
    {
      "cell_type": "code",
      "metadata": {
        "id": "I6DmWcecewEP",
        "colab": {
          "base_uri": "https://localhost:8080/",
          "height": 296
        },
        "outputId": "3eaf4dd2-c767-4c26-adfd-8c44ee457f05"
      },
      "source": [
        "# histogram of importance and story type\n",
        "sns.countplot(x=\"importance\", hue=\"memType\", data=df_full)"
      ],
      "execution_count": 17,
      "outputs": [
        {
          "output_type": "execute_result",
          "data": {
            "text/plain": [
              "<matplotlib.axes._subplots.AxesSubplot at 0x7f4152b7a190>"
            ]
          },
          "metadata": {
            "tags": []
          },
          "execution_count": 17
        },
        {
          "output_type": "display_data",
          "data": {
            "image/png": "[encoded data removed]",
            "text/plain": [
              "<Figure size 432x288 with 1 Axes>"
            ]
          },
          "metadata": {
            "tags": [],
            "needs_background": "light"
          }
        }
      ]
    },
    {
      "cell_type": "code",
      "metadata": {
        "id": "OvmXVfWKe8-y",
        "colab": {
          "base_uri": "https://localhost:8080/",
          "height": 296
        },
        "outputId": "0eb71d72-082a-4927-9cd5-5672028f933e"
      },
      "source": [
        "# histogram of distracted and story type\n",
        "sns.countplot(x=\"distracted\", hue=\"memType\", data=df_full)"
      ],
      "execution_count": 18,
      "outputs": [
        {
          "output_type": "execute_result",
          "data": {
            "text/plain": [
              "<matplotlib.axes._subplots.AxesSubplot at 0x7f4152bb4950>"
            ]
          },
          "metadata": {
            "tags": []
          },
          "execution_count": 18
        },
        {
          "output_type": "display_data",
          "data": {
            "image/png": "[encoded data removed]",
            "text/plain": [
              "<Figure size 432x288 with 1 Axes>"
            ]
          },
          "metadata": {
            "tags": [],
            "needs_background": "light"
          }
        }
      ]
    },
    {
      "cell_type": "code",
      "metadata": {
        "id": "tZtsWmWce_34",
        "colab": {
          "base_uri": "https://localhost:8080/",
          "height": 298
        },
        "outputId": "9d99c64c-e59a-4654-e543-c9090d581613"
      },
      "source": [
        "# histogram of draining and story type\n",
        "sns.countplot(x=\"draining\", hue=\"memType\", data=df_full)"
      ],
      "execution_count": 19,
      "outputs": [
        {
          "output_type": "execute_result",
          "data": {
            "text/plain": [
              "<matplotlib.axes._subplots.AxesSubplot at 0x7f4149612490>"
            ]
          },
          "metadata": {
            "tags": []
          },
          "execution_count": 19
        },
        {
          "output_type": "display_data",
          "data": {
            "image/png": "[encoded data removed]",
            "text/plain": [
              "<Figure size 432x288 with 1 Axes>"
            ]
          },
          "metadata": {
            "tags": [],
            "needs_background": "light"
          }
        }
      ]
    },
    {
      "cell_type": "code",
      "metadata": {
        "id": "sGCPrWL_e_v_",
        "colab": {
          "base_uri": "https://localhost:8080/",
          "height": 296
        },
        "outputId": "ec63c186-8315-4e92-ae45-e7df5bbc3097"
      },
      "source": [
        "# histogram of stressful and story type\n",
        "sns.countplot(x=\"stressful\", hue=\"memType\", data=df_full)"
      ],
      "execution_count": 20,
      "outputs": [
        {
          "output_type": "execute_result",
          "data": {
            "text/plain": [
              "<matplotlib.axes._subplots.AxesSubplot at 0x7f414958b410>"
            ]
          },
          "metadata": {
            "tags": []
          },
          "execution_count": 20
        },
        {
          "output_type": "display_data",
          "data": {
            "image/png": "[encoded data removed]",
            "text/plain": [
              "<Figure size 432x288 with 1 Axes>"
            ]
          },
          "metadata": {
            "tags": [],
            "needs_background": "light"
          }
        }
      ]
    },
    {
      "cell_type": "code",
      "metadata": {
        "id": "-hbCicm8e_yk",
        "colab": {
          "base_uri": "https://localhost:8080/",
          "height": 296
        },
        "outputId": "6259f14a-b0c1-4cb0-fa0e-0d284c7a67cb"
      },
      "source": [
        "# histogram of openness and story type\n",
        "sns.countplot(x=\"openness\", hue=\"memType\", data=df_full)"
      ],
      "execution_count": 21,
      "outputs": [
        {
          "output_type": "execute_result",
          "data": {
            "text/plain": [
              "<matplotlib.axes._subplots.AxesSubplot at 0x7f41494bec90>"
            ]
          },
          "metadata": {
            "tags": []
          },
          "execution_count": 21
        },
        {
          "output_type": "display_data",
          "data": {
            "image/png": "[encoded data removed]",
            "text/plain": [
              "<Figure size 432x288 with 1 Axes>"
            ]
          },
          "metadata": {
            "tags": [],
            "needs_background": "light"
          }
        }
      ]
    },
    {
      "cell_type": "markdown",
      "metadata": {
        "id": "htJMvgIg3Xmd"
      },
      "source": [
        "# Split into testing and training data"
      ]
    },
    {
      "cell_type": "code",
      "metadata": {
        "id": "v1yUMWLz3Xme"
      },
      "source": [
        "# split df into test and train\n",
        "msk = np.random.rand(len(df)) < 0.8\n",
        "train = df[msk]\n",
        "test = df[~msk]"
      ],
      "execution_count": 22,
      "outputs": []
    },
    {
      "cell_type": "code",
      "metadata": {
        "id": "lvzXoa7k5gkX"
      },
      "source": [
        "# Make subset of training data containing everything except the label\n",
        "X = train.loc[:, train.columns != \"label\"]\n",
        "# Make subset containing only the label\n",
        "Y = train[\"label\"]\n",
        "\n",
        "# Test the model on the testing set\n",
        "X_test = test.loc[:, train.columns != \"label\"]\n",
        "Y_test = test[\"label\"]"
      ],
      "execution_count": 23,
      "outputs": []
    },
    {
      "cell_type": "markdown",
      "metadata": {
        "id": "h6vnXb4S3Xme"
      },
      "source": [
        "# Logistic Regression model"
      ]
    },
    {
      "cell_type": "code",
      "metadata": {
        "id": "ArO0KuPj3Xme",
        "colab": {
          "base_uri": "https://localhost:8080/"
        },
        "outputId": "ec58d1cc-3fc7-4c6f-8f42-6737788b4eb2"
      },
      "source": [
        "model = LogisticRegression()\n",
        "\n",
        "# Fit model on training data\n",
        "model.fit(X, Y)\n",
        "# See how well the model does on the training data\n",
        "yhat = model.predict(X)\n",
        "\n",
        "print(f\"Accuracy on train data: {accuracy_score(Y, yhat)}\")\n",
        "confusion_matrix(Y, yhat)\n",
        "\n",
        "# Test the model on the testing set\n",
        "yhat_test = model.predict(X_test)\n",
        "print(f\"Accuracy on test data: {accuracy_score(Y_test, yhat_test)}\")\n",
        "confusion_matrix(Y_test, yhat_test)"
      ],
      "execution_count": 24,
      "outputs": [
        {
          "output_type": "stream",
          "text": [
            "Accuracy on train data: 0.4993231046931408\n",
            "Accuracy on test data: 0.49229374433363554\n"
          ],
          "name": "stdout"
        },
        {
          "output_type": "stream",
          "text": [
            "/usr/local/lib/python3.7/dist-packages/sklearn/linear_model/_logistic.py:940: ConvergenceWarning: lbfgs failed to converge (status=2):\n",
            "ABNORMAL_TERMINATION_IN_LNSRCH.\n",
            "\n",
            "Increase the number of iterations (max_iter) or scale the data as shown in:\n",
            "    https://scikit-learn.org/stable/modules/preprocessing.html\n",
            "Please also refer to the documentation for alternative solver options:\n",
            "    https://scikit-learn.org/stable/modules/linear_model.html#logistic-regression\n",
            "  extra_warning_msg=_LOGISTIC_SOLVER_CONVERGENCE_MSG)\n"
          ],
          "name": "stderr"
        },
        {
          "output_type": "execute_result",
          "data": {
            "text/plain": [
              "array([[543,   0],\n",
              "       [560,   0]])"
            ]
          },
          "metadata": {
            "tags": []
          },
          "execution_count": 24
        }
      ]
    },
    {
      "cell_type": "code",
      "metadata": {
        "id": "BF-D2Z_D3Xmf",
        "colab": {
          "base_uri": "https://localhost:8080/"
        },
        "outputId": "cb27d9d9-0f83-4544-9f5e-a0025dd88df5"
      },
      "source": [
        "print(classification_report(Y_test, yhat_test, digits=3))"
      ],
      "execution_count": 27,
      "outputs": [
        {
          "output_type": "stream",
          "text": [
            "              precision    recall  f1-score   support\n",
            "\n",
            "           0      0.492     1.000     0.660       543\n",
            "           1      0.000     0.000     0.000       560\n",
            "\n",
            "    accuracy                          0.492      1103\n",
            "   macro avg      0.246     0.500     0.330      1103\n",
            "weighted avg      0.242     0.492     0.325      1103\n",
            "\n"
          ],
          "name": "stdout"
        },
        {
          "output_type": "stream",
          "text": [
            "/usr/local/lib/python3.7/dist-packages/sklearn/metrics/_classification.py:1272: UndefinedMetricWarning: Precision and F-score are ill-defined and being set to 0.0 in labels with no predicted samples. Use `zero_division` parameter to control this behavior.\n",
            "  _warn_prf(average, modifier, msg_start, len(result))\n"
          ],
          "name": "stderr"
        }
      ]
    },
    {
      "cell_type": "code",
      "metadata": {
        "id": "JsR0IPbR34EP",
        "colab": {
          "base_uri": "https://localhost:8080/"
        },
        "outputId": "5e93378e-78f6-4256-984e-3f75a01bb546"
      },
      "source": [
        "matthews_corrcoef(Y_test, yhat_test)"
      ],
      "execution_count": 26,
      "outputs": [
        {
          "output_type": "stream",
          "text": [
            "/usr/local/lib/python3.7/dist-packages/sklearn/metrics/_classification.py:900: RuntimeWarning: invalid value encountered in double_scalars\n",
            "  mcc = cov_ytyp / np.sqrt(cov_ytyt * cov_ypyp)\n"
          ],
          "name": "stderr"
        },
        {
          "output_type": "execute_result",
          "data": {
            "text/plain": [
              "0.0"
            ]
          },
          "metadata": {
            "tags": []
          },
          "execution_count": 26
        }
      ]
    },
    {
      "cell_type": "markdown",
      "metadata": {
        "id": "3Ih-zI2C3Xmf"
      },
      "source": [
        "# Ridge classifier"
      ]
    },
    {
      "cell_type": "code",
      "metadata": {
        "id": "jv51gvjC3Xmf",
        "colab": {
          "base_uri": "https://localhost:8080/"
        },
        "outputId": "5f76de35-41ee-48da-a7aa-f741ff3bc0da"
      },
      "source": [
        "model_rid = RidgeClassifier()\n",
        "\n",
        "# Fit model on training data\n",
        "model_rid.fit(X, Y)\n",
        "\n",
        "# See how well the model does on the training data\n",
        "yhat = model_rid.predict(X)\n",
        "\n",
        "print(f\"Accuracy on train data: {accuracy_score(Y, yhat)}\")\n",
        "confusion_matrix(Y, yhat)\n",
        "\n",
        "yhat_test = model_rid.predict(X_test)\n",
        "print(f\"Accuracy on test data: {accuracy_score(Y_test, yhat_test)}\")\n",
        "confusion_matrix(Y_test, yhat_test)"
      ],
      "execution_count": 28,
      "outputs": [
        {
          "output_type": "stream",
          "text": [
            "Accuracy on train data: 0.8064079422382672\n",
            "Accuracy on test data: 0.827742520398912\n"
          ],
          "name": "stdout"
        },
        {
          "output_type": "stream",
          "text": [
            "/usr/local/lib/python3.7/dist-packages/sklearn/linear_model/_ridge.py:148: LinAlgWarning: Ill-conditioned matrix (rcond=2.4053e-119): result may not be accurate.\n",
            "  overwrite_a=True).T\n"
          ],
          "name": "stderr"
        },
        {
          "output_type": "execute_result",
          "data": {
            "text/plain": [
              "array([[436, 107],\n",
              "       [ 83, 477]])"
            ]
          },
          "metadata": {
            "tags": []
          },
          "execution_count": 28
        }
      ]
    },
    {
      "cell_type": "code",
      "metadata": {
        "id": "syINqEu93Xmf",
        "colab": {
          "base_uri": "https://localhost:8080/"
        },
        "outputId": "77837b7b-5136-473c-857d-6b72a0711f18"
      },
      "source": [
        "# Cross-validation - 10fold\n",
        "scores_rid = cross_val_score(model_rid, X, Y, cv=10)\n",
        "scores_rid = pd.Series(scores_rid)\n",
        "scores_rid.min(), scores_rid.mean(), scores_rid.max()"
      ],
      "execution_count": 29,
      "outputs": [
        {
          "output_type": "stream",
          "text": [
            "/usr/local/lib/python3.7/dist-packages/sklearn/linear_model/_ridge.py:148: LinAlgWarning: Ill-conditioned matrix (rcond=3.38301e-119): result may not be accurate.\n",
            "  overwrite_a=True).T\n",
            "/usr/local/lib/python3.7/dist-packages/sklearn/linear_model/_ridge.py:148: LinAlgWarning: Ill-conditioned matrix (rcond=3.15964e-119): result may not be accurate.\n",
            "  overwrite_a=True).T\n",
            "/usr/local/lib/python3.7/dist-packages/sklearn/linear_model/_ridge.py:148: LinAlgWarning: Ill-conditioned matrix (rcond=2.40346e-119): result may not be accurate.\n",
            "  overwrite_a=True).T\n",
            "/usr/local/lib/python3.7/dist-packages/sklearn/linear_model/_ridge.py:148: LinAlgWarning: Ill-conditioned matrix (rcond=3.54712e-119): result may not be accurate.\n",
            "  overwrite_a=True).T\n",
            "/usr/local/lib/python3.7/dist-packages/sklearn/linear_model/_ridge.py:148: LinAlgWarning: Ill-conditioned matrix (rcond=2.40325e-119): result may not be accurate.\n",
            "  overwrite_a=True).T\n",
            "/usr/local/lib/python3.7/dist-packages/sklearn/linear_model/_ridge.py:148: LinAlgWarning: Ill-conditioned matrix (rcond=2.4034e-119): result may not be accurate.\n",
            "  overwrite_a=True).T\n",
            "/usr/local/lib/python3.7/dist-packages/sklearn/linear_model/_ridge.py:148: LinAlgWarning: Ill-conditioned matrix (rcond=2.50727e-119): result may not be accurate.\n",
            "  overwrite_a=True).T\n",
            "/usr/local/lib/python3.7/dist-packages/sklearn/linear_model/_ridge.py:148: LinAlgWarning: Ill-conditioned matrix (rcond=2.40367e-119): result may not be accurate.\n",
            "  overwrite_a=True).T\n",
            "/usr/local/lib/python3.7/dist-packages/sklearn/linear_model/_ridge.py:148: LinAlgWarning: Ill-conditioned matrix (rcond=2.40343e-119): result may not be accurate.\n",
            "  overwrite_a=True).T\n",
            "/usr/local/lib/python3.7/dist-packages/sklearn/linear_model/_ridge.py:148: LinAlgWarning: Ill-conditioned matrix (rcond=2.68891e-119): result may not be accurate.\n",
            "  overwrite_a=True).T\n"
          ],
          "name": "stderr"
        },
        {
          "output_type": "execute_result",
          "data": {
            "text/plain": [
              "(0.7765237020316027, 0.803250259288634, 0.8239277652370203)"
            ]
          },
          "metadata": {
            "tags": []
          },
          "execution_count": 29
        }
      ]
    },
    {
      "cell_type": "code",
      "metadata": {
        "id": "4d07cM3C3Xmg",
        "colab": {
          "base_uri": "https://localhost:8080/"
        },
        "outputId": "6184ae86-eaeb-4de5-802f-658a094852bc"
      },
      "source": [
        "print(classification_report(Y_test, yhat_test, digits=3))"
      ],
      "execution_count": 30,
      "outputs": [
        {
          "output_type": "stream",
          "text": [
            "              precision    recall  f1-score   support\n",
            "\n",
            "           0      0.840     0.803     0.821       543\n",
            "           1      0.817     0.852     0.834       560\n",
            "\n",
            "    accuracy                          0.828      1103\n",
            "   macro avg      0.828     0.827     0.828      1103\n",
            "weighted avg      0.828     0.828     0.828      1103\n",
            "\n"
          ],
          "name": "stdout"
        }
      ]
    },
    {
      "cell_type": "code",
      "metadata": {
        "id": "y-zA3ATF3Xmg",
        "colab": {
          "base_uri": "https://localhost:8080/"
        },
        "outputId": "c59b6d1d-67d4-4819-b002-049fa9e44157"
      },
      "source": [
        "matthews_corrcoef(Y_test, yhat_test)"
      ],
      "execution_count": 31,
      "outputs": [
        {
          "output_type": "execute_result",
          "data": {
            "text/plain": [
              "0.655794239057198"
            ]
          },
          "metadata": {
            "tags": []
          },
          "execution_count": 31
        }
      ]
    },
    {
      "cell_type": "markdown",
      "metadata": {
        "id": "8xug2ganD22h"
      },
      "source": [
        "# SGD Classifier"
      ]
    },
    {
      "cell_type": "code",
      "metadata": {
        "id": "G_aZtylPD2ma",
        "colab": {
          "base_uri": "https://localhost:8080/"
        },
        "outputId": "cab47780-de5c-4a45-bf71-26fe245ec073"
      },
      "source": [
        "model_sgd = make_pipeline(StandardScaler(), SGDClassifier(max_iter=1000, tol=1e-3))\n",
        "\n",
        "# Fit model on training data\n",
        "model_sgd.fit(X, Y)\n",
        "\n",
        "# See how well the model does on the training data\n",
        "yhat = model_sgd.predict(X)\n",
        "\n",
        "print(f\"Accuracy on train data: {accuracy_score(Y, yhat)}\")\n",
        "confusion_matrix(Y, yhat)\n",
        "\n",
        "yhat_test = model_sgd.predict(X_test)\n",
        "print(f\"Accuracy on test data: {accuracy_score(Y_test, yhat_test)}\")\n",
        "confusion_matrix(Y_test, yhat_test)"
      ],
      "execution_count": 34,
      "outputs": [
        {
          "output_type": "stream",
          "text": [
            "Accuracy on train data: 0.7903880866425993\n",
            "Accuracy on test data: 0.8096101541251133\n"
          ],
          "name": "stdout"
        },
        {
          "output_type": "execute_result",
          "data": {
            "text/plain": [
              "array([[442, 101],\n",
              "       [109, 451]])"
            ]
          },
          "metadata": {
            "tags": []
          },
          "execution_count": 34
        }
      ]
    },
    {
      "cell_type": "code",
      "metadata": {
        "id": "rNYBrFIcEK8T",
        "colab": {
          "base_uri": "https://localhost:8080/"
        },
        "outputId": "df001bab-bd35-4b1e-840f-3dc70343d323"
      },
      "source": [
        "# Cross-validation - 10fold\n",
        "scores_rid = cross_val_score(model_rid, X, Y, cv=10)\n",
        "scores_rid = pd.Series(scores_rid)\n",
        "scores_rid.min(), scores_rid.mean(), scores_rid.max()"
      ],
      "execution_count": 35,
      "outputs": [
        {
          "output_type": "stream",
          "text": [
            "/usr/local/lib/python3.7/dist-packages/sklearn/linear_model/_ridge.py:148: LinAlgWarning: Ill-conditioned matrix (rcond=3.38301e-119): result may not be accurate.\n",
            "  overwrite_a=True).T\n",
            "/usr/local/lib/python3.7/dist-packages/sklearn/linear_model/_ridge.py:148: LinAlgWarning: Ill-conditioned matrix (rcond=3.15964e-119): result may not be accurate.\n",
            "  overwrite_a=True).T\n",
            "/usr/local/lib/python3.7/dist-packages/sklearn/linear_model/_ridge.py:148: LinAlgWarning: Ill-conditioned matrix (rcond=2.40346e-119): result may not be accurate.\n",
            "  overwrite_a=True).T\n",
            "/usr/local/lib/python3.7/dist-packages/sklearn/linear_model/_ridge.py:148: LinAlgWarning: Ill-conditioned matrix (rcond=3.54712e-119): result may not be accurate.\n",
            "  overwrite_a=True).T\n",
            "/usr/local/lib/python3.7/dist-packages/sklearn/linear_model/_ridge.py:148: LinAlgWarning: Ill-conditioned matrix (rcond=2.40325e-119): result may not be accurate.\n",
            "  overwrite_a=True).T\n",
            "/usr/local/lib/python3.7/dist-packages/sklearn/linear_model/_ridge.py:148: LinAlgWarning: Ill-conditioned matrix (rcond=2.4034e-119): result may not be accurate.\n",
            "  overwrite_a=True).T\n",
            "/usr/local/lib/python3.7/dist-packages/sklearn/linear_model/_ridge.py:148: LinAlgWarning: Ill-conditioned matrix (rcond=2.50727e-119): result may not be accurate.\n",
            "  overwrite_a=True).T\n",
            "/usr/local/lib/python3.7/dist-packages/sklearn/linear_model/_ridge.py:148: LinAlgWarning: Ill-conditioned matrix (rcond=2.40367e-119): result may not be accurate.\n",
            "  overwrite_a=True).T\n",
            "/usr/local/lib/python3.7/dist-packages/sklearn/linear_model/_ridge.py:148: LinAlgWarning: Ill-conditioned matrix (rcond=2.40343e-119): result may not be accurate.\n",
            "  overwrite_a=True).T\n",
            "/usr/local/lib/python3.7/dist-packages/sklearn/linear_model/_ridge.py:148: LinAlgWarning: Ill-conditioned matrix (rcond=2.68891e-119): result may not be accurate.\n",
            "  overwrite_a=True).T\n"
          ],
          "name": "stderr"
        },
        {
          "output_type": "execute_result",
          "data": {
            "text/plain": [
              "(0.7765237020316027, 0.803250259288634, 0.8239277652370203)"
            ]
          },
          "metadata": {
            "tags": []
          },
          "execution_count": 35
        }
      ]
    },
    {
      "cell_type": "code",
      "metadata": {
        "id": "zGE54cerEK47",
        "colab": {
          "base_uri": "https://localhost:8080/"
        },
        "outputId": "2042c4d2-4e40-4739-e37d-81e3526fb745"
      },
      "source": [
        "print(classification_report(Y_test, yhat_test, digits=3))"
      ],
      "execution_count": 36,
      "outputs": [
        {
          "output_type": "stream",
          "text": [
            "              precision    recall  f1-score   support\n",
            "\n",
            "           0      0.802     0.814     0.808       543\n",
            "           1      0.817     0.805     0.811       560\n",
            "\n",
            "    accuracy                          0.810      1103\n",
            "   macro avg      0.810     0.810     0.810      1103\n",
            "weighted avg      0.810     0.810     0.810      1103\n",
            "\n"
          ],
          "name": "stdout"
        }
      ]
    },
    {
      "cell_type": "code",
      "metadata": {
        "id": "5lM85v79EK2f",
        "colab": {
          "base_uri": "https://localhost:8080/"
        },
        "outputId": "44d02cf1-fd63-4118-9e60-fc8d63459b5e"
      },
      "source": [
        "matthews_corrcoef(Y_test, yhat_test)"
      ],
      "execution_count": 37,
      "outputs": [
        {
          "output_type": "execute_result",
          "data": {
            "text/plain": [
              "0.6192801474422293"
            ]
          },
          "metadata": {
            "tags": []
          },
          "execution_count": 37
        }
      ]
    },
    {
      "cell_type": "code",
      "metadata": {
        "id": "en7jnI_nEQSv"
      },
      "source": [
        ""
      ],
      "execution_count": null,
      "outputs": []
    }
  ]
}