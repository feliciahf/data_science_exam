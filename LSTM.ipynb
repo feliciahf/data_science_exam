{
  "nbformat": 4,
  "nbformat_minor": 0,
  "metadata": {
    "colab": {
      "name": "RNN_Working.ipynb",
      "provenance": [],
      "include_colab_link": true
    },
    "kernelspec": {
      "name": "python3",
      "display_name": "Python 3"
    },
    "language_info": {
      "name": "python"
    }
  },
  "cells": [
    {
      "cell_type": "markdown",
      "metadata": {
        "id": "view-in-github",
        "colab_type": "text"
      },
      "source": [
        "<a href=\"https://colab.research.google.com/github/feliciahf/data_science_exam/blob/main/LSTM.ipynb\" target=\"_parent\"><img src=\"https://colab.research.google.com/assets/colab-badge.svg\" alt=\"Open In Colab\"/></a>"
      ]
    },
    {
      "cell_type": "markdown",
      "metadata": {
        "id": "_HAQwDeTzSsP"
      },
      "source": [
        "# LSTM Model\n",
        "Loosely based on the following article and adapted to binary classification:\n",
        "https://towardsdatascience.com/multi-class-text-classification-with-lstm-1590bee1bd17"
      ]
    },
    {
      "cell_type": "markdown",
      "metadata": {
        "id": "npXEZaanar-C"
      },
      "source": [
        "# Import Packages & Data"
      ]
    },
    {
      "cell_type": "code",
      "metadata": {
        "id": "s3qMvcFmZzTM",
        "colab": {
          "base_uri": "https://localhost:8080/"
        },
        "outputId": "689d2ad5-d8ba-49a3-9152-f06c95cdf45d"
      },
      "source": [
        "import pandas as pd\n",
        "import numpy as np\n",
        "\n",
        "# preprocessing\n",
        "import re\n",
        "import nltk \n",
        "from nltk.corpus import stopwords \n",
        "nltk.download('stopwords')\n",
        "\n",
        "# model\n",
        "from keras.preprocessing.text import Tokenizer\n",
        "from keras.preprocessing.sequence import pad_sequences\n",
        "from sklearn.model_selection import train_test_split\n",
        "import keras\n",
        "\n",
        "# plotting\n",
        "import matplotlib.pyplot as plt\n",
        "\n",
        "# accuracies\n",
        "from sklearn.metrics import confusion_matrix, accuracy_score, precision_score, recall_score, f1_score, matthews_corrcoef\n",
        "from sklearn.metrics import precision_recall_fscore_support as score"
      ],
      "execution_count": null,
      "outputs": [
        {
          "output_type": "stream",
          "text": [
            "[nltk_data] Downloading package stopwords to /root/nltk_data...\n",
            "[nltk_data]   Unzipping corpora/stopwords.zip.\n"
          ],
          "name": "stdout"
        }
      ]
    },
    {
      "cell_type": "code",
      "metadata": {
        "id": "0iDMScGZZ3gB"
      },
      "source": [
        "# import csv file as dataframe (from GitHub repo)\n",
        "url = 'https://raw.githubusercontent.com/feliciahf/data_science_exam/main/hippoCorpusV2.csv'\n",
        "df = pd.read_csv(url, encoding='latin1')"
      ],
      "execution_count": null,
      "outputs": []
    },
    {
      "cell_type": "code",
      "metadata": {
        "id": "q8-Osn98Z5QB"
      },
      "source": [
        "# remove retold category\n",
        "df = df[df.memType != 'retold']"
      ],
      "execution_count": null,
      "outputs": []
    },
    {
      "cell_type": "markdown",
      "metadata": {
        "id": "PgANktnAaKPc"
      },
      "source": [
        "#Text preprocessing"
      ]
    },
    {
      "cell_type": "code",
      "metadata": {
        "colab": {
          "base_uri": "https://localhost:8080/"
        },
        "id": "WyVrGPnVaNWm",
        "outputId": "a5291aa5-81a9-4dbf-c4bf-62ae7433d129"
      },
      "source": [
        "# function to test whether preprocessing worked\n",
        "def print_plot(index):\n",
        "    example = df[df.index == index][['story', 'memType']].values[0]\n",
        "    if len(example) > 0:\n",
        "        print(example[0])\n",
        "        print('memType:', example[1])\n",
        "print_plot(10)"
      ],
      "execution_count": null,
      "outputs": [
        {
          "output_type": "stream",
          "text": [
            "About a month ago me and my girlfriend went to the zoo. It was an unexpected trip we just decided to go on a random Wednesday. It was a pretty hot day that day considering it was the middle of July. As soon as we got in, we saw that there were some seals to the left of the entrance so we saw them for a few minutes. Then we went to the insect section of the zoo. There were so many of them like spiders, scorpions, also bigger animals like cobras, rattlesnakes stuff like that. Then we saw the elephants. It was pretty interesting because they were in an area that looked like a jungle and off in the distance we heard gorillas grunting. So we walked around until we found the gorillas and around there we also saw other kinds of primates like chimpanzees. We walked around a bit more and we stumbled upon all the other African animals like tigers, lions, giraffes etc. It was actually pretty cool to see the giraffes because one of them got really close to me. Along the way we saw a lot of different kinds of birds and small animals. We passed by the koalas and other Australian animals like Tasmanian devils, and kangaroos. I would have enjoyed it more though if we had gone on another day. It was really hot that day and we didn't really prepare for it. But I really enjoyed going there and we'll probably go again soon.\n",
            "memType: recalled\n"
          ],
          "name": "stdout"
        }
      ]
    },
    {
      "cell_type": "code",
      "metadata": {
        "id": "ZXzIQNg_aA_2"
      },
      "source": [
        "# function to clean text\n",
        "df = df.reset_index(drop=True)\n",
        "REPLACE_BY_SPACE_RE = re.compile('[/(){}\\[\\]\\|@,;]')\n",
        "BAD_SYMBOLS_RE = re.compile('[^0-9a-z #+_]')\n",
        "STOPWORDS = set(stopwords.words('english'))\n",
        "\n",
        "def clean_text(text):\n",
        "    text = text.lower() # lowercase text\n",
        "    text = REPLACE_BY_SPACE_RE.sub(' ', text) # replace REPLACE_BY_SPACE_RE symbols by space in text. substitute the matched string in REPLACE_BY_SPACE_RE with space.\n",
        "    text = BAD_SYMBOLS_RE.sub('', text) # remove symbols which are in BAD_SYMBOLS_RE from text. substitute the matched string in BAD_SYMBOLS_RE with nothing. \n",
        "    text = text.replace('x', '')\n",
        "#    text = re.sub(r'\\W+', '', text)\n",
        "    text = ' '.join(word for word in text.split() if word not in STOPWORDS) # remove stopwords from text\n",
        "    return text\n",
        "\n",
        "# apply function to stories\n",
        "df['story'] = df['story'].apply(clean_text)\n",
        "df['story'] = df['story'].str.replace('\\d+', '')\n"
      ],
      "execution_count": null,
      "outputs": []
    },
    {
      "cell_type": "code",
      "metadata": {
        "colab": {
          "base_uri": "https://localhost:8080/"
        },
        "id": "xFLsqe30bBEK",
        "outputId": "20a4ce68-e962-4145-ee69-888f8e1acabd"
      },
      "source": [
        "# Print one story to check if it worked\n",
        "print_plot(10)"
      ],
      "execution_count": null,
      "outputs": [
        {
          "output_type": "stream",
          "text": [
            "vacation visit southeast asia every years least small tourist town thailand right pattaya beach fairly late one evening decided roam around city take pictures citizens shops nightclubs etc found rather secluded dingy part city wasnt sure eactly get back hotel looking one motorbike tais didnt see looking around group thais probably early s could tell part gang something like thought sure going get robbed beat across small street giving eye sudden tai went waved frantically saw drove pick got back hotel safely pretty shaken knew things going go badly small gang caught city another two weeks still ventured tried lot careful parts ventured really known better quite countries cities safe even though im somewhat used types environments still scary tourists known disappear never show happens fairly often especially countries completely corrupt police force still travel im little careful city go go particular city\n",
            "memType: imagined\n"
          ],
          "name": "stdout"
        }
      ]
    },
    {
      "cell_type": "code",
      "metadata": {
        "colab": {
          "base_uri": "https://localhost:8080/"
        },
        "id": "Zdn4aEjBb7YX",
        "outputId": "9a051595-65eb-4e07-fd1c-de2cccf74bec"
      },
      "source": [
        "# tokenize data\n",
        "MAX_NB_WORDS = 50000 # max number of tokens in vocabulary\n",
        "MAX_SEQUENCE_LENGTH = 750 # max number of words in each story\n",
        "EMBEDDING_DIM = 100 # dimensions of embedding layer \n",
        "tokenizer = Tokenizer(num_words=MAX_NB_WORDS, filters='!\"#$%&()*+,-./:;<=>?@[\\]^_`{|}~', lower=True)\n",
        "tokenizer.fit_on_texts(df['story'].values)\n",
        "word_index = tokenizer.word_index\n",
        "print('Found %s unique tokens.' % len(word_index))"
      ],
      "execution_count": null,
      "outputs": [
        {
          "output_type": "stream",
          "text": [
            "Found 24496 unique tokens.\n"
          ],
          "name": "stdout"
        }
      ]
    },
    {
      "cell_type": "code",
      "metadata": {
        "colab": {
          "base_uri": "https://localhost:8080/"
        },
        "id": "YyY6EzFTcmlM",
        "outputId": "0c90f3b0-e894-4089-e98b-ed9e85b65678"
      },
      "source": [
        "# create variable with tokenized stories, padded to same length\n",
        "X = tokenizer.texts_to_sequences(df['story'].values)\n",
        "X = pad_sequences(X, maxlen=MAX_SEQUENCE_LENGTH)\n",
        "print('Shape of data tensor:', X.shape)"
      ],
      "execution_count": null,
      "outputs": [
        {
          "output_type": "stream",
          "text": [
            "Shape of data tensor: (5535, 750)\n"
          ],
          "name": "stdout"
        }
      ]
    },
    {
      "cell_type": "code",
      "metadata": {
        "id": "XkVCQeJEO4Tp",
        "colab": {
          "base_uri": "https://localhost:8080/"
        },
        "outputId": "9c887bad-a200-470b-8505-b03bc13c6c08"
      },
      "source": [
        "# make labels column using numerical values\n",
        "df.memType = pd.Categorical(df.memType)\n",
        "df['label'] = df.memType.cat.codes\n",
        "label = df['label'].values\n",
        "\n",
        "# story type corresponding to label\n",
        "print(f\"Label 0: {df.loc[df['label'] == 0,'memType'].unique()}\")\n",
        "print(f\"Label 1: {df.loc[df['label'] == 1,'memType'].unique()}\")"
      ],
      "execution_count": null,
      "outputs": [
        {
          "output_type": "stream",
          "text": [
            "Label 0: ['imagined']\n",
            "Categories (1, object): ['imagined']\n",
            "Label 1: ['recalled']\n",
            "Categories (1, object): ['recalled']\n"
          ],
          "name": "stdout"
        }
      ]
    },
    {
      "cell_type": "code",
      "metadata": {
        "id": "ODDEQFLmQhHg",
        "colab": {
          "base_uri": "https://localhost:8080/"
        },
        "outputId": "3914b0de-edc2-449f-a3b5-b37ef115fa03"
      },
      "source": [
        "# create dummy variable for categories\n",
        "Y = pd.get_dummies(df['memType']).values\n",
        "print('Shape of label tensor:', Y.shape)"
      ],
      "execution_count": null,
      "outputs": [
        {
          "output_type": "stream",
          "text": [
            "Shape of label tensor: (5535, 2)\n"
          ],
          "name": "stdout"
        }
      ]
    },
    {
      "cell_type": "markdown",
      "metadata": {
        "id": "kI9PKV6R00mp"
      },
      "source": [
        "# Split data"
      ]
    },
    {
      "cell_type": "code",
      "metadata": {
        "colab": {
          "base_uri": "https://localhost:8080/"
        },
        "id": "f_CoklJueHXE",
        "outputId": "cdb0f1fd-4a8b-4307-c4b9-b07f77a52bf1"
      },
      "source": [
        "# split data into training and testing using 80/20 split\n",
        "X_train, X_test, Y_train, Y_test, label_train, label_test = train_test_split(X,Y, label, test_size = 0.20, random_state = 42)\n",
        "print(X_train.shape,Y_train.shape)\n",
        "print(X_test.shape,Y_test.shape)"
      ],
      "execution_count": null,
      "outputs": [
        {
          "output_type": "stream",
          "text": [
            "(4428, 750) (4428, 2)\n",
            "(1107, 750) (1107, 2)\n"
          ],
          "name": "stdout"
        }
      ]
    },
    {
      "cell_type": "markdown",
      "metadata": {
        "id": "HoDBAGFEeoKb"
      },
      "source": [
        "# Building Model"
      ]
    },
    {
      "cell_type": "code",
      "metadata": {
        "colab": {
          "base_uri": "https://localhost:8080/"
        },
        "id": "LqrVCG0seSuL",
        "outputId": "bc987930-175b-47ed-ac98-921e1aabf4c2"
      },
      "source": [
        "# use Sequential model\n",
        "model = keras.Sequential()\n",
        "model.add(keras.layers.Embedding(MAX_NB_WORDS, EMBEDDING_DIM, input_length=X.shape[1]))\n",
        "model.add(keras.layers.SpatialDropout1D(0.2))\n",
        "\n",
        "# add stacked LSTM layers using the Sigmoid activation function\n",
        "# return_sequences is true in order to use output layer as input for next layer\n",
        "model.add(keras.layers.LSTM(50, dropout=0.2, recurrent_dropout=0.2))\n",
        "#model.add(keras.layers.LSTM(100, dropout=0.2, recurrent_dropout=0.2, return_sequences=True))\n",
        "#model.add(keras.layers.LSTM(50, dropout=0.2, recurrent_dropout=0.2, return_sequences= True))\n",
        "#model.add(keras.layers.LSTM(25, dropout=0.2, recurrent_dropout=0.2))\n",
        "model.add(keras.layers.Dense(2, activation='sigmoid'))\n",
        "\n",
        "# compile the model using binary cross entropy loss function and Adam optimizer\n",
        "model.compile(loss='binary_crossentropy', optimizer='adam', metrics=['accuracy'])\n",
        "\n",
        "epochs = 2 # set number of epochs\n",
        "batch_size = 32 # set batch size\n",
        "\n",
        "# fit model and output accuracy\n",
        "history = model.fit(X_train, Y_train, epochs=epochs, batch_size=batch_size,validation_split=0.2,callbacks=[keras.callbacks.EarlyStopping(monitor='val_loss', patience=3, min_delta=0.0001)])"
      ],
      "execution_count": null,
      "outputs": [
        {
          "output_type": "stream",
          "text": [
            "Epoch 1/3\n",
            "111/111 [==============================] - 366s 3s/step - loss: 0.6926 - accuracy: 0.5219 - val_loss: 0.6902 - val_accuracy: 0.5711\n",
            "Epoch 2/3\n",
            "111/111 [==============================] - 358s 3s/step - loss: 0.6477 - accuracy: 0.6661 - val_loss: 0.6594 - val_accuracy: 0.6253\n",
            "Epoch 3/3\n",
            "111/111 [==============================] - 358s 3s/step - loss: 0.4746 - accuracy: 0.7908 - val_loss: 0.6784 - val_accuracy: 0.6185\n"
          ],
          "name": "stdout"
        }
      ]
    },
    {
      "cell_type": "markdown",
      "metadata": {
        "id": "N5TxLmmh0m8b"
      },
      "source": [
        "# Model Evaluation"
      ]
    },
    {
      "cell_type": "code",
      "metadata": {
        "colab": {
          "base_uri": "https://localhost:8080/"
        },
        "id": "eMIuSZBPiXsu",
        "outputId": "5745dd98-26ae-4b0d-fb0d-496b9fed0994"
      },
      "source": [
        " # evaluation on test data\n",
        " accr = model.evaluate(X_test,Y_test) \n",
        " print('Test set\\n Loss: {:0.3f}\\n Accuracy: {:0.3f}'.format(accr[0],accr[1]))"
      ],
      "execution_count": null,
      "outputs": [
        {
          "output_type": "stream",
          "text": [
            "35/35 [==============================] - 12s 348ms/step - loss: 0.6824 - accuracy: 0.5953\n",
            "Test set\n",
            " Loss: 0.682\n",
            " Accuracy: 0.595\n"
          ],
          "name": "stdout"
        }
      ]
    },
    {
      "cell_type": "code",
      "metadata": {
        "colab": {
          "base_uri": "https://localhost:8080/",
          "height": 281
        },
        "id": "hw4Eyaejio1_",
        "outputId": "fad3ebf2-f167-4c66-c173-c2e469520c2d"
      },
      "source": [
        "# plot train and test losses across epochs\n",
        "plt.title('Loss')\n",
        "plt.plot(history.history['loss'], label='train')\n",
        "plt.plot(history.history['val_loss'], label='test')\n",
        "plt.legend()\n",
        "plt.show();"
      ],
      "execution_count": null,
      "outputs": [
        {
          "output_type": "display_data",
          "data": {
            "image/png": "[encoded data removed]",
            "text/plain": [
              "<Figure size 432x288 with 1 Axes>"
            ]
          },
          "metadata": {
            "tags": [],
            "needs_background": "light"
          }
        }
      ]
    },
    {
      "cell_type": "code",
      "metadata": {
        "colab": {
          "base_uri": "https://localhost:8080/",
          "height": 281
        },
        "id": "tWC_S6I-qWjH",
        "outputId": "2158efda-c1f4-4529-ccb9-fcb2168fe16e"
      },
      "source": [
        "# plot train and test accuracies across epochs\n",
        "plt.title('Accuracy')\n",
        "plt.plot(history.history['accuracy'], label='train')\n",
        "plt.plot(history.history['val_accuracy'], label='test')\n",
        "plt.legend()\n",
        "plt.show();"
      ],
      "execution_count": null,
      "outputs": [
        {
          "output_type": "display_data",
          "data": {
            "image/png": "[encoded data removed]",
            "text/plain": [
              "<Figure size 432x288 with 1 Axes>"
            ]
          },
          "metadata": {
            "tags": [],
            "needs_background": "light"
          }
        }
      ]
    },
    {
      "cell_type": "code",
      "metadata": {
        "id": "jc00Ax11tLIG",
        "colab": {
          "base_uri": "https://localhost:8080/"
        },
        "outputId": "2c7d083b-f361-4333-bc08-382bb1737d8a"
      },
      "source": [
        "# predict categories on test data\n",
        "Y_pred = model.predict_classes(X_test)\n",
        "Y_pred = pd.get_dummies(Y_pred)"
      ],
      "execution_count": null,
      "outputs": [
        {
          "output_type": "stream",
          "text": [
            "/usr/local/lib/python3.7/dist-packages/tensorflow/python/keras/engine/sequential.py:450: UserWarning: `model.predict_classes()` is deprecated and will be removed after 2021-01-01. Please use instead:* `np.argmax(model.predict(x), axis=-1)`,   if your model does multi-class classification   (e.g. if it uses a `softmax` last-layer activation).* `(model.predict(x) > 0.5).astype(\"int32\")`,   if your model does binary classification   (e.g. if it uses a `sigmoid` last-layer activation).\n",
            "  warnings.warn('`model.predict_classes()` is deprecated and '\n"
          ],
          "name": "stderr"
        }
      ]
    },
    {
      "cell_type": "code",
      "metadata": {
        "id": "t69Sqw45YwP1",
        "colab": {
          "base_uri": "https://localhost:8080/"
        },
        "outputId": "1e46c462-1239-4741-d372-138f78c1cb27"
      },
      "source": [
        "# compute overall accuracy, precision, recall, f1 scores\n",
        "print('Accuracy: ', accuracy_score(Y_test, Y_pred))\n",
        "print('Precision: ', precision_score(Y_test, Y_pred, average='weighted', zero_division=1)) # weighted = same as macroaveraging but with auto weights\n",
        "print('Recall: ', recall_score(Y_test, Y_pred, average='weighted', zero_division=1))\n",
        "print('F1:', f1_score(Y_test, Y_pred, average='weighted'))"
      ],
      "execution_count": null,
      "outputs": [
        {
          "output_type": "stream",
          "text": [
            "Accuracy:  0.5953026196928636\n",
            "Precision:  0.6006363703182089\n",
            "Recall:  0.5953026196928636\n",
            "F1: 0.5804880887248254\n"
          ],
          "name": "stdout"
        }
      ]
    },
    {
      "cell_type": "code",
      "metadata": {
        "id": "0NJK97Uysbo9",
        "colab": {
          "base_uri": "https://localhost:8080/"
        },
        "outputId": "d47873bf-b18c-479c-8b70-8fa1ac38896a"
      },
      "source": [
        "# create confusion matrix of true and predicted labels\n",
        "confusion_matrix(label_test, model.predict_classes(X_test))"
      ],
      "execution_count": null,
      "outputs": [
        {
          "output_type": "stream",
          "text": [
            "/usr/local/lib/python3.7/dist-packages/tensorflow/python/keras/engine/sequential.py:450: UserWarning: `model.predict_classes()` is deprecated and will be removed after 2021-01-01. Please use instead:* `np.argmax(model.predict(x), axis=-1)`,   if your model does multi-class classification   (e.g. if it uses a `softmax` last-layer activation).* `(model.predict(x) > 0.5).astype(\"int32\")`,   if your model does binary classification   (e.g. if it uses a `sigmoid` last-layer activation).\n",
            "  warnings.warn('`model.predict_classes()` is deprecated and '\n"
          ],
          "name": "stderr"
        },
        {
          "output_type": "execute_result",
          "data": {
            "text/plain": [
              "array([[446, 132],\n",
              "       [316, 213]])"
            ]
          },
          "metadata": {
            "tags": []
          },
          "execution_count": 29
        }
      ]
    },
    {
      "cell_type": "code",
      "metadata": {
        "id": "-3LKPUQQYwNl",
        "colab": {
          "base_uri": "https://localhost:8080/"
        },
        "outputId": "0b1da72a-0954-4bdf-a24e-1b6abe0142bd"
      },
      "source": [
        "# compute precision, recall, fscore, support scores by category\n",
        "precision, recall, fscore, support = score(Y_test, Y_pred)\n",
        "\n",
        "# show accuracies for each category in dataframe\n",
        "df_acc = pd.DataFrame()\n",
        "df_acc['precision']=pd.Series(precision)\n",
        "df_acc['recall']=pd.Series(recall)\n",
        "df_acc['fscore']=pd.Series(fscore)\n",
        "df_acc['support']=pd.Series(support)\n",
        "print(df_acc)"
      ],
      "execution_count": null,
      "outputs": [
        {
          "output_type": "stream",
          "text": [
            "   precision    recall    fscore  support\n",
            "0   0.585302  0.771626  0.665672      578\n",
            "1   0.617391  0.402647  0.487414      529\n"
          ],
          "name": "stdout"
        }
      ]
    },
    {
      "cell_type": "code",
      "metadata": {
        "id": "tyrAGpIWHBQJ",
        "colab": {
          "base_uri": "https://localhost:8080/"
        },
        "outputId": "fc0b49fd-4ff9-43fd-8741-52158433bab0"
      },
      "source": [
        "# Compute Matthews correlation coefficient\n",
        "matthews_corrcoef(label_test, model.predict_classes(X_test))"
      ],
      "execution_count": null,
      "outputs": [
        {
          "output_type": "stream",
          "text": [
            "/usr/local/lib/python3.7/dist-packages/tensorflow/python/keras/engine/sequential.py:450: UserWarning: `model.predict_classes()` is deprecated and will be removed after 2021-01-01. Please use instead:* `np.argmax(model.predict(x), axis=-1)`,   if your model does multi-class classification   (e.g. if it uses a `softmax` last-layer activation).* `(model.predict(x) > 0.5).astype(\"int32\")`,   if your model does binary classification   (e.g. if it uses a `sigmoid` last-layer activation).\n",
            "  warnings.warn('`model.predict_classes()` is deprecated and '\n"
          ],
          "name": "stderr"
        },
        {
          "output_type": "execute_result",
          "data": {
            "text/plain": [
              "0.18794653871350372"
            ]
          },
          "metadata": {
            "tags": []
          },
          "execution_count": 31
        }
      ]
    },
    {
      "cell_type": "code",
      "metadata": {
        "id": "flZlJgW5WWD3"
      },
      "source": [
        ""
      ],
      "execution_count": null,
      "outputs": []
    }
  ]
}