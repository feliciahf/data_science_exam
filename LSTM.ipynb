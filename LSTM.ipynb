{
  "nbformat": 4,
  "nbformat_minor": 0,
  "metadata": {
    "colab": {
      "name": "LSTM.ipynb",
      "provenance": [],
      "include_colab_link": true
    },
    "kernelspec": {
      "display_name": "Python 3",
      "name": "python3"
    },
    "language_info": {
      "name": "python"
    }
  },
  "cells": [
    {
      "cell_type": "markdown",
      "metadata": {
        "id": "view-in-github",
        "colab_type": "text"
      },
      "source": [
        "<a href=\"https://colab.research.google.com/github/feliciahf/data_science_exam/blob/main/LSTM.ipynb\" target=\"_parent\"><img src=\"https://colab.research.google.com/assets/colab-badge.svg\" alt=\"Open In Colab\"/></a>"
      ]
    },
    {
      "cell_type": "markdown",
      "metadata": {
        "id": "npXEZaanar-C"
      },
      "source": [
        "# RNN with LSTM architecture\n",
        "\n",
        "Loosely based on the following article and adapted to binary classification:\n",
        "https://towardsdatascience.com/multi-class-text-classification-with-lstm-1590bee1bd17"
      ]
    },
    {
      "cell_type": "code",
      "metadata": {
        "colab": {
          "base_uri": "https://localhost:8080/"
        },
        "id": "s3qMvcFmZzTM",
        "outputId": "afb1fae2-8dfb-4ae0-8421-975b181bdbac"
      },
      "source": [
        "import pandas as pd\n",
        "import numpy as np\n",
        "\n",
        "# preprocessing\n",
        "import re\n",
        "import nltk \n",
        "from nltk.corpus import stopwords \n",
        "nltk.download('stopwords')\n",
        "\n",
        "# model\n",
        "from keras.preprocessing.text import Tokenizer\n",
        "from keras.preprocessing.sequence import pad_sequences\n",
        "from sklearn.model_selection import train_test_split\n",
        "import keras\n",
        "\n",
        "# plotting\n",
        "import matplotlib.pyplot as plt\n",
        "\n",
        "# accuracies\n",
        "from sklearn.metrics import confusion_matrix, accuracy_score, precision_score, recall_score, f1_score, matthews_corrcoef\n",
        "from sklearn.metrics import precision_recall_fscore_support as score"
      ],
      "execution_count": 1,
      "outputs": [
        {
          "output_type": "stream",
          "text": [
            "[nltk_data] Downloading package stopwords to /root/nltk_data...\n",
            "[nltk_data]   Unzipping corpora/stopwords.zip.\n"
          ],
          "name": "stdout"
        }
      ]
    },
    {
      "cell_type": "code",
      "metadata": {
        "id": "0iDMScGZZ3gB"
      },
      "source": [
        "# import csv file as dataframe (from GitHub repo)\n",
        "url = 'https://raw.githubusercontent.com/feliciahf/data_science_exam/main/hippoCorpusV2.csv'\n",
        "df = pd.read_csv(url, encoding='latin1')"
      ],
      "execution_count": 2,
      "outputs": []
    },
    {
      "cell_type": "code",
      "metadata": {
        "id": "q8-Osn98Z5QB"
      },
      "source": [
        "# remove retold category\n",
        "df = df[df.memType != 'retold']"
      ],
      "execution_count": 3,
      "outputs": []
    },
    {
      "cell_type": "markdown",
      "metadata": {
        "id": "PgANktnAaKPc"
      },
      "source": [
        "#Text preprocessing"
      ]
    },
    {
      "cell_type": "code",
      "metadata": {
        "colab": {
          "base_uri": "https://localhost:8080/"
        },
        "id": "WyVrGPnVaNWm",
        "outputId": "321b2003-0192-4d38-ab77-13263567e9ac"
      },
      "source": [
        "# function to test whether preprocessing worked\n",
        "def print_plot(index):\n",
        "    example = df[df.index == index][['story', 'memType']].values[0]\n",
        "    if len(example) > 0:\n",
        "        print(example[0])\n",
        "        print('memType:', example[1])\n",
        "print_plot(10)"
      ],
      "execution_count": 4,
      "outputs": [
        {
          "output_type": "stream",
          "text": [
            "About a month ago me and my girlfriend went to the zoo. It was an unexpected trip we just decided to go on a random Wednesday. It was a pretty hot day that day considering it was the middle of July. As soon as we got in, we saw that there were some seals to the left of the entrance so we saw them for a few minutes. Then we went to the insect section of the zoo. There were so many of them like spiders, scorpions, also bigger animals like cobras, rattlesnakes stuff like that. Then we saw the elephants. It was pretty interesting because they were in an area that looked like a jungle and off in the distance we heard gorillas grunting. So we walked around until we found the gorillas and around there we also saw other kinds of primates like chimpanzees. We walked around a bit more and we stumbled upon all the other African animals like tigers, lions, giraffes etc. It was actually pretty cool to see the giraffes because one of them got really close to me. Along the way we saw a lot of different kinds of birds and small animals. We passed by the koalas and other Australian animals like Tasmanian devils, and kangaroos. I would have enjoyed it more though if we had gone on another day. It was really hot that day and we didn't really prepare for it. But I really enjoyed going there and we'll probably go again soon.\n",
            "memType: recalled\n"
          ],
          "name": "stdout"
        }
      ]
    },
    {
      "cell_type": "code",
      "metadata": {
        "id": "ZXzIQNg_aA_2"
      },
      "source": [
        "# function to clean text\n",
        "df = df.reset_index(drop=True)\n",
        "REPLACE_BY_SPACE_RE = re.compile('[/(){}\\[\\]\\|@,;]')\n",
        "BAD_SYMBOLS_RE = re.compile('[^0-9a-z #+_]')\n",
        "STOPWORDS = set(stopwords.words('english'))\n",
        "\n",
        "def clean_text(text):\n",
        "    text = text.lower() # lowercase text\n",
        "    text = REPLACE_BY_SPACE_RE.sub(' ', text) # replace REPLACE_BY_SPACE_RE symbols by space in text. \n",
        "    text = BAD_SYMBOLS_RE.sub('', text) # remove symbols which are in BAD_SYMBOLS_RE from text.  \n",
        "    text = text.replace('x', '')\n",
        "    text = ' '.join(word for word in text.split() if word not in STOPWORDS) # remove stopwords from text\n",
        "    return text\n",
        "\n",
        "# apply function to stories\n",
        "df['story'] = df['story'].apply(clean_text)\n",
        "df['story'] = df['story'].str.replace('\\d+', '')\n"
      ],
      "execution_count": 5,
      "outputs": []
    },
    {
      "cell_type": "code",
      "metadata": {
        "colab": {
          "base_uri": "https://localhost:8080/"
        },
        "id": "xFLsqe30bBEK",
        "outputId": "86f2d4d1-6d76-410a-e884-e99d1595b0cd"
      },
      "source": [
        "# Print one story to check if it worked\n",
        "print_plot(10)"
      ],
      "execution_count": 6,
      "outputs": [
        {
          "output_type": "stream",
          "text": [
            "vacation visit southeast asia every years least small tourist town thailand right pattaya beach fairly late one evening decided roam around city take pictures citizens shops nightclubs etc found rather secluded dingy part city wasnt sure eactly get back hotel looking one motorbike tais didnt see looking around group thais probably early s could tell part gang something like thought sure going get robbed beat across small street giving eye sudden tai went waved frantically saw drove pick got back hotel safely pretty shaken knew things going go badly small gang caught city another two weeks still ventured tried lot careful parts ventured really known better quite countries cities safe even though im somewhat used types environments still scary tourists known disappear never show happens fairly often especially countries completely corrupt police force still travel im little careful city go go particular city\n",
            "memType: imagined\n"
          ],
          "name": "stdout"
        }
      ]
    },
    {
      "cell_type": "code",
      "metadata": {
        "colab": {
          "base_uri": "https://localhost:8080/"
        },
        "id": "Zdn4aEjBb7YX",
        "outputId": "ae573ca0-9128-48d0-c308-2f132d2d186d"
      },
      "source": [
        "# tokenize data\n",
        "MAX_NB_WORDS = 50000 # max number of tokens in vocabulary\n",
        "MAX_SEQUENCE_LENGTH = 750 # max number of words in each story\n",
        "EMBEDDING_DIM = 100 # dimensions of embedding layer \n",
        "tokenizer = Tokenizer(num_words=MAX_NB_WORDS, filters='!\"#$%&()*+,-./:;<=>?@[\\]^_`{|}~', lower=True)\n",
        "tokenizer.fit_on_texts(df['story'].values)\n",
        "word_index = tokenizer.word_index\n",
        "print('Found %s unique tokens.' % len(word_index))"
      ],
      "execution_count": 7,
      "outputs": [
        {
          "output_type": "stream",
          "text": [
            "Found 24496 unique tokens.\n"
          ],
          "name": "stdout"
        }
      ]
    },
    {
      "cell_type": "code",
      "metadata": {
        "colab": {
          "base_uri": "https://localhost:8080/"
        },
        "id": "YyY6EzFTcmlM",
        "outputId": "f4e79a9f-e1ab-450c-c16b-a9c55f6c3777"
      },
      "source": [
        "# create variable with tokenized stories, padded to same length\n",
        "X = tokenizer.texts_to_sequences(df['story'].values)\n",
        "X = pad_sequences(X, maxlen=MAX_SEQUENCE_LENGTH)\n",
        "print('Shape of data tensor:', X.shape)"
      ],
      "execution_count": 8,
      "outputs": [
        {
          "output_type": "stream",
          "text": [
            "Shape of data tensor: (5535, 750)\n"
          ],
          "name": "stdout"
        }
      ]
    },
    {
      "cell_type": "code",
      "metadata": {
        "colab": {
          "base_uri": "https://localhost:8080/"
        },
        "id": "XkVCQeJEO4Tp",
        "outputId": "ea15ae1c-d875-423a-e3a7-c71a58abafe7"
      },
      "source": [
        "# make labels column using numerical values\n",
        "df.memType = pd.Categorical(df.memType)\n",
        "df['label'] = df.memType.cat.codes\n",
        "label = df['label'].values\n",
        "\n",
        "# story type corresponding to label\n",
        "print(f\"Label 0: {df.loc[df['label'] == 0,'memType'].unique()}\")\n",
        "print(f\"Label 1: {df.loc[df['label'] == 1,'memType'].unique()}\")"
      ],
      "execution_count": 9,
      "outputs": [
        {
          "output_type": "stream",
          "text": [
            "Label 0: ['imagined']\n",
            "Categories (1, object): ['imagined']\n",
            "Label 1: ['recalled']\n",
            "Categories (1, object): ['recalled']\n"
          ],
          "name": "stdout"
        }
      ]
    },
    {
      "cell_type": "code",
      "metadata": {
        "colab": {
          "base_uri": "https://localhost:8080/"
        },
        "id": "ODDEQFLmQhHg",
        "outputId": "e1d06eb5-a14e-44f7-f163-4159f44f2833"
      },
      "source": [
        "# create dummy variable for categories\n",
        "Y = pd.get_dummies(df['memType']).values\n",
        "print('Shape of label tensor:', Y.shape)"
      ],
      "execution_count": 10,
      "outputs": [
        {
          "output_type": "stream",
          "text": [
            "Shape of label tensor: (5535, 2)\n"
          ],
          "name": "stdout"
        }
      ]
    },
    {
      "cell_type": "markdown",
      "metadata": {
        "id": "Mnq_6pRY-emK"
      },
      "source": [
        "#Split data"
      ]
    },
    {
      "cell_type": "code",
      "metadata": {
        "colab": {
          "base_uri": "https://localhost:8080/"
        },
        "id": "f_CoklJueHXE",
        "outputId": "ad4ac46f-eb73-4e07-ddd3-6362d9e5e3de"
      },
      "source": [
        "# split data into training and testing using 80/20 split\n",
        "X_train, X_test, Y_train, Y_test, label_train, label_test = train_test_split(X,Y, label, test_size = 0.20, random_state = 42)\n",
        "print(X_train.shape,Y_train.shape)\n",
        "print(X_test.shape,Y_test.shape)"
      ],
      "execution_count": 11,
      "outputs": [
        {
          "output_type": "stream",
          "text": [
            "(4428, 750) (4428, 2)\n",
            "(1107, 750) (1107, 2)\n"
          ],
          "name": "stdout"
        }
      ]
    },
    {
      "cell_type": "markdown",
      "metadata": {
        "id": "HoDBAGFEeoKb"
      },
      "source": [
        "\n",
        "\n",
        "# Building the model with one LSTM layer"
      ]
    },
    {
      "cell_type": "code",
      "metadata": {
        "colab": {
          "base_uri": "https://localhost:8080/"
        },
        "id": "QFoHKXCFgH0c",
        "outputId": "0d8eca93-0c98-4ba1-b1f1-91ad79b0c771"
      },
      "source": [
        "# use Sequential model\n",
        "model = keras.Sequential()\n",
        "model.add(keras.layers.Embedding(MAX_NB_WORDS, EMBEDDING_DIM, input_length=X.shape[1]))\n",
        "model.add(keras.layers.SpatialDropout1D(0.2))\n",
        "\n",
        "# add a lstm layer using the Sigmoid activation function\n",
        "model.add(keras.layers.LSTM(50, dropout=0.2, recurrent_dropout=0.2))\n",
        "model.add(keras.layers.Dense(2, activation='sigmoid'))\n",
        "\n",
        "# compile the model using binary cross entropy loss function and Adam optimizer\n",
        "model.compile(loss='binary_crossentropy', optimizer='adam', metrics=['accuracy'])\n",
        "\n",
        "epochs = 2 # set number of epochs\n",
        "batch_size = 32 # set batch size\n",
        "\n",
        "# fit model and output accuracy\n",
        "history = model.fit(X_train, Y_train, epochs=epochs, batch_size=batch_size,validation_split=0.2,callbacks=[keras.callbacks.EarlyStopping(monitor='val_loss', patience=3, min_delta=0.0001)])"
      ],
      "execution_count": 12,
      "outputs": [
        {
          "output_type": "stream",
          "text": [
            "Epoch 1/2\n",
            "111/111 [==============================] - 158s 1s/step - loss: 0.6928 - accuracy: 0.5154 - val_loss: 0.6683 - val_accuracy: 0.6219\n",
            "Epoch 2/2\n",
            "111/111 [==============================] - 130s 1s/step - loss: 0.5991 - accuracy: 0.7026 - val_loss: 0.6589 - val_accuracy: 0.6275\n"
          ],
          "name": "stdout"
        }
      ]
    },
    {
      "cell_type": "code",
      "metadata": {
        "id": "kLPiXuAhimaZ",
        "colab": {
          "base_uri": "https://localhost:8080/"
        },
        "outputId": "7d5d3705-3407-4df3-e8ff-601a61ad3b40"
      },
      "source": [
        "# evaluation on test data\n",
        "accr = model.evaluate(X_test,Y_test) \n",
        "print('Test set\\n Loss: {:0.3f}\\n Accuracy: {:0.3f}'.format(accr[0],accr[1]))"
      ],
      "execution_count": 13,
      "outputs": [
        {
          "output_type": "stream",
          "text": [
            "35/35 [==============================] - 5s 129ms/step - loss: 0.6803 - accuracy: 0.6143\n",
            "Test set\n",
            " Loss: 0.680\n",
            " Accuracy: 0.614\n"
          ],
          "name": "stdout"
        }
      ]
    },
    {
      "cell_type": "code",
      "metadata": {
        "id": "zQKw483citDn",
        "colab": {
          "base_uri": "https://localhost:8080/",
          "height": 281
        },
        "outputId": "7de94495-87b3-45fd-95a7-d9314b1c74e9"
      },
      "source": [
        "# plot train and test losses across epochs\n",
        "plt.title('Loss')\n",
        "plt.plot(history.history['loss'], label='train')\n",
        "plt.plot(history.history['val_loss'], label='test')\n",
        "plt.legend()\n",
        "plt.show();"
      ],
      "execution_count": 14,
      "outputs": [
        {
          "output_type": "display_data",
          "data": {
            "image/png": "[encoded data removed]",
            "text/plain": [
              "<Figure size 432x288 with 1 Axes>"
            ]
          },
          "metadata": {
            "tags": [],
            "needs_background": "light"
          }
        }
      ]
    },
    {
      "cell_type": "code",
      "metadata": {
        "colab": {
          "base_uri": "https://localhost:8080/"
        },
        "id": "FfBzmZ8IIsPW",
        "outputId": "413aaec9-f758-40e1-e5aa-3447408f655d"
      },
      "source": [
        "# predict categories on test data\n",
        "Y_pred = model.predict_classes(X_test)\n",
        "Y_pred = pd.get_dummies(Y_pred)"
      ],
      "execution_count": 16,
      "outputs": [
        {
          "output_type": "stream",
          "text": [
            "/usr/local/lib/python3.7/dist-packages/keras/engine/sequential.py:450: UserWarning: `model.predict_classes()` is deprecated and will be removed after 2021-01-01. Please use instead:* `np.argmax(model.predict(x), axis=-1)`,   if your model does multi-class classification   (e.g. if it uses a `softmax` last-layer activation).* `(model.predict(x) > 0.5).astype(\"int32\")`,   if your model does binary classification   (e.g. if it uses a `sigmoid` last-layer activation).\n",
            "  warnings.warn('`model.predict_classes()` is deprecated and '\n"
          ],
          "name": "stderr"
        }
      ]
    },
    {
      "cell_type": "code",
      "metadata": {
        "colab": {
          "base_uri": "https://localhost:8080/"
        },
        "id": "N3JYfSu6BeXB",
        "outputId": "e6d09409-130f-444e-d0cb-fe6438d9f511"
      },
      "source": [
        "# compute overall accuracy, precision, recall, f1 scores\n",
        "print('Accuracy: ', accuracy_score(Y_test, Y_pred))\n",
        "print('Precision: ', precision_score(Y_test, Y_pred, average='weighted', zero_division=1)) # weighted = same as macroaveraging but with auto weights\n",
        "print('Recall: ', recall_score(Y_test, Y_pred, average='weighted', zero_division=1))\n",
        "print('F1:', f1_score(Y_test, Y_pred, average='weighted'))"
      ],
      "execution_count": 17,
      "outputs": [
        {
          "output_type": "stream",
          "text": [
            "Accuracy:  0.6142728093947606\n",
            "Precision:  0.6155876956937063\n",
            "Recall:  0.6142728093947606\n",
            "F1: 0.6144484941390583\n"
          ],
          "name": "stdout"
        }
      ]
    },
    {
      "cell_type": "code",
      "metadata": {
        "colab": {
          "base_uri": "https://localhost:8080/"
        },
        "id": "gsb-0iVHB1BL",
        "outputId": "9f66766e-4e24-4fc3-cabe-9decd8d1e4b0"
      },
      "source": [
        "# confusion matrix\n",
        "confusion_matrix(label_test, model.predict_classes(X_test))"
      ],
      "execution_count": 18,
      "outputs": [
        {
          "output_type": "stream",
          "text": [
            "/usr/local/lib/python3.7/dist-packages/keras/engine/sequential.py:450: UserWarning: `model.predict_classes()` is deprecated and will be removed after 2021-01-01. Please use instead:* `np.argmax(model.predict(x), axis=-1)`,   if your model does multi-class classification   (e.g. if it uses a `softmax` last-layer activation).* `(model.predict(x) > 0.5).astype(\"int32\")`,   if your model does binary classification   (e.g. if it uses a `sigmoid` last-layer activation).\n",
            "  warnings.warn('`model.predict_classes()` is deprecated and '\n"
          ],
          "name": "stderr"
        },
        {
          "output_type": "execute_result",
          "data": {
            "text/plain": [
              "array([[349, 229],\n",
              "       [198, 331]])"
            ]
          },
          "metadata": {
            "tags": []
          },
          "execution_count": 18
        }
      ]
    },
    {
      "cell_type": "code",
      "metadata": {
        "colab": {
          "base_uri": "https://localhost:8080/"
        },
        "id": "hCCKqX0tBwOg",
        "outputId": "68dbe15b-71aa-450c-a51d-5d4505675792"
      },
      "source": [
        "# compute precision, recall, fscore, support scores by category\n",
        "precision, recall, fscore, support = score(Y_test, Y_pred)\n",
        "\n",
        "# show accuracies for each category in dataframe\n",
        "df_acc = pd.DataFrame()\n",
        "df_acc['precision']=pd.Series(precision)\n",
        "df_acc['recall']=pd.Series(recall)\n",
        "df_acc['fscore']=pd.Series(fscore)\n",
        "df_acc['support']=pd.Series(support)\n",
        "print(df_acc)"
      ],
      "execution_count": 19,
      "outputs": [
        {
          "output_type": "stream",
          "text": [
            "   precision    recall    fscore  support\n",
            "0   0.638026  0.603806  0.620444      578\n",
            "1   0.591071  0.625709  0.607897      529\n"
          ],
          "name": "stdout"
        }
      ]
    },
    {
      "cell_type": "code",
      "metadata": {
        "colab": {
          "base_uri": "https://localhost:8080/"
        },
        "id": "W2yFQTHAEZt5",
        "outputId": "904f4626-4cb1-4eb6-e49a-2886c5e9b8e7"
      },
      "source": [
        "# Matthews correlation coefficient\n",
        "matthews_corrcoef(label_test, model.predict_classes(X_test))"
      ],
      "execution_count": 20,
      "outputs": [
        {
          "output_type": "stream",
          "text": [
            "/usr/local/lib/python3.7/dist-packages/keras/engine/sequential.py:450: UserWarning: `model.predict_classes()` is deprecated and will be removed after 2021-01-01. Please use instead:* `np.argmax(model.predict(x), axis=-1)`,   if your model does multi-class classification   (e.g. if it uses a `softmax` last-layer activation).* `(model.predict(x) > 0.5).astype(\"int32\")`,   if your model does binary classification   (e.g. if it uses a `sigmoid` last-layer activation).\n",
            "  warnings.warn('`model.predict_classes()` is deprecated and '\n"
          ],
          "name": "stderr"
        },
        {
          "output_type": "execute_result",
          "data": {
            "text/plain": [
              "0.22930597260430854"
            ]
          },
          "metadata": {
            "tags": []
          },
          "execution_count": 20
        }
      ]
    },
    {
      "cell_type": "markdown",
      "metadata": {
        "id": "McvqZVI7iuBK"
      },
      "source": [
        "## The model with three LSTM layers"
      ]
    },
    {
      "cell_type": "code",
      "metadata": {
        "colab": {
          "base_uri": "https://localhost:8080/"
        },
        "id": "LqrVCG0seSuL",
        "outputId": "4a382f3f-3e6c-457c-e279-4e7074d8ba78"
      },
      "source": [
        "# use Sequential model\n",
        "model = keras.Sequential()\n",
        "model.add(keras.layers.Embedding(MAX_NB_WORDS, EMBEDDING_DIM, input_length=X.shape[1]))\n",
        "model.add(keras.layers.SpatialDropout1D(0.2))\n",
        "\n",
        "# add stacked LSTM layers using the Sigmoid activation function\n",
        "# return_sequences is true in order to use output layer as input for next layer\n",
        "model.add(keras.layers.LSTM(100, dropout=0.2, recurrent_dropout=0.2, return_sequences=True))\n",
        "model.add(keras.layers.LSTM(50, dropout=0.2, recurrent_dropout=0.2, return_sequences= True))\n",
        "model.add(keras.layers.LSTM(25, dropout=0.2, recurrent_dropout=0.2))\n",
        "model.add(keras.layers.Dense(2, activation='sigmoid'))\n",
        "\n",
        "# compile the model using binary cross entropy loss function and Adam optimizer\n",
        "model.compile(loss='binary_crossentropy', optimizer='adam', metrics=['accuracy'])\n",
        "\n",
        "epochs = 2 # set number of epochs\n",
        "batch_size = 16 # set batch size\n",
        "\n",
        "# fit model and output accuracy\n",
        "history = model.fit(X_train, Y_train, epochs=epochs, batch_size=batch_size,validation_split=0.2,callbacks=[keras.callbacks.EarlyStopping(monitor='val_loss', patience=3, min_delta=0.0001)])"
      ],
      "execution_count": 21,
      "outputs": [
        {
          "output_type": "stream",
          "text": [
            "Epoch 1/2\n",
            "222/222 [==============================] - 666s 3s/step - loss: 0.6931 - accuracy: 0.4853 - val_loss: 0.6924 - val_accuracy: 0.5327\n",
            "Epoch 2/2\n",
            "222/222 [==============================] - 629s 3s/step - loss: 0.6941 - accuracy: 0.5065 - val_loss: 0.6925 - val_accuracy: 0.5327\n"
          ],
          "name": "stdout"
        }
      ]
    },
    {
      "cell_type": "code",
      "metadata": {
        "colab": {
          "base_uri": "https://localhost:8080/"
        },
        "id": "eMIuSZBPiXsu",
        "outputId": "0ec3d841-d0d6-43d0-f9aa-9f8ee914a72a"
      },
      "source": [
        " # evaluation on test data\n",
        " accr = model.evaluate(X_test,Y_test) \n",
        " print('Test set\\n Loss: {:0.3f}\\n Accuracy: {:0.3f}'.format(accr[0],accr[1]))"
      ],
      "execution_count": 22,
      "outputs": [
        {
          "output_type": "stream",
          "text": [
            "35/35 [==============================] - 13s 362ms/step - loss: 0.6935 - accuracy: 0.4779\n",
            "Test set\n",
            " Loss: 0.693\n",
            " Accuracy: 0.478\n"
          ],
          "name": "stdout"
        }
      ]
    },
    {
      "cell_type": "code",
      "metadata": {
        "colab": {
          "base_uri": "https://localhost:8080/",
          "height": 281
        },
        "id": "hw4Eyaejio1_",
        "outputId": "514472af-67b7-4956-d1f5-3d9185b5be8e"
      },
      "source": [
        "# plot train and test losses across epochs\n",
        "plt.title('Loss')\n",
        "plt.plot(history.history['loss'], label='train')\n",
        "plt.plot(history.history['val_loss'], label='test')\n",
        "plt.legend()\n",
        "plt.show();"
      ],
      "execution_count": 23,
      "outputs": [
        {
          "output_type": "display_data",
          "data": {
            "image/png": "[encoded data removed]",
            "text/plain": [
              "<Figure size 432x288 with 1 Axes>"
            ]
          },
          "metadata": {
            "tags": [],
            "needs_background": "light"
          }
        }
      ]
    },
    {
      "cell_type": "code",
      "metadata": {
        "colab": {
          "base_uri": "https://localhost:8080/",
          "height": 281
        },
        "id": "tWC_S6I-qWjH",
        "outputId": "5482b271-0c87-4130-a25e-30c32a548e75"
      },
      "source": [
        "# plot train and test accuracies across epochs\n",
        "plt.title('Accuracy')\n",
        "plt.plot(history.history['accuracy'], label='train')\n",
        "plt.plot(history.history['val_accuracy'], label='test')\n",
        "plt.legend()\n",
        "plt.show();"
      ],
      "execution_count": 24,
      "outputs": [
        {
          "output_type": "display_data",
          "data": {
            "image/png": "[encoded data removed]",
            "text/plain": [
              "<Figure size 432x288 with 1 Axes>"
            ]
          },
          "metadata": {
            "tags": [],
            "needs_background": "light"
          }
        }
      ]
    },
    {
      "cell_type": "code",
      "metadata": {
        "colab": {
          "base_uri": "https://localhost:8080/"
        },
        "id": "jc00Ax11tLIG",
        "outputId": "3309f7a9-5e3c-4804-c40d-3bdb37baa921"
      },
      "source": [
        "# predict categories on test data\n",
        "Y_pred = model.predict_classes(X_test)\n",
        "Y_pred = pd.get_dummies(Y_pred)"
      ],
      "execution_count": 31,
      "outputs": [
        {
          "output_type": "stream",
          "text": [
            "/usr/local/lib/python3.7/dist-packages/keras/engine/sequential.py:450: UserWarning: `model.predict_classes()` is deprecated and will be removed after 2021-01-01. Please use instead:* `np.argmax(model.predict(x), axis=-1)`,   if your model does multi-class classification   (e.g. if it uses a `softmax` last-layer activation).* `(model.predict(x) > 0.5).astype(\"int32\")`,   if your model does binary classification   (e.g. if it uses a `sigmoid` last-layer activation).\n",
            "  warnings.warn('`model.predict_classes()` is deprecated and '\n"
          ],
          "name": "stderr"
        }
      ]
    },
    {
      "cell_type": "code",
      "metadata": {
        "colab": {
          "base_uri": "https://localhost:8080/"
        },
        "id": "t69Sqw45YwP1",
        "outputId": "657f3ed9-bc45-400a-b996-dac2ae847e1a"
      },
      "source": [
        "# compute overall accuracy, precision, recall, f1 scores\n",
        "print('Accuracy: ', accuracy_score(label_test, Y_pred))\n",
        "print('Precision: ', precision_score(label_test, Y_pred, average='weighted', zero_division=1)) # weighted = same as macroaveraging but with auto weights\n",
        "print('Recall: ', recall_score(label_test, Y_pred, average='weighted', zero_division=1))\n",
        "print('F1:', f1_score(label_test, Y_pred, average='weighted'))"
      ],
      "execution_count": 36,
      "outputs": [
        {
          "output_type": "stream",
          "text": [
            "Accuracy:  0.4778681120144535\n",
            "Precision:  0.7504898204658048\n",
            "Recall:  0.4778681120144535\n",
            "F1: 0.30903695752523946\n"
          ],
          "name": "stdout"
        }
      ]
    }
  ]
}