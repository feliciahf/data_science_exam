{
  "nbformat": 4,
  "nbformat_minor": 0,
  "metadata": {
    "colab": {
      "name": "XGBoost.ipynb",
      "provenance": [],
      "include_colab_link": true
    },
    "kernelspec": {
      "name": "python3",
      "display_name": "Python 3"
    },
    "language_info": {
      "name": "python"
    }
  },
  "cells": [
    {
      "cell_type": "markdown",
      "metadata": {
        "id": "view-in-github",
        "colab_type": "text"
      },
      "source": [
        "<a href=\"https://colab.research.google.com/github/feliciahf/data_science_exam/blob/main/XGBoost.ipynb\" target=\"_parent\"><img src=\"https://colab.research.google.com/assets/colab-badge.svg\" alt=\"Open In Colab\"/></a>"
      ]
    },
    {
      "cell_type": "markdown",
      "metadata": {
        "id": "bZqO6BkcPctz"
      },
      "source": [
        "# XG Boost Model"
      ]
    },
    {
      "cell_type": "markdown",
      "metadata": {
        "id": "Mmprhr6qPZjS"
      },
      "source": [
        "From this article: https://suatatan.com/posts/sklearn_xgboost_tc/"
      ]
    },
    {
      "cell_type": "code",
      "metadata": {
        "id": "8rIdO5DhDSkU"
      },
      "source": [
        "# import relevant packages\n",
        "import numpy as np\n",
        "import pandas as pd\n",
        "from sklearn.model_selection import train_test_split\n",
        "from sklearn.feature_extraction.text import CountVectorizer\n",
        "from xgboost import XGBClassifier\n",
        "\n",
        "# accurcy\n",
        "from sklearn.metrics import accuracy_score\n",
        "from sklearn.metrics import precision_score\n",
        "from sklearn.metrics import recall_score\n",
        "from sklearn.metrics import f1_score\n",
        "from sklearn.metrics import classification_report\n",
        "from sklearn.metrics import matthews_corrcoef"
      ],
      "execution_count": 1,
      "outputs": []
    },
    {
      "cell_type": "markdown",
      "metadata": {
        "id": "KPqvgg38DdIJ"
      },
      "source": [
        "##The data"
      ]
    },
    {
      "cell_type": "code",
      "metadata": {
        "id": "VN-D2YmFDXz9"
      },
      "source": [
        "# import csv file as dataframe (from GitHub repo)\n",
        "url = 'https://raw.githubusercontent.com/feliciahf/data_science_exam/main/hippoCorpusV2.csv'\n",
        "df = pd.read_csv(url, encoding='latin1', delimiter=\",\")\n",
        "\n",
        "# drop retold column (only using imagined and recalled)\n",
        "df = df[df.memType != 'retold']"
      ],
      "execution_count": 2,
      "outputs": []
    },
    {
      "cell_type": "code",
      "metadata": {
        "colab": {
          "base_uri": "https://localhost:8080/"
        },
        "id": "6QLB0qNzJqWm",
        "outputId": "f3055d2a-a88c-4d5f-8b71-07852043db6c"
      },
      "source": [
        "# make labels column using numerical values\n",
        "df.memType = pd.Categorical(df.memType)\n",
        "df['label'] = df.memType.cat.codes\n",
        "\n",
        "# story type corresponding to label\n",
        "print(f\"Label 0: {df.loc[df['label'] == 0,'memType'].unique()}\")\n",
        "print(f\"Label 1: {df.loc[df['label'] == 1,'memType'].unique()}\")"
      ],
      "execution_count": 3,
      "outputs": [
        {
          "output_type": "stream",
          "text": [
            "Label 0: ['imagined']\n",
            "Categories (1, object): ['imagined']\n",
            "Label 1: ['recalled']\n",
            "Categories (1, object): ['recalled']\n"
          ],
          "name": "stdout"
        }
      ]
    },
    {
      "cell_type": "code",
      "metadata": {
        "id": "7r-sL7oYEBgH"
      },
      "source": [
        "# preprocessing\n",
        "cv = CountVectorizer(max_features=5000, encoding=\"utf-8\",  \n",
        "      ngram_range = (1,3),  \n",
        "      token_pattern = \"[A-Za-z_][A-Za-z\\d_]*\")\n",
        "\n",
        "# split into story features (X) and categories (y)\n",
        "X = cv.fit_transform(df.story).toarray()\n",
        "y = df['label']\n",
        "\n",
        "# split into train and test data (80/20)\n",
        "X_train, X_test, y_train, y_test = train_test_split(X, y, \n",
        "      test_size=0.20,\n",
        "      random_state=0)\n",
        "count_df = pd.DataFrame(X_train, columns=cv.get_feature_names())\n",
        "count_df['label'] = y_train"
      ],
      "execution_count": 4,
      "outputs": []
    },
    {
      "cell_type": "code",
      "metadata": {
        "colab": {
          "base_uri": "https://localhost:8080/"
        },
        "id": "2nc-PHalH_YI",
        "outputId": "6ce18089-e4a0-48b2-e160-8b89c1a6e741"
      },
      "source": [
        "# fit model to training data\n",
        "model = XGBClassifier()\n",
        "model.fit(X_train, y_train)\n",
        "\n",
        "# how well model does on training data\n",
        "yhat = model.predict(X_train)\n",
        "train_pred = [round(value) for value in yhat]\n",
        "acc_train = accuracy_score(y_train, train_pred)\n",
        "print(\"Accuracy on train data: %.2f%%\" % (acc_train * 100.0))\n",
        "\n",
        "# make predictions on test data\n",
        "y_pred = model.predict(X_test)\n",
        "predictions = [round(value) for value in y_pred]\n",
        "\n",
        "# evaluate predictions on test data\n",
        "accuracy = accuracy_score(y_test, predictions)\n",
        "print(\"Accuracy on test data: %.2f%%\" % (accuracy * 100.0))"
      ],
      "execution_count": 5,
      "outputs": [
        {
          "output_type": "stream",
          "text": [
            "Accuracy on train data: 81.01%\n",
            "Accuracy on test data: 69.65%\n"
          ],
          "name": "stdout"
        }
      ]
    },
    {
      "cell_type": "code",
      "metadata": {
        "id": "hUJ8o_ln7xwO",
        "colab": {
          "base_uri": "https://localhost:8080/"
        },
        "outputId": "ebd3f441-7418-473f-9f06-3e22e696d3e4"
      },
      "source": [
        "# compute overall accuracy, precision, recall, f1 scores (test data)\n",
        "print('Accuracy: ', accuracy_score(y_test, predictions))\n",
        "print('Precision: ', precision_score(y_test, predictions, average='weighted', zero_division=1))\n",
        "print('Recall: ', recall_score(y_test, predictions, average='weighted', zero_division=1))\n",
        "print('F1:', f1_score(y_test, predictions, average='weighted'))"
      ],
      "execution_count": 6,
      "outputs": [
        {
          "output_type": "stream",
          "text": [
            "Accuracy:  0.6964769647696477\n",
            "Precision:  0.6975740718848265\n",
            "Recall:  0.6964769647696477\n",
            "F1: 0.6959199816523208\n"
          ],
          "name": "stdout"
        }
      ]
    },
    {
      "cell_type": "code",
      "metadata": {
        "id": "rkz8n6XoIrYo",
        "colab": {
          "base_uri": "https://localhost:8080/"
        },
        "outputId": "beb9bec8-c636-497d-f94f-6d825f69324f"
      },
      "source": [
        "# print accuracy scores for each category\n",
        "print(classification_report(y_test, predictions))"
      ],
      "execution_count": 7,
      "outputs": [
        {
          "output_type": "stream",
          "text": [
            "              precision    recall  f1-score   support\n",
            "\n",
            "           0       0.68      0.74      0.71       557\n",
            "           1       0.71      0.65      0.68       550\n",
            "\n",
            "    accuracy                           0.70      1107\n",
            "   macro avg       0.70      0.70      0.70      1107\n",
            "weighted avg       0.70      0.70      0.70      1107\n",
            "\n"
          ],
          "name": "stdout"
        }
      ]
    },
    {
      "cell_type": "code",
      "metadata": {
        "id": "sI0WiGAzPNUh",
        "outputId": "984c33fc-7139-451c-83b8-c9ea7a033d8e",
        "colab": {
          "base_uri": "https://localhost:8080/"
        }
      },
      "source": [
        "# Matthews correlation coefficient\n",
        "matthews_corrcoef(y_test, predictions)"
      ],
      "execution_count": 8,
      "outputs": [
        {
          "output_type": "execute_result",
          "data": {
            "text/plain": [
              "0.39387216194769925"
            ]
          },
          "metadata": {
            "tags": []
          },
          "execution_count": 8
        }
      ]
    }
  ]
}