{
  "nbformat": 4,
  "nbformat_minor": 0,
  "metadata": {
    "colab": {
      "name": "RNN_Working.ipynb",
      "provenance": [],
      "include_colab_link": true
    },
    "kernelspec": {
      "name": "python3",
      "display_name": "Python 3"
    },
    "language_info": {
      "name": "python"
    }
  },
  "cells": [
    {
      "cell_type": "markdown",
      "metadata": {
        "id": "view-in-github",
        "colab_type": "text"
      },
      "source": [
        "<a href=\"https://colab.research.google.com/github/feliciahf/data_science_exam/blob/main/RNN_Working.ipynb\" target=\"_parent\"><img src=\"https://colab.research.google.com/assets/colab-badge.svg\" alt=\"Open In Colab\"/></a>"
      ]
    },
    {
      "cell_type": "markdown",
      "metadata": {
        "id": "_HAQwDeTzSsP"
      },
      "source": [
        "Based on this:\n",
        "https://towardsdatascience.com/multi-class-text-classification-with-lstm-1590bee1bd17"
      ]
    },
    {
      "cell_type": "markdown",
      "metadata": {
        "id": "npXEZaanar-C"
      },
      "source": [
        "#The data"
      ]
    },
    {
      "cell_type": "code",
      "metadata": {
        "id": "s3qMvcFmZzTM"
      },
      "source": [
        "import pandas as pd\n",
        "import numpy as np"
      ],
      "execution_count": 1,
      "outputs": []
    },
    {
      "cell_type": "code",
      "metadata": {
        "id": "0iDMScGZZ3gB"
      },
      "source": [
        "#import csv file as dataframe (from GitHub repo)\n",
        "\n",
        "url = 'https://raw.githubusercontent.com/feliciahf/data_science_exam/main/hippoCorpusV2.csv'\n",
        "df = pd.read_csv(url, encoding='latin1')"
      ],
      "execution_count": 2,
      "outputs": []
    },
    {
      "cell_type": "code",
      "metadata": {
        "colab": {
          "base_uri": "https://localhost:8080/",
          "height": 1000
        },
        "id": "q8-Osn98Z5QB",
        "outputId": "45b44e59-9bee-436d-cffd-1f75c9a1e8d0"
      },
      "source": [
        "# remove columns with uninformative information (AssignmentId, WorkerId, recAgnPairId, recImgPairId)\n",
        "uninformative_cols = [\"AssignmentId\", \"WorkerId\", \"recAgnPairId\", \"recImgPairId\"]\n",
        "df = df.drop(columns=uninformative_cols)\n",
        "df = df[df.memType != 'retold']\n",
        "df \n"
      ],
      "execution_count": 3,
      "outputs": [
        {
          "output_type": "execute_result",
          "data": {
            "text/html": [
              "<div>\n",
              "<style scoped>\n",
              "    .dataframe tbody tr th:only-of-type {\n",
              "        vertical-align: middle;\n",
              "    }\n",
              "\n",
              "    .dataframe tbody tr th {\n",
              "        vertical-align: top;\n",
              "    }\n",
              "\n",
              "    .dataframe thead th {\n",
              "        text-align: right;\n",
              "    }\n",
              "</style>\n",
              "<table border=\"1\" class=\"dataframe\">\n",
              "  <thead>\n",
              "    <tr style=\"text-align: right;\">\n",
              "      <th></th>\n",
              "      <th>WorkTimeInSeconds</th>\n",
              "      <th>annotatorAge</th>\n",
              "      <th>annotatorGender</th>\n",
              "      <th>annotatorRace</th>\n",
              "      <th>distracted</th>\n",
              "      <th>draining</th>\n",
              "      <th>frequency</th>\n",
              "      <th>importance</th>\n",
              "      <th>logTimeSinceEvent</th>\n",
              "      <th>mainEvent</th>\n",
              "      <th>memType</th>\n",
              "      <th>mostSurprising</th>\n",
              "      <th>openness</th>\n",
              "      <th>similarity</th>\n",
              "      <th>similarityReason</th>\n",
              "      <th>story</th>\n",
              "      <th>stressful</th>\n",
              "      <th>summary</th>\n",
              "      <th>timeSinceEvent</th>\n",
              "    </tr>\n",
              "  </thead>\n",
              "  <tbody>\n",
              "    <tr>\n",
              "      <th>0</th>\n",
              "      <td>1641</td>\n",
              "      <td>25.0</td>\n",
              "      <td>man</td>\n",
              "      <td>white</td>\n",
              "      <td>1.0</td>\n",
              "      <td>1.0</td>\n",
              "      <td>NaN</td>\n",
              "      <td>3.0</td>\n",
              "      <td>4.499810</td>\n",
              "      <td>attending a show</td>\n",
              "      <td>imagined</td>\n",
              "      <td>when I got concert tickets</td>\n",
              "      <td>0.000</td>\n",
              "      <td>3.0</td>\n",
              "      <td>I've been to a couple concerts, but not many.</td>\n",
              "      <td>Concerts are my most favorite thing, and my bo...</td>\n",
              "      <td>1.0</td>\n",
              "      <td>My boyfriend and I went to a concert together ...</td>\n",
              "      <td>90.0</td>\n",
              "    </tr>\n",
              "    <tr>\n",
              "      <th>1</th>\n",
              "      <td>1245</td>\n",
              "      <td>25.0</td>\n",
              "      <td>woman</td>\n",
              "      <td>white</td>\n",
              "      <td>1.0</td>\n",
              "      <td>1.0</td>\n",
              "      <td>3.0</td>\n",
              "      <td>4.0</td>\n",
              "      <td>4.499810</td>\n",
              "      <td>a concert.</td>\n",
              "      <td>recalled</td>\n",
              "      <td>we saw the beautiful sky.</td>\n",
              "      <td>1.000</td>\n",
              "      <td>NaN</td>\n",
              "      <td>NaN</td>\n",
              "      <td>The day started perfectly, with a great drive ...</td>\n",
              "      <td>1.0</td>\n",
              "      <td>My boyfriend and I went to a concert together ...</td>\n",
              "      <td>90.0</td>\n",
              "    </tr>\n",
              "    <tr>\n",
              "      <th>2</th>\n",
              "      <td>1159</td>\n",
              "      <td>35.0</td>\n",
              "      <td>woman</td>\n",
              "      <td>black</td>\n",
              "      <td>1.0</td>\n",
              "      <td>1.0</td>\n",
              "      <td>NaN</td>\n",
              "      <td>4.0</td>\n",
              "      <td>5.010635</td>\n",
              "      <td>my sister having her twins a little early</td>\n",
              "      <td>imagined</td>\n",
              "      <td>she went into labor early</td>\n",
              "      <td>0.500</td>\n",
              "      <td>3.0</td>\n",
              "      <td>I am a mother myself</td>\n",
              "      <td>It seems just like yesterday but today makes f...</td>\n",
              "      <td>1.0</td>\n",
              "      <td>My sister gave birth to my twin niece and neph...</td>\n",
              "      <td>150.0</td>\n",
              "    </tr>\n",
              "    <tr>\n",
              "      <th>3</th>\n",
              "      <td>500</td>\n",
              "      <td>30.0</td>\n",
              "      <td>woman</td>\n",
              "      <td>white</td>\n",
              "      <td>1.0</td>\n",
              "      <td>4.0</td>\n",
              "      <td>3.0</td>\n",
              "      <td>5.0</td>\n",
              "      <td>5.010635</td>\n",
              "      <td>meeting my twin niece and nephew.</td>\n",
              "      <td>recalled</td>\n",
              "      <td>finding out they were healthy.</td>\n",
              "      <td>1.000</td>\n",
              "      <td>NaN</td>\n",
              "      <td>NaN</td>\n",
              "      <td>Five months ago, my niece and nephew were born...</td>\n",
              "      <td>2.0</td>\n",
              "      <td>My sister gave birth to my twin niece and neph...</td>\n",
              "      <td>150.0</td>\n",
              "    </tr>\n",
              "    <tr>\n",
              "      <th>4</th>\n",
              "      <td>1074</td>\n",
              "      <td>25.0</td>\n",
              "      <td>man</td>\n",
              "      <td>white</td>\n",
              "      <td>2.0</td>\n",
              "      <td>2.0</td>\n",
              "      <td>NaN</td>\n",
              "      <td>3.0</td>\n",
              "      <td>3.401197</td>\n",
              "      <td>the consequences of going to burning man</td>\n",
              "      <td>imagined</td>\n",
              "      <td>When I don't answer the phone in case I owe th...</td>\n",
              "      <td>0.250</td>\n",
              "      <td>4.0</td>\n",
              "      <td>Because I also have money problems</td>\n",
              "      <td>About a month ago I went to burning man. I was...</td>\n",
              "      <td>4.0</td>\n",
              "      <td>It is always a journey for me to go to burning...</td>\n",
              "      <td>30.0</td>\n",
              "    </tr>\n",
              "    <tr>\n",
              "      <th>...</th>\n",
              "      <td>...</td>\n",
              "      <td>...</td>\n",
              "      <td>...</td>\n",
              "      <td>...</td>\n",
              "      <td>...</td>\n",
              "      <td>...</td>\n",
              "      <td>...</td>\n",
              "      <td>...</td>\n",
              "      <td>...</td>\n",
              "      <td>...</td>\n",
              "      <td>...</td>\n",
              "      <td>...</td>\n",
              "      <td>...</td>\n",
              "      <td>...</td>\n",
              "      <td>...</td>\n",
              "      <td>...</td>\n",
              "      <td>...</td>\n",
              "      <td>...</td>\n",
              "      <td>...</td>\n",
              "    </tr>\n",
              "    <tr>\n",
              "      <th>6849</th>\n",
              "      <td>926</td>\n",
              "      <td>30.0</td>\n",
              "      <td>woman</td>\n",
              "      <td>other</td>\n",
              "      <td>3.0</td>\n",
              "      <td>5.0</td>\n",
              "      <td>3.0</td>\n",
              "      <td>5.0</td>\n",
              "      <td>5.010635</td>\n",
              "      <td>losing and finding a pet.</td>\n",
              "      <td>recalled</td>\n",
              "      <td>the kitten ran into my arms.</td>\n",
              "      <td>0.125</td>\n",
              "      <td>NaN</td>\n",
              "      <td>NaN</td>\n",
              "      <td>My dog was diagnosed with lymphoma a year ago ...</td>\n",
              "      <td>5.0</td>\n",
              "      <td>My dog, who had lymphoma, was suffering so I h...</td>\n",
              "      <td>150.0</td>\n",
              "    </tr>\n",
              "    <tr>\n",
              "      <th>6850</th>\n",
              "      <td>3044</td>\n",
              "      <td>18.0</td>\n",
              "      <td>woman</td>\n",
              "      <td>asian</td>\n",
              "      <td>4.0</td>\n",
              "      <td>2.0</td>\n",
              "      <td>4.0</td>\n",
              "      <td>2.0</td>\n",
              "      <td>6.345636</td>\n",
              "      <td>about a vacation event worked on</td>\n",
              "      <td>recalled</td>\n",
              "      <td>when i encountered an guy who was really scared</td>\n",
              "      <td>-0.500</td>\n",
              "      <td>NaN</td>\n",
              "      <td>NaN</td>\n",
              "      <td>Over my vacation from my job, I went to Casper...</td>\n",
              "      <td>5.0</td>\n",
              "      <td>On vacation, a side job was taken to plan an e...</td>\n",
              "      <td>570.0</td>\n",
              "    </tr>\n",
              "    <tr>\n",
              "      <th>6851</th>\n",
              "      <td>1008</td>\n",
              "      <td>35.0</td>\n",
              "      <td>man</td>\n",
              "      <td>asian</td>\n",
              "      <td>1.0</td>\n",
              "      <td>2.0</td>\n",
              "      <td>2.0</td>\n",
              "      <td>4.0</td>\n",
              "      <td>3.044522</td>\n",
              "      <td>my nephew's birthday party</td>\n",
              "      <td>recalled</td>\n",
              "      <td>a lot of people got in the pool.</td>\n",
              "      <td>0.500</td>\n",
              "      <td>NaN</td>\n",
              "      <td>NaN</td>\n",
              "      <td>This event was a birthday party for my nephew....</td>\n",
              "      <td>2.0</td>\n",
              "      <td>This was a birthday party for my nephew that h...</td>\n",
              "      <td>21.0</td>\n",
              "    </tr>\n",
              "    <tr>\n",
              "      <th>6852</th>\n",
              "      <td>1462</td>\n",
              "      <td>30.0</td>\n",
              "      <td>man</td>\n",
              "      <td>hisp</td>\n",
              "      <td>1.0</td>\n",
              "      <td>1.0</td>\n",
              "      <td>3.0</td>\n",
              "      <td>3.0</td>\n",
              "      <td>2.639057</td>\n",
              "      <td>my cousin's birthday</td>\n",
              "      <td>recalled</td>\n",
              "      <td>my cousin threw a tantrum in the middle of the...</td>\n",
              "      <td>0.500</td>\n",
              "      <td>NaN</td>\n",
              "      <td>NaN</td>\n",
              "      <td>This event occurred about two weeks ago. I was...</td>\n",
              "      <td>2.0</td>\n",
              "      <td>It was my little cousin's birthday and went to...</td>\n",
              "      <td>14.0</td>\n",
              "    </tr>\n",
              "    <tr>\n",
              "      <th>6853</th>\n",
              "      <td>1662</td>\n",
              "      <td>45.0</td>\n",
              "      <td>woman</td>\n",
              "      <td>white</td>\n",
              "      <td>1.0</td>\n",
              "      <td>5.0</td>\n",
              "      <td>4.0</td>\n",
              "      <td>5.0</td>\n",
              "      <td>3.891820</td>\n",
              "      <td>building trust in the best interest of a child.</td>\n",
              "      <td>recalled</td>\n",
              "      <td>my daughter agreed for guardianship.</td>\n",
              "      <td>0.750</td>\n",
              "      <td>NaN</td>\n",
              "      <td>NaN</td>\n",
              "      <td>Over the past year I have been involved with a...</td>\n",
              "      <td>4.0</td>\n",
              "      <td>My daughter had my granddaughter removed from ...</td>\n",
              "      <td>49.0</td>\n",
              "    </tr>\n",
              "  </tbody>\n",
              "</table>\n",
              "<p>5535 rows × 19 columns</p>\n",
              "</div>"
            ],
            "text/plain": [
              "      WorkTimeInSeconds  ...  timeSinceEvent\n",
              "0                  1641  ...            90.0\n",
              "1                  1245  ...            90.0\n",
              "2                  1159  ...           150.0\n",
              "3                   500  ...           150.0\n",
              "4                  1074  ...            30.0\n",
              "...                 ...  ...             ...\n",
              "6849                926  ...           150.0\n",
              "6850               3044  ...           570.0\n",
              "6851               1008  ...            21.0\n",
              "6852               1462  ...            14.0\n",
              "6853               1662  ...            49.0\n",
              "\n",
              "[5535 rows x 19 columns]"
            ]
          },
          "metadata": {
            "tags": []
          },
          "execution_count": 3
        }
      ]
    },
    {
      "cell_type": "markdown",
      "metadata": {
        "id": "PgANktnAaKPc"
      },
      "source": [
        "#Text preprocessing"
      ]
    },
    {
      "cell_type": "code",
      "metadata": {
        "colab": {
          "base_uri": "https://localhost:8080/"
        },
        "id": "WyVrGPnVaNWm",
        "outputId": "50f79171-667c-4faf-cca6-d22488a7ed72"
      },
      "source": [
        "def print_plot(index):\n",
        "    example = df[df.index == index][['story', 'memType']].values[0]\n",
        "    if len(example) > 0:\n",
        "        print(example[0])\n",
        "        print('memType:', example[1])\n",
        "print_plot(10)"
      ],
      "execution_count": 4,
      "outputs": [
        {
          "output_type": "stream",
          "text": [
            "About a month ago me and my girlfriend went to the zoo. It was an unexpected trip we just decided to go on a random Wednesday. It was a pretty hot day that day considering it was the middle of July. As soon as we got in, we saw that there were some seals to the left of the entrance so we saw them for a few minutes. Then we went to the insect section of the zoo. There were so many of them like spiders, scorpions, also bigger animals like cobras, rattlesnakes stuff like that. Then we saw the elephants. It was pretty interesting because they were in an area that looked like a jungle and off in the distance we heard gorillas grunting. So we walked around until we found the gorillas and around there we also saw other kinds of primates like chimpanzees. We walked around a bit more and we stumbled upon all the other African animals like tigers, lions, giraffes etc. It was actually pretty cool to see the giraffes because one of them got really close to me. Along the way we saw a lot of different kinds of birds and small animals. We passed by the koalas and other Australian animals like Tasmanian devils, and kangaroos. I would have enjoyed it more though if we had gone on another day. It was really hot that day and we didn't really prepare for it. But I really enjoyed going there and we'll probably go again soon.\n",
            "memType: recalled\n"
          ],
          "name": "stdout"
        }
      ]
    },
    {
      "cell_type": "code",
      "metadata": {
        "colab": {
          "base_uri": "https://localhost:8080/"
        },
        "id": "ZXzIQNg_aA_2",
        "outputId": "c9b6e212-aee0-4a5e-dc93-4d10d1de5b0a"
      },
      "source": [
        "import re\n",
        "import nltk \n",
        "from nltk.corpus import stopwords \n",
        "nltk.download('stopwords')\n",
        "\n",
        "df = df.reset_index(drop=True)\n",
        "REPLACE_BY_SPACE_RE = re.compile('[/(){}\\[\\]\\|@,;]')\n",
        "BAD_SYMBOLS_RE = re.compile('[^0-9a-z #+_]')\n",
        "STOPWORDS = set(stopwords.words('english'))\n",
        "\n",
        "def clean_text(text):\n",
        "    \"\"\"\n",
        "        text: a string\n",
        "        \n",
        "        return: modified initial string\n",
        "    \"\"\"\n",
        "    text = text.lower() # lowercase text\n",
        "    text = REPLACE_BY_SPACE_RE.sub(' ', text) # replace REPLACE_BY_SPACE_RE symbols by space in text. substitute the matched string in REPLACE_BY_SPACE_RE with space.\n",
        "    text = BAD_SYMBOLS_RE.sub('', text) # remove symbols which are in BAD_SYMBOLS_RE from text. substitute the matched string in BAD_SYMBOLS_RE with nothing. \n",
        "    text = text.replace('x', '')\n",
        "#    text = re.sub(r'\\W+', '', text)\n",
        "    text = ' '.join(word for word in text.split() if word not in STOPWORDS) # remove stopwors from text\n",
        "    return text\n",
        "df['story'] = df['story'].apply(clean_text)\n",
        "df['story'] = df['story'].str.replace('\\d+', '')\n"
      ],
      "execution_count": 5,
      "outputs": [
        {
          "output_type": "stream",
          "text": [
            "[nltk_data] Downloading package stopwords to /root/nltk_data...\n",
            "[nltk_data]   Unzipping corpora/stopwords.zip.\n"
          ],
          "name": "stdout"
        }
      ]
    },
    {
      "cell_type": "code",
      "metadata": {
        "colab": {
          "base_uri": "https://localhost:8080/"
        },
        "id": "xFLsqe30bBEK",
        "outputId": "78e3812b-e0c6-4c15-f77b-e95960b78322"
      },
      "source": [
        "#Print it to check if it worked\n",
        "print_plot(10)"
      ],
      "execution_count": 6,
      "outputs": [
        {
          "output_type": "stream",
          "text": [
            "vacation visit southeast asia every years least small tourist town thailand right pattaya beach fairly late one evening decided roam around city take pictures citizens shops nightclubs etc found rather secluded dingy part city wasnt sure eactly get back hotel looking one motorbike tais didnt see looking around group thais probably early s could tell part gang something like thought sure going get robbed beat across small street giving eye sudden tai went waved frantically saw drove pick got back hotel safely pretty shaken knew things going go badly small gang caught city another two weeks still ventured tried lot careful parts ventured really known better quite countries cities safe even though im somewhat used types environments still scary tourists known disappear never show happens fairly often especially countries completely corrupt police force still travel im little careful city go go particular city\n",
            "memType: imagined\n"
          ],
          "name": "stdout"
        }
      ]
    },
    {
      "cell_type": "markdown",
      "metadata": {
        "id": "IZJ72cbNcFKm"
      },
      "source": [
        "#LSTM Modeling"
      ]
    },
    {
      "cell_type": "markdown",
      "metadata": {
        "id": "_UdyRy_ucKxZ"
      },
      "source": [
        "* Vectorize consumer complaints text, by turning each text into either a sequence of integers or into a vector.\n",
        "* Limit the data set to the top 5,0000 words.\n",
        "* Set the max number of words in each complaint at 750."
      ]
    },
    {
      "cell_type": "code",
      "metadata": {
        "colab": {
          "base_uri": "https://localhost:8080/"
        },
        "id": "Zdn4aEjBb7YX",
        "outputId": "7cb2b57a-e0ee-4b0a-88bd-a729b0f8a4ac"
      },
      "source": [
        "from keras.preprocessing.text import Tokenizer\n",
        "# The maximum number of words to be used. (most frequent)\n",
        "MAX_NB_WORDS = 50000\n",
        "# Max number of words in each complaint.\n",
        "MAX_SEQUENCE_LENGTH = 750\n",
        "# This is fixed.\n",
        "EMBEDDING_DIM = 100\n",
        "tokenizer = Tokenizer(num_words=MAX_NB_WORDS, filters='!\"#$%&()*+,-./:;<=>?@[\\]^_`{|}~', lower=True)\n",
        "tokenizer.fit_on_texts(df['story'].values)\n",
        "word_index = tokenizer.word_index\n",
        "print('Found %s unique tokens.' % len(word_index))"
      ],
      "execution_count": 7,
      "outputs": [
        {
          "output_type": "stream",
          "text": [
            "Found 24496 unique tokens.\n"
          ],
          "name": "stdout"
        }
      ]
    },
    {
      "cell_type": "code",
      "metadata": {
        "colab": {
          "base_uri": "https://localhost:8080/"
        },
        "id": "YyY6EzFTcmlM",
        "outputId": "da803e80-6986-4949-9a5d-f2541ff8fcec"
      },
      "source": [
        "from keras.preprocessing.sequence import pad_sequences\n",
        "X = tokenizer.texts_to_sequences(df['story'].values)\n",
        "X = pad_sequences(X, maxlen=MAX_SEQUENCE_LENGTH)\n",
        "print('Shape of data tensor:', X.shape)"
      ],
      "execution_count": 8,
      "outputs": [
        {
          "output_type": "stream",
          "text": [
            "Shape of data tensor: (5535, 750)\n"
          ],
          "name": "stdout"
        }
      ]
    },
    {
      "cell_type": "code",
      "metadata": {
        "colab": {
          "base_uri": "https://localhost:8080/"
        },
        "id": "VxdpdOhOdrn6",
        "outputId": "81c6de21-054c-41c5-faa6-84f673d30137"
      },
      "source": [
        "Y = pd.get_dummies(df['memType']).values\n",
        "print('Shape of label tensor:', Y.shape)"
      ],
      "execution_count": 9,
      "outputs": [
        {
          "output_type": "stream",
          "text": [
            "Shape of label tensor: (5535, 2)\n"
          ],
          "name": "stdout"
        }
      ]
    },
    {
      "cell_type": "code",
      "metadata": {
        "colab": {
          "base_uri": "https://localhost:8080/"
        },
        "id": "f_CoklJueHXE",
        "outputId": "4e39b7f9-faf1-4190-b8cd-9a0d4ad67c23"
      },
      "source": [
        "from sklearn.model_selection import train_test_split\n",
        "\n",
        "X_train, X_test, Y_train, Y_test = train_test_split(X,Y, test_size = 0.20, random_state = 42)\n",
        "print(X_train.shape,Y_train.shape)\n",
        "print(X_test.shape,Y_test.shape)"
      ],
      "execution_count": 10,
      "outputs": [
        {
          "output_type": "stream",
          "text": [
            "(4428, 750) (4428, 2)\n",
            "(1107, 750) (1107, 2)\n"
          ],
          "name": "stdout"
        }
      ]
    },
    {
      "cell_type": "markdown",
      "metadata": {
        "id": "HoDBAGFEeoKb"
      },
      "source": [
        "# The model"
      ]
    },
    {
      "cell_type": "code",
      "metadata": {
        "colab": {
          "base_uri": "https://localhost:8080/"
        },
        "id": "LqrVCG0seSuL",
        "outputId": "08f31b25-8a4f-443a-e07d-852d66eeecb9"
      },
      "source": [
        "import keras\n",
        "\n",
        "\n",
        "model = keras.Sequential()\n",
        "model.add(keras.layers.Embedding(MAX_NB_WORDS, EMBEDDING_DIM, input_length=X.shape[1]))\n",
        "model.add(keras.layers.SpatialDropout1D(0.2))\n",
        "\n",
        "model.add(keras.layers.LSTM(25, dropout=0.2, recurrent_dropout=0.2, return_sequences=True))\n",
        "model.add(keras.layers.LSTM(25, dropout=0.2, recurrent_dropout=0.2, return_sequences= True))\n",
        "model.add(keras.layers.LSTM(25, dropout=0.2, recurrent_dropout=0.2))\n",
        "model.add(keras.layers.Dense(2, activation='softmax'))\n",
        "\n",
        "model.compile(loss='categorical_crossentropy', optimizer='adam', metrics=['accuracy'])\n",
        "\n",
        "epochs = 2\n",
        "batch_size = 32\n",
        "\n",
        "history = model.fit(X_train, Y_train, epochs=epochs, batch_size=batch_size,validation_split=0.2,callbacks=[keras.callbacks.EarlyStopping(monitor='val_loss', patience=3, min_delta=0.0001)])"
      ],
      "execution_count": 11,
      "outputs": [
        {
          "output_type": "stream",
          "text": [
            "Epoch 1/2\n",
            "111/111 [==============================] - 265s 2s/step - loss: 0.6936 - accuracy: 0.5021 - val_loss: 0.6846 - val_accuracy: 0.5790\n",
            "Epoch 2/2\n",
            "111/111 [==============================] - 257s 2s/step - loss: 0.5681 - accuracy: 0.7418 - val_loss: 0.6677 - val_accuracy: 0.6242\n"
          ],
          "name": "stdout"
        }
      ]
    },
    {
      "cell_type": "code",
      "metadata": {
        "colab": {
          "base_uri": "https://localhost:8080/"
        },
        "id": "eMIuSZBPiXsu",
        "outputId": "f76998a0-1c3a-48f8-aaeb-cf2aa8fc7bf0"
      },
      "source": [
        " #model evaluation \n",
        " accr = model.evaluate(X_test,Y_test) \n",
        " print('Test set\\n Loss: {:0.3f}\\n Accuracy: {:0.3f}'.format(accr[0],accr[1]))"
      ],
      "execution_count": 12,
      "outputs": [
        {
          "output_type": "stream",
          "text": [
            "35/35 [==============================] - 7s 208ms/step - loss: 0.6814 - accuracy: 0.6061\n",
            "Test set\n",
            " Loss: 0.681\n",
            " Accuracy: 0.606\n"
          ],
          "name": "stdout"
        }
      ]
    },
    {
      "cell_type": "code",
      "metadata": {
        "colab": {
          "base_uri": "https://localhost:8080/",
          "height": 281
        },
        "id": "hw4Eyaejio1_",
        "outputId": "e3a0f99e-f15a-4a47-e850-2039042d7a19"
      },
      "source": [
        "import matplotlib.pyplot as plt\n",
        "\n",
        "plt.title('Loss')\n",
        "plt.plot(history.history['loss'], label='train')\n",
        "plt.plot(history.history['val_loss'], label='test')\n",
        "plt.legend()\n",
        "plt.show();"
      ],
      "execution_count": 13,
      "outputs": [
        {
          "output_type": "display_data",
          "data": {
            "image/png": "[encoded data removed]",
            "text/plain": [
              "<Figure size 432x288 with 1 Axes>"
            ]
          },
          "metadata": {
            "tags": [],
            "needs_background": "light"
          }
        }
      ]
    },
    {
      "cell_type": "code",
      "metadata": {
        "colab": {
          "base_uri": "https://localhost:8080/",
          "height": 281
        },
        "id": "tWC_S6I-qWjH",
        "outputId": "09e190ac-e270-4917-d8d1-dfea4729b1b3"
      },
      "source": [
        "plt.title('Accuracy')\n",
        "plt.plot(history.history['accuracy'], label='train')\n",
        "plt.plot(history.history['val_accuracy'], label='test')\n",
        "plt.legend()\n",
        "plt.show();"
      ],
      "execution_count": 14,
      "outputs": [
        {
          "output_type": "display_data",
          "data": {
            "image/png": "[encoded data removed]",
            "text/plain": [
              "<Figure size 432x288 with 1 Axes>"
            ]
          },
          "metadata": {
            "tags": [],
            "needs_background": "light"
          }
        }
      ]
    },
    {
      "cell_type": "code",
      "metadata": {
        "id": "jc00Ax11tLIG",
        "outputId": "553425e5-ede5-49cc-b2ec-1b2d3de6a18c",
        "colab": {
          "base_uri": "https://localhost:8080/"
        }
      },
      "source": [
        "Y_pred = model.predict_classes(X_test)\n",
        "Y_pred = pd.get_dummies(Y_pred)"
      ],
      "execution_count": 15,
      "outputs": [
        {
          "output_type": "stream",
          "text": [
            "/usr/local/lib/python3.7/dist-packages/tensorflow/python/keras/engine/sequential.py:450: UserWarning: `model.predict_classes()` is deprecated and will be removed after 2021-01-01. Please use instead:* `np.argmax(model.predict(x), axis=-1)`,   if your model does multi-class classification   (e.g. if it uses a `softmax` last-layer activation).* `(model.predict(x) > 0.5).astype(\"int32\")`,   if your model does binary classification   (e.g. if it uses a `sigmoid` last-layer activation).\n",
            "  warnings.warn('`model.predict_classes()` is deprecated and '\n"
          ],
          "name": "stderr"
        }
      ]
    },
    {
      "cell_type": "code",
      "metadata": {
        "id": "t69Sqw45YwP1",
        "outputId": "89b0288c-1bd1-45f3-a52a-b27849be868a",
        "colab": {
          "base_uri": "https://localhost:8080/"
        }
      },
      "source": [
        "# compute overall accuracy, precision, recall, f1 scores\n",
        "from sklearn.metrics import accuracy_score\n",
        "from sklearn.metrics import precision_score\n",
        "from sklearn.metrics import recall_score\n",
        "from sklearn.metrics import f1_score\n",
        "\n",
        "# weighted = same as macroaveraging but with auto weights\n",
        "print('Accuracy: ', accuracy_score(Y_test, Y_pred))\n",
        "print('Precision: ', precision_score(Y_test, Y_pred, average='weighted', zero_division=1))\n",
        "print('Recall: ', recall_score(Y_test, Y_pred, average='weighted', zero_division=1))\n",
        "print('F1:', f1_score(Y_test, Y_pred, average='weighted'))"
      ],
      "execution_count": 16,
      "outputs": [
        {
          "output_type": "stream",
          "text": [
            "Accuracy:  0.6061427280939476\n",
            "Precision:  0.6057252344039773\n",
            "Recall:  0.6061427280939476\n",
            "F1: 0.6058073174217186\n"
          ],
          "name": "stdout"
        }
      ]
    },
    {
      "cell_type": "code",
      "metadata": {
        "id": "-3LKPUQQYwNl",
        "outputId": "305d1f1c-4ac3-423d-e88d-57b72d326cf9",
        "colab": {
          "base_uri": "https://localhost:8080/"
        }
      },
      "source": [
        "# compute precision, recall, fscore, support scores by genre\n",
        "from sklearn.metrics import precision_recall_fscore_support as score\n",
        "\n",
        "# precision, recall, fscore, support separated by genre\n",
        "precision, recall, fscore, support = score(Y_test, Y_pred)\n",
        "\n",
        "df_acc = pd.DataFrame()\n",
        "df_acc['precision']=pd.Series(precision)\n",
        "df_acc['recall']=pd.Series(recall)\n",
        "df_acc['fscore']=pd.Series(fscore)\n",
        "df_acc['support']=pd.Series(support)\n",
        "\n",
        "print(df_acc)"
      ],
      "execution_count": 17,
      "outputs": [
        {
          "output_type": "stream",
          "text": [
            "   precision    recall    fscore  support\n",
            "0   0.619529  0.636678  0.627986      578\n",
            "1   0.590643  0.572779  0.581574      529\n"
          ],
          "name": "stdout"
        }
      ]
    }
  ]
}