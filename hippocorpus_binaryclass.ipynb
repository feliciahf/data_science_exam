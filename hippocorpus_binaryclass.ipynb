{
  "nbformat": 4,
  "nbformat_minor": 0,
  "metadata": {
    "language_info": {
      "codemirror_mode": {
        "name": "ipython",
        "version": 3
      },
      "file_extension": ".py",
      "mimetype": "text/x-python",
      "name": "python",
      "nbconvert_exporter": "python",
      "pygments_lexer": "ipython3",
      "version": "3.8.5-final"
    },
    "orig_nbformat": 2,
    "kernelspec": {
      "name": "python3",
      "display_name": "Python 3",
      "language": "python"
    },
    "colab": {
      "name": "hippocorpus_binaryclass.ipynb",
      "provenance": [],
      "include_colab_link": true
    }
  },
  "cells": [
    {
      "cell_type": "markdown",
      "metadata": {
        "id": "view-in-github",
        "colab_type": "text"
      },
      "source": [
        "<a href=\"https://colab.research.google.com/github/feliciahf/data_science_exam/blob/main/hippocorpus_binaryclass.ipynb\" target=\"_parent\"><img src=\"https://colab.research.google.com/assets/colab-badge.svg\" alt=\"Open In Colab\"/></a>"
      ]
    },
    {
      "cell_type": "code",
      "metadata": {
        "id": "xbYlujGD3XmC"
      },
      "source": [
        "import pandas as pd\n",
        "import numpy as np\n",
        "from sklearn.linear_model import LogisticRegression\n",
        "from sklearn.linear_model import RidgeClassifier\n",
        "from sklearn.metrics import confusion_matrix, accuracy_score, roc_auc_score, classification_report\n",
        "from sklearn.model_selection import cross_val_score\n",
        "import matplotlib.pyplot as plt\n",
        "import seaborn as sns"
      ],
      "execution_count": 45,
      "outputs": []
    },
    {
      "cell_type": "markdown",
      "metadata": {
        "id": "aQNz0Xf93XmL"
      },
      "source": [
        "# Load dataset"
      ]
    },
    {
      "cell_type": "code",
      "metadata": {
        "id": "juM4IVy-3XmM"
      },
      "source": [
        "# import csv file as dataframe (from GitHub repo)\n",
        "url = 'https://raw.githubusercontent.com/feliciahf/data_science_exam/main/hippoCorpusV2.csv'\n",
        "df = pd.read_csv(url, encoding='latin1')\n",
        "df_full = pd.read_csv(url, encoding='latin1') # for visualisation"
      ],
      "execution_count": 46,
      "outputs": []
    },
    {
      "cell_type": "markdown",
      "metadata": {
        "id": "ppmLxlFy3XmN"
      },
      "source": [
        "# Clean data"
      ]
    },
    {
      "cell_type": "code",
      "metadata": {
        "id": "vfea02DN3XmN",
        "colab": {
          "base_uri": "https://localhost:8080/"
        },
        "outputId": "73cdfd8a-9d66-4f3c-f90b-df6e1aa59422"
      },
      "source": [
        "# Are there missing values in the train set?\n",
        "df.isnull().sum()"
      ],
      "execution_count": 47,
      "outputs": [
        {
          "output_type": "execute_result",
          "data": {
            "text/plain": [
              "AssignmentId            0\n",
              "WorkTimeInSeconds       0\n",
              "WorkerId                0\n",
              "annotatorAge           23\n",
              "annotatorGender         0\n",
              "annotatorRace           0\n",
              "distracted              0\n",
              "draining                0\n",
              "frequency            2756\n",
              "importance            144\n",
              "logTimeSinceEvent       0\n",
              "mainEvent               0\n",
              "memType                 0\n",
              "mostSurprising          0\n",
              "openness                0\n",
              "recAgnPairId         4235\n",
              "recImgPairId         1526\n",
              "similarity           4098\n",
              "similarityReason     4098\n",
              "story                   0\n",
              "stressful               0\n",
              "summary                 0\n",
              "timeSinceEvent          0\n",
              "dtype: int64"
            ]
          },
          "metadata": {
            "tags": []
          },
          "execution_count": 47
        }
      ]
    },
    {
      "cell_type": "code",
      "metadata": {
        "id": "-JfJXOrG3XmY"
      },
      "source": [
        "# Okay, lots of missing values. Filling them with the mean value of the column\n",
        "df[\"annotatorAge\"] = df[\"annotatorAge\"].fillna(df[\"annotatorAge\"].mean())\n",
        "df[\"frequency\"] = df[\"frequency\"].fillna(df[\"frequency\"].mean())\n",
        "df[\"importance\"] = df[\"importance\"].fillna(df[\"importance\"].mean())\n",
        "df[\"similarity\"] = df[\"similarity\"].fillna(df[\"similarity\"].mean())"
      ],
      "execution_count": 48,
      "outputs": []
    },
    {
      "cell_type": "code",
      "metadata": {
        "id": "kViJqPgW3XmY",
        "colab": {
          "base_uri": "https://localhost:8080/"
        },
        "outputId": "c65938f3-cbcd-46ab-a379-65e6f45e6d34"
      },
      "source": [
        "# Let's see if it worked\n",
        "df.isnull().sum()"
      ],
      "execution_count": 49,
      "outputs": [
        {
          "output_type": "execute_result",
          "data": {
            "text/plain": [
              "AssignmentId            0\n",
              "WorkTimeInSeconds       0\n",
              "WorkerId                0\n",
              "annotatorAge            0\n",
              "annotatorGender         0\n",
              "annotatorRace           0\n",
              "distracted              0\n",
              "draining                0\n",
              "frequency               0\n",
              "importance              0\n",
              "logTimeSinceEvent       0\n",
              "mainEvent               0\n",
              "memType                 0\n",
              "mostSurprising          0\n",
              "openness                0\n",
              "recAgnPairId         4235\n",
              "recImgPairId         1526\n",
              "similarity              0\n",
              "similarityReason     4098\n",
              "story                   0\n",
              "stressful               0\n",
              "summary                 0\n",
              "timeSinceEvent          0\n",
              "dtype: int64"
            ]
          },
          "metadata": {
            "tags": []
          },
          "execution_count": 49
        }
      ]
    },
    {
      "cell_type": "code",
      "metadata": {
        "id": "4gMPeb8z3XmY"
      },
      "source": [
        "# sklearn does not like columns with categorical values\n",
        "# make them binary dummy variables instead\n",
        "df = pd.get_dummies(df, columns=[\"annotatorGender\", \"annotatorRace\"])"
      ],
      "execution_count": 50,
      "outputs": []
    },
    {
      "cell_type": "code",
      "metadata": {
        "id": "GkBme56N370J"
      },
      "source": [
        "# drop retold label\n",
        "df = df[df.memType != 'retold']\n",
        "df_full = df_full[df_full.memType != 'retold']"
      ],
      "execution_count": 51,
      "outputs": []
    },
    {
      "cell_type": "code",
      "metadata": {
        "id": "fLAKh8GuFXWf",
        "outputId": "9e8caee6-0410-402a-c70c-0f3c19f91a1d",
        "colab": {
          "base_uri": "https://localhost:8080/"
        }
      },
      "source": [
        "len(df['story'])"
      ],
      "execution_count": 52,
      "outputs": [
        {
          "output_type": "execute_result",
          "data": {
            "text/plain": [
              "5535"
            ]
          },
          "metadata": {
            "tags": []
          },
          "execution_count": 52
        }
      ]
    },
    {
      "cell_type": "code",
      "metadata": {
        "id": "aGPQ_DCM3XmZ",
        "colab": {
          "base_uri": "https://localhost:8080/"
        },
        "outputId": "cfa8eff9-0688-4a46-8010-fdda0ed1c2a6"
      },
      "source": [
        "# make labels column using numerical values\n",
        "df.memType = pd.Categorical(df.memType)\n",
        "df['label'] = df.memType.cat.codes\n",
        "\n",
        "# story type corresponding to label\n",
        "print(f\"Label 0: {df.loc[df['label'] == 0,'memType'].unique()}\")\n",
        "print(f\"Label 1: {df.loc[df['label'] == 1,'memType'].unique()}\")"
      ],
      "execution_count": 53,
      "outputs": [
        {
          "output_type": "stream",
          "text": [
            "Label 0: ['imagined']\n",
            "Categories (1, object): ['imagined']\n",
            "Label 1: ['recalled']\n",
            "Categories (1, object): ['recalled']\n"
          ],
          "name": "stdout"
        }
      ]
    },
    {
      "cell_type": "code",
      "metadata": {
        "id": "91dRB5-63Xma"
      },
      "source": [
        "# drop categorical column\n",
        "df = df.drop(columns='memType')"
      ],
      "execution_count": 54,
      "outputs": []
    },
    {
      "cell_type": "code",
      "metadata": {
        "id": "Vgdeg1mZ3Xma"
      },
      "source": [
        "# AssignmentId, WorkerId, recAgnPairId and recImgPairId are practically unique for each individual and thus unusable for predictions\n",
        "# mainEvent, mostSurprising, similarityReason, story and summary contain text and are unique to each individual\n",
        "uninformative_cols = [\"AssignmentId\", \"WorkerId\", \"recAgnPairId\", \"recImgPairId\"]\n",
        "text_cols = [\"mainEvent\", \"mostSurprising\", \"similarityReason\", \"story\", \"summary\"]\n",
        "df = df.drop(columns=uninformative_cols)\n",
        "df = df.drop(columns=text_cols)"
      ],
      "execution_count": 55,
      "outputs": []
    },
    {
      "cell_type": "code",
      "metadata": {
        "id": "4_jKYuow3Xma"
      },
      "source": [
        "# age as binary measures\n",
        "df['Old'] = np.where(df['annotatorAge']>=44, 1, 0)\n",
        "df['Young'] = np.where(df['annotatorAge']>=25, 0, 1)\n",
        "df['Middle1'] = np.where((df['annotatorAge']>=33) & (df['annotatorAge'] >=25), 1, 0)\n",
        "df['Middle2'] = np.where((df['annotatorAge']>=44) & (df['annotatorAge'] >=33), 1, 0)"
      ],
      "execution_count": 56,
      "outputs": []
    },
    {
      "cell_type": "code",
      "metadata": {
        "id": "L1jyq_Us3Xmb"
      },
      "source": [
        "# drop columns made into binary measures ? (better with both binary and continuous variables)\n",
        "#newbin_cols = [\"annotatorAge\"]\n",
        "#df = df.drop(columns=newbin_cols)"
      ],
      "execution_count": null,
      "outputs": []
    },
    {
      "cell_type": "code",
      "metadata": {
        "id": "HGofKxo63Xmb"
      },
      "source": [
        "# drop race columns\n",
        "# variable doesn't make much difference kept/dropped\n",
        "race = [\"annotatorRace_asian\", \"annotatorRace_black\", \"annotatorRace_hisp\", \"annotatorRace_indian\", \"annotatorRace_islander\", \"annotatorRace_middleEastern\", \"annotatorRace_na\", \"annotatorRace_native\", \"annotatorRace_other\", \"annotatorRace_white\"]\n",
        "df = df.drop(columns=race)"
      ],
      "execution_count": 57,
      "outputs": []
    },
    {
      "cell_type": "markdown",
      "metadata": {
        "id": "LX3xX7Ku3Xmb"
      },
      "source": [
        "# Inspect data visually"
      ]
    },
    {
      "cell_type": "code",
      "metadata": {
        "id": "Xt_PfFjP3Xmb",
        "colab": {
          "base_uri": "https://localhost:8080/",
          "height": 645
        },
        "outputId": "7715dfd2-cee1-48e6-ada0-33b3cecad9d5"
      },
      "source": [
        "# Compute the correlation matrix\n",
        "corr = df_full.corr()\n",
        "\n",
        "# Generate a mask for the upper triangle\n",
        "mask = np.triu(np.ones_like(corr, dtype=bool))\n",
        "\n",
        "# Set up the matplotlib figure\n",
        "f, ax = plt.subplots(figsize=(11, 9))\n",
        "\n",
        "# Generate a custom diverging colormap\n",
        "cmap = sns.diverging_palette(230, 20, as_cmap=True)\n",
        "\n",
        "# Draw the heatmap with the mask and correct aspect ratio\n",
        "sns.heatmap(corr, mask=mask, cmap=cmap, vmax=.3, center=0,\n",
        "            square=True, linewidths=.5, cbar_kws={\"shrink\": .5})"
      ],
      "execution_count": 58,
      "outputs": [
        {
          "output_type": "execute_result",
          "data": {
            "text/plain": [
              "<matplotlib.axes._subplots.AxesSubplot at 0x7f210693c710>"
            ]
          },
          "metadata": {
            "tags": []
          },
          "execution_count": 58
        },
        {
          "output_type": "display_data",
          "data": {
            "image/png": "[encoded data removed]",
            "text/plain": [
              "<Figure size 792x648 with 2 Axes>"
            ]
          },
          "metadata": {
            "tags": [],
            "needs_background": "light"
          }
        }
      ]
    },
    {
      "cell_type": "code",
      "metadata": {
        "id": "OUWxsEv83Xmc",
        "colab": {
          "base_uri": "https://localhost:8080/",
          "height": 296
        },
        "outputId": "73e12af5-e54d-4bcc-a4d2-990471421123"
      },
      "source": [
        "# histogram of gender and story type\n",
        "sns.countplot(x=\"annotatorGender\", hue=\"memType\", data=df_full)"
      ],
      "execution_count": null,
      "outputs": [
        {
          "output_type": "execute_result",
          "data": {
            "text/plain": [
              "<matplotlib.axes._subplots.AxesSubplot at 0x7f2108e5ee10>"
            ]
          },
          "metadata": {
            "tags": []
          },
          "execution_count": 34
        },
        {
          "output_type": "display_data",
          "data": {
            "image/png": "[encoded data removed]",
            "text/plain": [
              "<Figure size 432x288 with 1 Axes>"
            ]
          },
          "metadata": {
            "tags": [],
            "needs_background": "light"
          }
        }
      ]
    },
    {
      "cell_type": "code",
      "metadata": {
        "id": "BUBGghSJF4qb",
        "outputId": "3dd4f0a6-41e0-44c7-b235-426facb2cc68",
        "colab": {
          "base_uri": "https://localhost:8080/",
          "height": 296
        }
      },
      "source": [
        "# histogram of age and story type\n",
        "sns.countplot(x=\"annotatorAge\", hue=\"memType\", data=df_full)"
      ],
      "execution_count": 59,
      "outputs": [
        {
          "output_type": "execute_result",
          "data": {
            "text/plain": [
              "<matplotlib.axes._subplots.AxesSubplot at 0x7f21069f5a50>"
            ]
          },
          "metadata": {
            "tags": []
          },
          "execution_count": 59
        },
        {
          "output_type": "display_data",
          "data": {
            "image/png": "[encoded data removed]",
            "text/plain": [
              "<Figure size 432x288 with 1 Axes>"
            ]
          },
          "metadata": {
            "tags": [],
            "needs_background": "light"
          }
        }
      ]
    },
    {
      "cell_type": "markdown",
      "metadata": {
        "id": "htJMvgIg3Xmd"
      },
      "source": [
        "# Split into testing and training data"
      ]
    },
    {
      "cell_type": "code",
      "metadata": {
        "id": "v1yUMWLz3Xme"
      },
      "source": [
        "# split df into test and train\n",
        "msk = np.random.rand(len(df)) < 0.8\n",
        "train = df[msk]\n",
        "test = df[~msk]"
      ],
      "execution_count": null,
      "outputs": []
    },
    {
      "cell_type": "markdown",
      "metadata": {
        "id": "h6vnXb4S3Xme"
      },
      "source": [
        "# Logistic Regression model"
      ]
    },
    {
      "cell_type": "code",
      "metadata": {
        "id": "ArO0KuPj3Xme",
        "colab": {
          "base_uri": "https://localhost:8080/"
        },
        "outputId": "f5ae90f8-734c-4a31-e2eb-37d0d36cdd0e"
      },
      "source": [
        "# Creating a good old logistic regression model based on the remaining columns\n",
        "model = LogisticRegression()\n",
        "# Make subset of training data containing everything except the label\n",
        "X = train.loc[:, train.columns != \"label\"]\n",
        "# Make subset containing only the label\n",
        "Y = train[\"label\"]\n",
        "\n",
        "# Fit model on training data\n",
        "model.fit(X, Y)\n",
        "# See how well the model does on the training data\n",
        "yhat = model.predict(X)\n",
        "\n",
        "print(f\"Accuracy on train data: {accuracy_score(Y, yhat)}\")\n",
        "confusion_matrix(Y, yhat)"
      ],
      "execution_count": null,
      "outputs": [
        {
          "output_type": "stream",
          "text": [
            "Accuracy on train data: 0.49587155963302754\n"
          ],
          "name": "stdout"
        },
        {
          "output_type": "stream",
          "text": [
            "/usr/local/lib/python3.7/dist-packages/sklearn/linear_model/_logistic.py:940: ConvergenceWarning: lbfgs failed to converge (status=2):\n",
            "ABNORMAL_TERMINATION_IN_LNSRCH.\n",
            "\n",
            "Increase the number of iterations (max_iter) or scale the data as shown in:\n",
            "    https://scikit-learn.org/stable/modules/preprocessing.html\n",
            "Please also refer to the documentation for alternative solver options:\n",
            "    https://scikit-learn.org/stable/modules/linear_model.html#logistic-regression\n",
            "  extra_warning_msg=_LOGISTIC_SOLVER_CONVERGENCE_MSG)\n"
          ],
          "name": "stderr"
        },
        {
          "output_type": "execute_result",
          "data": {
            "text/plain": [
              "array([[2162,    0],\n",
              "       [2198,    0]])"
            ]
          },
          "metadata": {
            "tags": []
          },
          "execution_count": 39
        }
      ]
    },
    {
      "cell_type": "code",
      "metadata": {
        "id": "neBAEOY23Xme",
        "colab": {
          "base_uri": "https://localhost:8080/"
        },
        "outputId": "c1651c5b-debe-4211-db46-6f155e54eef2"
      },
      "source": [
        "# Test the model on the testing set\n",
        "X_test = test.loc[:, train.columns != \"label\"]\n",
        "Y_test = test[\"label\"]\n",
        "\n",
        "yhat_test = model.predict(X_test)\n",
        "print(f\"Accuracy on test data: {accuracy_score(Y_test, yhat_test)}\")\n",
        "confusion_matrix(Y_test, yhat_test)"
      ],
      "execution_count": null,
      "outputs": [
        {
          "output_type": "stream",
          "text": [
            "Accuracy on test data: 0.505531914893617\n"
          ],
          "name": "stdout"
        },
        {
          "output_type": "execute_result",
          "data": {
            "text/plain": [
              "array([[594,   0],\n",
              "       [581,   0]])"
            ]
          },
          "metadata": {
            "tags": []
          },
          "execution_count": 40
        }
      ]
    },
    {
      "cell_type": "code",
      "metadata": {
        "id": "BF-D2Z_D3Xmf",
        "colab": {
          "base_uri": "https://localhost:8080/"
        },
        "outputId": "bdcc0ae7-1ff1-40d6-8b83-f06a5d74c7bf"
      },
      "source": [
        "print(classification_report(Y_test, yhat_test))"
      ],
      "execution_count": null,
      "outputs": [
        {
          "output_type": "stream",
          "text": [
            "              precision    recall  f1-score   support\n",
            "\n",
            "           0       0.51      1.00      0.67       594\n",
            "           1       0.00      0.00      0.00       581\n",
            "\n",
            "    accuracy                           0.51      1175\n",
            "   macro avg       0.25      0.50      0.34      1175\n",
            "weighted avg       0.26      0.51      0.34      1175\n",
            "\n"
          ],
          "name": "stdout"
        },
        {
          "output_type": "stream",
          "text": [
            "/usr/local/lib/python3.7/dist-packages/sklearn/metrics/_classification.py:1272: UndefinedMetricWarning: Precision and F-score are ill-defined and being set to 0.0 in labels with no predicted samples. Use `zero_division` parameter to control this behavior.\n",
            "  _warn_prf(average, modifier, msg_start, len(result))\n"
          ],
          "name": "stderr"
        }
      ]
    },
    {
      "cell_type": "markdown",
      "metadata": {
        "id": "3Ih-zI2C3Xmf"
      },
      "source": [
        "# Ridge classifier"
      ]
    },
    {
      "cell_type": "code",
      "metadata": {
        "id": "jv51gvjC3Xmf",
        "colab": {
          "base_uri": "https://localhost:8080/"
        },
        "outputId": "ae8de472-ebf1-4055-b12d-27c1afe23570"
      },
      "source": [
        "# Regularisation: Ridge classifier\n",
        "model_rid = RidgeClassifier()\n",
        "\n",
        "# Fit model on training data\n",
        "model_rid.fit(X, Y)\n",
        "\n",
        "# See how well the model does on the training data\n",
        "yhat = model_rid.predict(X)\n",
        "\n",
        "print(f\"Accuracy on train data: {accuracy_score(Y, yhat)}\")\n",
        "confusion_matrix(Y, yhat)\n",
        "\n",
        "# Test the model on the testing set\n",
        "X_test = test.loc[:, train.columns != \"label\"]\n",
        "Y_test = test[\"label\"]\n",
        "\n",
        "yhat_test = model_rid.predict(X_test)\n",
        "print(f\"Accuracy on test data: {accuracy_score(Y_test, yhat_test)}\")\n",
        "confusion_matrix(Y_test, yhat_test)"
      ],
      "execution_count": null,
      "outputs": [
        {
          "output_type": "stream",
          "text": [
            "Accuracy on train data: 0.8075688073394496\n",
            "Accuracy on test data: 0.8008510638297872\n"
          ],
          "name": "stdout"
        },
        {
          "output_type": "stream",
          "text": [
            "/usr/local/lib/python3.7/dist-packages/sklearn/linear_model/_ridge.py:148: LinAlgWarning: Ill-conditioned matrix (rcond=6.06792e-120): result may not be accurate.\n",
            "  overwrite_a=True).T\n"
          ],
          "name": "stderr"
        },
        {
          "output_type": "execute_result",
          "data": {
            "text/plain": [
              "array([[455, 139],\n",
              "       [ 95, 486]])"
            ]
          },
          "metadata": {
            "tags": []
          },
          "execution_count": 42
        }
      ]
    },
    {
      "cell_type": "code",
      "metadata": {
        "id": "syINqEu93Xmf",
        "colab": {
          "base_uri": "https://localhost:8080/"
        },
        "outputId": "8afd2548-f893-4cd0-8cf5-4170d3b2cdf8"
      },
      "source": [
        "# Cross-validation - 10fold\n",
        "scores_rid = cross_val_score(model_rid, X, Y, cv=10)\n",
        "print('Cross-Validation Accuracy Scores', scores_rid)\n",
        "\n",
        "scores_rid = pd.Series(scores_rid)\n",
        "scores_rid.min(), scores_rid.mean(), scores_rid.max()"
      ],
      "execution_count": null,
      "outputs": [
        {
          "output_type": "stream",
          "text": [
            "Cross-Validation Accuracy Scores [0.78899083 0.82110092 0.81192661 0.80504587 0.80963303 0.82798165\n",
            " 0.80275229 0.80733945 0.80045872 0.78899083]\n"
          ],
          "name": "stdout"
        },
        {
          "output_type": "stream",
          "text": [
            "/usr/local/lib/python3.7/dist-packages/sklearn/linear_model/_ridge.py:148: LinAlgWarning: Ill-conditioned matrix (rcond=1.06706e-119): result may not be accurate.\n",
            "  overwrite_a=True).T\n",
            "/usr/local/lib/python3.7/dist-packages/sklearn/linear_model/_ridge.py:148: LinAlgWarning: Ill-conditioned matrix (rcond=9.4257e-120): result may not be accurate.\n",
            "  overwrite_a=True).T\n",
            "/usr/local/lib/python3.7/dist-packages/sklearn/linear_model/_ridge.py:148: LinAlgWarning: Ill-conditioned matrix (rcond=6.06987e-120): result may not be accurate.\n",
            "  overwrite_a=True).T\n",
            "/usr/local/lib/python3.7/dist-packages/sklearn/linear_model/_ridge.py:148: LinAlgWarning: Ill-conditioned matrix (rcond=6.06783e-120): result may not be accurate.\n",
            "  overwrite_a=True).T\n",
            "/usr/local/lib/python3.7/dist-packages/sklearn/linear_model/_ridge.py:148: LinAlgWarning: Ill-conditioned matrix (rcond=6.06774e-120): result may not be accurate.\n",
            "  overwrite_a=True).T\n",
            "/usr/local/lib/python3.7/dist-packages/sklearn/linear_model/_ridge.py:148: LinAlgWarning: Ill-conditioned matrix (rcond=6.06769e-120): result may not be accurate.\n",
            "  overwrite_a=True).T\n",
            "/usr/local/lib/python3.7/dist-packages/sklearn/linear_model/_ridge.py:148: LinAlgWarning: Ill-conditioned matrix (rcond=6.55806e-120): result may not be accurate.\n",
            "  overwrite_a=True).T\n",
            "/usr/local/lib/python3.7/dist-packages/sklearn/linear_model/_ridge.py:148: LinAlgWarning: Ill-conditioned matrix (rcond=6.46669e-120): result may not be accurate.\n",
            "  overwrite_a=True).T\n",
            "/usr/local/lib/python3.7/dist-packages/sklearn/linear_model/_ridge.py:148: LinAlgWarning: Ill-conditioned matrix (rcond=6.06271e-120): result may not be accurate.\n",
            "  overwrite_a=True).T\n",
            "/usr/local/lib/python3.7/dist-packages/sklearn/linear_model/_ridge.py:148: LinAlgWarning: Ill-conditioned matrix (rcond=6.55818e-120): result may not be accurate.\n",
            "  overwrite_a=True).T\n"
          ],
          "name": "stderr"
        },
        {
          "output_type": "execute_result",
          "data": {
            "text/plain": [
              "(0.7889908256880734, 0.806422018348624, 0.8279816513761468)"
            ]
          },
          "metadata": {
            "tags": []
          },
          "execution_count": 43
        }
      ]
    },
    {
      "cell_type": "code",
      "metadata": {
        "id": "4d07cM3C3Xmg",
        "colab": {
          "base_uri": "https://localhost:8080/"
        },
        "outputId": "c4558921-34a5-4455-e988-247f241fe72c"
      },
      "source": [
        "print(classification_report(Y_test, yhat_test))"
      ],
      "execution_count": null,
      "outputs": [
        {
          "output_type": "stream",
          "text": [
            "              precision    recall  f1-score   support\n",
            "\n",
            "           0       0.83      0.77      0.80       594\n",
            "           1       0.78      0.84      0.81       581\n",
            "\n",
            "    accuracy                           0.80      1175\n",
            "   macro avg       0.80      0.80      0.80      1175\n",
            "weighted avg       0.80      0.80      0.80      1175\n",
            "\n"
          ],
          "name": "stdout"
        }
      ]
    },
    {
      "cell_type": "code",
      "metadata": {
        "id": "y-zA3ATF3Xmg"
      },
      "source": [
        ""
      ],
      "execution_count": null,
      "outputs": []
    }
  ]
}