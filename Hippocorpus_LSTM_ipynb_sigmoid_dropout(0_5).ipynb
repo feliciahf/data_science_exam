{
  "nbformat": 4,
  "nbformat_minor": 0,
  "metadata": {
    "colab": {
      "name": "Hippocorpus_LSTM.ipynb - sigmoid-dropout(0.5)",
      "provenance": [],
      "include_colab_link": true
    },
    "kernelspec": {
      "name": "python3",
      "display_name": "Python 3"
    },
    "language_info": {
      "name": "python"
    }
  },
  "cells": [
    {
      "cell_type": "markdown",
      "metadata": {
        "id": "view-in-github",
        "colab_type": "text"
      },
      "source": [
        "<a href=\"https://colab.research.google.com/github/feliciahf/data_science_exam/blob/main/Hippocorpus_LSTM_ipynb_sigmoid_dropout(0_5).ipynb\" target=\"_parent\"><img src=\"https://colab.research.google.com/assets/colab-badge.svg\" alt=\"Open In Colab\"/></a>"
      ]
    },
    {
      "cell_type": "markdown",
      "metadata": {
        "id": "e8tV_gXSDnVo"
      },
      "source": [
        "# Import packages"
      ]
    },
    {
      "cell_type": "code",
      "metadata": {
        "id": "f-siFxO1YuSC",
        "colab": {
          "base_uri": "https://localhost:8080/"
        },
        "outputId": "5fbc0bb4-b86c-449f-c9a2-c71d35a0089f"
      },
      "source": [
        "#Import the relevant packages\n",
        "import pandas as pd\n",
        "import numpy as np\n",
        "import re\n",
        "import nltk\n",
        "from nltk.corpus import stopwords\n",
        "nltk.download('stopwords')\n",
        "from keras.preprocessing.text import Tokenizer\n",
        "from keras.preprocessing.sequence import pad_sequences\n",
        "from sklearn.model_selection import train_test_split\n",
        "import keras\n",
        "import matplotlib.pyplot as plt"
      ],
      "execution_count": 1,
      "outputs": [
        {
          "output_type": "stream",
          "text": [
            "[nltk_data] Downloading package stopwords to /root/nltk_data...\n",
            "[nltk_data]   Unzipping corpora/stopwords.zip.\n"
          ],
          "name": "stdout"
        }
      ]
    },
    {
      "cell_type": "markdown",
      "metadata": {
        "id": "-oKCQJVKjaSj"
      },
      "source": [
        "# Import data"
      ]
    },
    {
      "cell_type": "code",
      "metadata": {
        "id": "oAbUwywpYzjw"
      },
      "source": [
        "# import csv file as dataframe (from GitHub repo)\n",
        "url = 'https://raw.githubusercontent.com/feliciahf/data_science_exam/main/hippoCorpusV2.csv'\n",
        "df = pd.read_csv(url, encoding='latin1')"
      ],
      "execution_count": 2,
      "outputs": []
    },
    {
      "cell_type": "code",
      "metadata": {
        "id": "ebLra9DaY2KE"
      },
      "source": [
        "# remove columns with uninformative information (AssignmentId, WorkerId, recAgnPairId, recImgPairId)\n",
        "uninformative_cols = [\"AssignmentId\", \"WorkerId\", \"recAgnPairId\", \"recImgPairId\"]\n",
        "df = df.drop(columns=uninformative_cols)"
      ],
      "execution_count": 3,
      "outputs": []
    },
    {
      "cell_type": "code",
      "metadata": {
        "id": "B-NEnv6I6jBq"
      },
      "source": [
        "# drop the retold column\n",
        "df = df[df.memType != 'retold']"
      ],
      "execution_count": 4,
      "outputs": []
    },
    {
      "cell_type": "code",
      "metadata": {
        "id": "pjF-hURjY4-X"
      },
      "source": [
        "# make labels column using numerical values\n",
        "df.memType = pd.Categorical(df.memType)\n",
        "df['label'] = df.memType.cat.codes"
      ],
      "execution_count": 5,
      "outputs": []
    },
    {
      "cell_type": "code",
      "metadata": {
        "colab": {
          "base_uri": "https://localhost:8080/"
        },
        "id": "mMFPlS_tY6qs",
        "outputId": "60abff16-41ff-455c-8ebe-6588bfb11579"
      },
      "source": [
        "# story type corresponding to label\n",
        "print(f\"Label 0: {df.loc[df['label'] == 0,'memType'].unique()}\")\n",
        "print(f\"Label 1: {df.loc[df['label'] == 1,'memType'].unique()}\")"
      ],
      "execution_count": 6,
      "outputs": [
        {
          "output_type": "stream",
          "text": [
            "Label 0: ['imagined']\n",
            "Categories (1, object): ['imagined']\n",
            "Label 1: ['recalled']\n",
            "Categories (1, object): ['recalled']\n"
          ],
          "name": "stdout"
        }
      ]
    },
    {
      "cell_type": "code",
      "metadata": {
        "colab": {
          "base_uri": "https://localhost:8080/"
        },
        "id": "rDQspGWtZAim",
        "outputId": "ecac4565-b846-4589-b0f5-1f4f6d4b4423"
      },
      "source": [
        "df.info()"
      ],
      "execution_count": 7,
      "outputs": [
        {
          "output_type": "stream",
          "text": [
            "<class 'pandas.core.frame.DataFrame'>\n",
            "Int64Index: 5535 entries, 0 to 6853\n",
            "Data columns (total 20 columns):\n",
            " #   Column             Non-Null Count  Dtype   \n",
            "---  ------             --------------  -----   \n",
            " 0   WorkTimeInSeconds  5535 non-null   int64   \n",
            " 1   annotatorAge       5518 non-null   float64 \n",
            " 2   annotatorGender    5535 non-null   object  \n",
            " 3   annotatorRace      5535 non-null   object  \n",
            " 4   distracted         5535 non-null   float64 \n",
            " 5   draining           5535 non-null   float64 \n",
            " 6   frequency          2779 non-null   float64 \n",
            " 7   importance         5391 non-null   float64 \n",
            " 8   logTimeSinceEvent  5535 non-null   float64 \n",
            " 9   mainEvent          5535 non-null   object  \n",
            " 10  memType            5535 non-null   category\n",
            " 11  mostSurprising     5535 non-null   object  \n",
            " 12  openness           5535 non-null   float64 \n",
            " 13  similarity         2756 non-null   float64 \n",
            " 14  similarityReason   2756 non-null   object  \n",
            " 15  story              5535 non-null   object  \n",
            " 16  stressful          5535 non-null   float64 \n",
            " 17  summary            5535 non-null   object  \n",
            " 18  timeSinceEvent     5535 non-null   float64 \n",
            " 19  label              5535 non-null   int8    \n",
            "dtypes: category(1), float64(10), int64(1), int8(1), object(7)\n",
            "memory usage: 832.5+ KB\n"
          ],
          "name": "stdout"
        }
      ]
    },
    {
      "cell_type": "code",
      "metadata": {
        "colab": {
          "base_uri": "https://localhost:8080/"
        },
        "id": "RNzKxtyUZM0J",
        "outputId": "3fc05fd2-4a04-4113-e309-33c876c6e3d1"
      },
      "source": [
        "#MARTINE - Gets the number of stories in the two categories; recalled and imagined??\n",
        "df.memType.value_counts()"
      ],
      "execution_count": 8,
      "outputs": [
        {
          "output_type": "execute_result",
          "data": {
            "text/plain": [
              "recalled    2779\n",
              "imagined    2756\n",
              "Name: memType, dtype: int64"
            ]
          },
          "metadata": {
            "tags": []
          },
          "execution_count": 8
        }
      ]
    },
    {
      "cell_type": "code",
      "metadata": {
        "colab": {
          "base_uri": "https://localhost:8080/"
        },
        "id": "zKlFOGUWZTc-",
        "outputId": "81278281-a0af-4775-dd94-c553a7bfb278"
      },
      "source": [
        "def print_plot(index):\n",
        "    example = df[df.index == index][['story', 'memType']].values[0]\n",
        "    if len(example) > 0:\n",
        "        print(example[0])\n",
        "        print('memType:', example[1])\n",
        "print_plot(10)"
      ],
      "execution_count": 9,
      "outputs": [
        {
          "output_type": "stream",
          "text": [
            "About a month ago me and my girlfriend went to the zoo. It was an unexpected trip we just decided to go on a random Wednesday. It was a pretty hot day that day considering it was the middle of July. As soon as we got in, we saw that there were some seals to the left of the entrance so we saw them for a few minutes. Then we went to the insect section of the zoo. There were so many of them like spiders, scorpions, also bigger animals like cobras, rattlesnakes stuff like that. Then we saw the elephants. It was pretty interesting because they were in an area that looked like a jungle and off in the distance we heard gorillas grunting. So we walked around until we found the gorillas and around there we also saw other kinds of primates like chimpanzees. We walked around a bit more and we stumbled upon all the other African animals like tigers, lions, giraffes etc. It was actually pretty cool to see the giraffes because one of them got really close to me. Along the way we saw a lot of different kinds of birds and small animals. We passed by the koalas and other Australian animals like Tasmanian devils, and kangaroos. I would have enjoyed it more though if we had gone on another day. It was really hot that day and we didn't really prepare for it. But I really enjoyed going there and we'll probably go again soon.\n",
            "memType: recalled\n"
          ],
          "name": "stdout"
        }
      ]
    },
    {
      "cell_type": "markdown",
      "metadata": {
        "id": "4zcQ-Diqj_ND"
      },
      "source": [
        "# Preprocessing"
      ]
    },
    {
      "cell_type": "code",
      "metadata": {
        "id": "2FXlfzSKacNz"
      },
      "source": [
        "df = df.reset_index(drop=True)\n",
        "REPLACE_BY_SPACE_RE = re.compile('[/(){}\\[\\]\\|@,;]')\n",
        "BAD_SYMBOLS_RE = re.compile('[^0-9a-z #+_]')\n",
        "STOPWORDS = set(stopwords.words('english'))\n",
        "\n",
        "def clean_text(text):\n",
        "    \"\"\"\n",
        "        text: a string\n",
        "        \n",
        "        return: modified initial string\n",
        "    \"\"\"\n",
        "    text = text.lower() # lowercase text\n",
        "    text = REPLACE_BY_SPACE_RE.sub(' ', text) # replace REPLACE_BY_SPACE_RE symbols by space in text. substitute the matched string in REPLACE_BY_SPACE_RE with space.\n",
        "    text = BAD_SYMBOLS_RE.sub('', text) # remove symbols which are in BAD_SYMBOLS_RE from text. substitute the matched string in BAD_SYMBOLS_RE with nothing. \n",
        "    text = text.replace('x', '')\n",
        "#    text = re.sub(r'\\W+', '', text)\n",
        "    text = ' '.join(word for word in text.split() if word not in STOPWORDS) # remove stopwors from text\n",
        "    return text\n",
        "df['story'] = df['story'].apply(clean_text)\n",
        "df['story'] = df['story'].str.replace('\\d+', '')"
      ],
      "execution_count": 10,
      "outputs": []
    },
    {
      "cell_type": "code",
      "metadata": {
        "colab": {
          "base_uri": "https://localhost:8080/"
        },
        "id": "8sRabn-ibZp5",
        "outputId": "d42d92bf-5600-4792-c2e5-5e2443edcc5b"
      },
      "source": [
        "df['story']"
      ],
      "execution_count": 11,
      "outputs": [
        {
          "output_type": "execute_result",
          "data": {
            "text/plain": [
              "0       concerts favorite thing boyfriend knew thats a...\n",
              "1       day started perfectly great drive denver show ...\n",
              "2       seems like yesterday today makes five months a...\n",
              "3       five months ago niece nephew born sisters firs...\n",
              "4       month ago went burning man hard time life felt...\n",
              "                              ...                        \n",
              "5530    dog diagnosed lymphoma year ago chemotherapy r...\n",
              "5531    vacation job went casper took side job lasted ...\n",
              "5532    event birthday party nephew turned five gather...\n",
              "5533    event occurred two weeks ago going shopping bi...\n",
              "5534    past year involved court situation involving d...\n",
              "Name: story, Length: 5535, dtype: object"
            ]
          },
          "metadata": {
            "tags": []
          },
          "execution_count": 11
        }
      ]
    },
    {
      "cell_type": "code",
      "metadata": {
        "colab": {
          "base_uri": "https://localhost:8080/"
        },
        "id": "nkwrlboqbbVL",
        "outputId": "e8d37e45-87c5-4dc5-8ab2-f2a64d849f91"
      },
      "source": [
        "print_plot(10)"
      ],
      "execution_count": 12,
      "outputs": [
        {
          "output_type": "stream",
          "text": [
            "vacation visit southeast asia every years least small tourist town thailand right pattaya beach fairly late one evening decided roam around city take pictures citizens shops nightclubs etc found rather secluded dingy part city wasnt sure eactly get back hotel looking one motorbike tais didnt see looking around group thais probably early s could tell part gang something like thought sure going get robbed beat across small street giving eye sudden tai went waved frantically saw drove pick got back hotel safely pretty shaken knew things going go badly small gang caught city another two weeks still ventured tried lot careful parts ventured really known better quite countries cities safe even though im somewhat used types environments still scary tourists known disappear never show happens fairly often especially countries completely corrupt police force still travel im little careful city go go particular city\n",
            "memType: imagined\n"
          ],
          "name": "stdout"
        }
      ]
    },
    {
      "cell_type": "code",
      "metadata": {
        "colab": {
          "base_uri": "https://localhost:8080/"
        },
        "id": "I4aDLqOnb-z_",
        "outputId": "d0c1d1ee-88ea-4f0b-9823-552d24185c80"
      },
      "source": [
        "# The maximum number of words to be used (most frequent)\n",
        "MAX_NB_WORDS = 50000\n",
        "# Max number of words in each story\n",
        "MAX_SEQUENCE_LENGTH = 1967\n",
        "# This is fixed\n",
        "EMBEDDING_DIM = 100\n",
        "tokenizer = Tokenizer(num_words=MAX_NB_WORDS, filters='!\"#$%&()*+,-./:;<=>?@[\\]^_`{|}~', lower=True)\n",
        "tokenizer.fit_on_texts(df['story'].values)\n",
        "word_index = tokenizer.word_index\n",
        "print('Found %s unique tokens.' % len(word_index))"
      ],
      "execution_count": 13,
      "outputs": [
        {
          "output_type": "stream",
          "text": [
            "Found 24496 unique tokens.\n"
          ],
          "name": "stdout"
        }
      ]
    },
    {
      "cell_type": "code",
      "metadata": {
        "colab": {
          "base_uri": "https://localhost:8080/"
        },
        "id": "WrUhZNLPdlm2",
        "outputId": "432ede79-1aee-45a5-c042-7d4b39fdff6c"
      },
      "source": [
        "X = tokenizer.texts_to_sequences(df['story'].values)\n",
        "X = pad_sequences(X, maxlen=MAX_SEQUENCE_LENGTH)\n",
        "print('Shape of data tensor:', X.shape)"
      ],
      "execution_count": 14,
      "outputs": [
        {
          "output_type": "stream",
          "text": [
            "Shape of data tensor: (5535, 1967)\n"
          ],
          "name": "stdout"
        }
      ]
    },
    {
      "cell_type": "code",
      "metadata": {
        "colab": {
          "base_uri": "https://localhost:8080/"
        },
        "id": "kBbFKn6ieAZy",
        "outputId": "f53250ac-74e2-4b42-8337-f29d2a517fbb"
      },
      "source": [
        "# change categorical strings to values\n",
        "Y = pd.get_dummies(df['memType']).values\n",
        "print('Shape of label tensor:', Y.shape)"
      ],
      "execution_count": 15,
      "outputs": [
        {
          "output_type": "stream",
          "text": [
            "Shape of label tensor: (5535, 2)\n"
          ],
          "name": "stdout"
        }
      ]
    },
    {
      "cell_type": "markdown",
      "metadata": {
        "id": "2n0K_QPGktXi"
      },
      "source": [
        "# Split dataset"
      ]
    },
    {
      "cell_type": "code",
      "metadata": {
        "colab": {
          "base_uri": "https://localhost:8080/"
        },
        "id": "9weQs_4EeJsq",
        "outputId": "a2d8e8b0-a378-4dfe-c67d-fd15e0a3fcd9"
      },
      "source": [
        "X_train, X_test, Y_train, Y_test = train_test_split(X,Y, test_size = 0.20, random_state = 42)\n",
        "print(X_train.shape,Y_train.shape)\n",
        "print(X_test.shape,Y_test.shape)"
      ],
      "execution_count": 16,
      "outputs": [
        {
          "output_type": "stream",
          "text": [
            "(4428, 1967) (4428, 2)\n",
            "(1107, 1967) (1107, 2)\n"
          ],
          "name": "stdout"
        }
      ]
    },
    {
      "cell_type": "markdown",
      "metadata": {
        "id": "yD4_TJWOkvBz"
      },
      "source": [
        "# LSTM Model"
      ]
    },
    {
      "cell_type": "code",
      "metadata": {
        "colab": {
          "base_uri": "https://localhost:8080/"
        },
        "id": "QPbkfHZkDYL2",
        "outputId": "c4248aa8-13f4-4f65-bd73-3951785d1f1d"
      },
      "source": [
        "import keras\n",
        "\n",
        "#Groups the layers into a linear stack\n",
        "model = keras.Sequential()\n",
        "\n",
        "\n",
        "model.add(keras.layers.Embedding(MAX_NB_WORDS, EMBEDDING_DIM, input_length=X.shape[1]))\n",
        "model.add(keras.layers.SpatialDropout1D(0.8))\n",
        "\n",
        "model.add(keras.layers.LSTM(25, dropout=0.5, recurrent_dropout=0.2, return_sequences=True))\n",
        "model.add(keras.layers.LSTM(25, dropout=0.5, recurrent_dropout=0.2, return_sequences= True))\n",
        "model.add(keras.layers.LSTM(25, dropout=0.5, recurrent_dropout=0.2))\n",
        "model.add(keras.layers.Dense(2, activation='sigmoid'))\n",
        "\n",
        "model.compile(loss='binary_crossentropy', optimizer='adam', metrics=['accuracy'])\n",
        "\n",
        "epochs = 3\n",
        "batch_size = 32\n",
        "\n",
        "history = model.fit(X_train, Y_train, epochs=epochs, batch_size=batch_size,validation_split=0.2,callbacks=[keras.callbacks.EarlyStopping(monitor='val_loss', patience=3, min_delta=0.0001)])"
      ],
      "execution_count": 18,
      "outputs": [
        {
          "output_type": "stream",
          "text": [
            "Epoch 1/3\n",
            "111/111 [==============================] - 704s 6s/step - loss: 0.6936 - accuracy: 0.4835 - val_loss: 0.6925 - val_accuracy: 0.5327\n",
            "Epoch 2/3\n",
            "111/111 [==============================] - 697s 6s/step - loss: 0.6919 - accuracy: 0.5152 - val_loss: 0.6916 - val_accuracy: 0.4898\n",
            "Epoch 3/3\n",
            "111/111 [==============================] - 697s 6s/step - loss: 0.6550 - accuracy: 0.6223 - val_loss: 0.6364 - val_accuracy: 0.6366\n"
          ],
          "name": "stdout"
        }
      ]
    },
    {
      "cell_type": "markdown",
      "metadata": {
        "id": "sl5kHoTRkyc1"
      },
      "source": [
        "# Model evaluation"
      ]
    },
    {
      "cell_type": "code",
      "metadata": {
        "id": "5cg9imvEhXry",
        "colab": {
          "base_uri": "https://localhost:8080/"
        },
        "outputId": "52cf36f2-d62b-434c-9f6d-2691e03641fc"
      },
      "source": [
        "# model evaluation\n",
        "accr = model.evaluate(X_test,Y_test)\n",
        "print('Test set\\n  Loss: {:0.3f}\\n  Accuracy: {:0.3f}'.format(accr[0],accr[1]))"
      ],
      "execution_count": 19,
      "outputs": [
        {
          "output_type": "stream",
          "text": [
            "35/35 [==============================] - 18s 518ms/step - loss: 0.6648 - accuracy: 0.6161\n",
            "Test set\n",
            "  Loss: 0.665\n",
            "  Accuracy: 0.616\n"
          ],
          "name": "stdout"
        }
      ]
    },
    {
      "cell_type": "code",
      "metadata": {
        "id": "ZOidP7Hlha9l",
        "colab": {
          "base_uri": "https://localhost:8080/",
          "height": 281
        },
        "outputId": "24ca2c32-8e3c-4d9c-8752-0fe3a1365bb0"
      },
      "source": [
        "plt.title('Loss')\n",
        "plt.plot(history.history['loss'], label='train')\n",
        "plt.plot(history.history['val_loss'], label='test')\n",
        "plt.legend()\n",
        "plt.show();"
      ],
      "execution_count": 20,
      "outputs": [
        {
          "output_type": "display_data",
          "data": {
            "image/png": "[encoded data removed]",
            "text/plain": [
              "<Figure size 432x288 with 1 Axes>"
            ]
          },
          "metadata": {
            "tags": [],
            "needs_background": "light"
          }
        }
      ]
    },
    {
      "cell_type": "code",
      "metadata": {
        "id": "cfkTX5Omhd3n",
        "colab": {
          "base_uri": "https://localhost:8080/",
          "height": 281
        },
        "outputId": "468ce6ab-26d0-4d64-d897-443f4a01d8d8"
      },
      "source": [
        "plt.title('Accuracy')\n",
        "plt.plot(history.history['accuracy'], label='train')\n",
        "plt.plot(history.history['val_accuracy'], label='test')\n",
        "plt.legend()\n",
        "plt.show();"
      ],
      "execution_count": 21,
      "outputs": [
        {
          "output_type": "display_data",
          "data": {
            "image/png": "[encoded data removed]",
            "text/plain": [
              "<Figure size 432x288 with 1 Axes>"
            ]
          },
          "metadata": {
            "tags": [],
            "needs_background": "light"
          }
        }
      ]
    },
    {
      "cell_type": "code",
      "metadata": {
        "id": "4rNZX41fXpe8"
      },
      "source": [
        ""
      ],
      "execution_count": null,
      "outputs": []
    }
  ]
}