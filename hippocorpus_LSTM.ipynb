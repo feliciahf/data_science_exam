{
  "nbformat": 4,
  "nbformat_minor": 0,
  "metadata": {
    "colab": {
      "name": "hippocorpus_LSTM.ipynb",
      "provenance": [],
      "authorship_tag": "ABX9TyOKpNOfcBythqol2qIga02o",
      "include_colab_link": true
    },
    "kernelspec": {
      "name": "python3",
      "display_name": "Python 3"
    },
    "language_info": {
      "name": "python"
    }
  },
  "cells": [
    {
      "cell_type": "markdown",
      "metadata": {
        "id": "view-in-github",
        "colab_type": "text"
      },
      "source": [
        "<a href=\"https://colab.research.google.com/github/feliciahf/data_science_exam/blob/main/hippocorpus_LSTM.ipynb\" target=\"_parent\"><img src=\"https://colab.research.google.com/assets/colab-badge.svg\" alt=\"Open In Colab\"/></a>"
      ]
    },
    {
      "cell_type": "markdown",
      "metadata": {
        "id": "e8tV_gXSDnVo"
      },
      "source": [
        "# Import packages"
      ]
    },
    {
      "cell_type": "code",
      "metadata": {
        "id": "f-siFxO1YuSC"
      },
      "source": [
        "import pandas as pd\n",
        "import numpy as np\n",
        "import re\n",
        "import nltk\n",
        "from nltk.corpus import stopwords\n",
        "nltk.download('stopwords')\n",
        "from keras.preprocessing.text import Tokenizer\n",
        "from keras.preprocessing.sequence import pad_sequences\n",
        "from sklearn.model_selection import train_test_split\n",
        "import keras\n",
        "import matplotlib.pyplot as plt"
      ],
      "execution_count": 1,
      "outputs": []
    },
    {
      "cell_type": "markdown",
      "metadata": {
        "id": "-oKCQJVKjaSj"
      },
      "source": [
        "# Import data"
      ]
    },
    {
      "cell_type": "code",
      "metadata": {
        "id": "oAbUwywpYzjw"
      },
      "source": [
        "# import csv file as dataframe (from GitHub repo)\n",
        "url = 'https://raw.githubusercontent.com/feliciahf/data_science_exam/main/hippoCorpusV2.csv'\n",
        "df = pd.read_csv(url, encoding='latin1')"
      ],
      "execution_count": 2,
      "outputs": []
    },
    {
      "cell_type": "code",
      "metadata": {
        "id": "ebLra9DaY2KE"
      },
      "source": [
        "# remove columns with uninformative information (AssignmentId, WorkerId, recAgnPairId, recImgPairId)\n",
        "uninformative_cols = [\"AssignmentId\", \"WorkerId\", \"recAgnPairId\", \"recImgPairId\"]\n",
        "df = df.drop(columns=uninformative_cols)"
      ],
      "execution_count": 3,
      "outputs": []
    },
    {
      "cell_type": "code",
      "metadata": {
        "id": "pjF-hURjY4-X"
      },
      "source": [
        "# make labels column using numerical values\n",
        "df.memType = pd.Categorical(df.memType)\n",
        "df['label'] = df.memType.cat.codes"
      ],
      "execution_count": 4,
      "outputs": []
    },
    {
      "cell_type": "code",
      "metadata": {
        "colab": {
          "base_uri": "https://localhost:8080/"
        },
        "id": "mMFPlS_tY6qs",
        "outputId": "dd206713-645a-432b-a0db-46f23082f4f2"
      },
      "source": [
        "# story type corresponding to label\n",
        "print(f\"Label 0: {df.loc[df['label'] == 0,'memType'].unique()}\")\n",
        "print(f\"Label 1: {df.loc[df['label'] == 1,'memType'].unique()}\")\n",
        "print(f\"Label 2: {df.loc[df['label'] == 2,'memType'].unique()}\")"
      ],
      "execution_count": 5,
      "outputs": [
        {
          "output_type": "stream",
          "text": [
            "Label 0: ['imagined']\n",
            "Categories (1, object): ['imagined']\n",
            "Label 1: ['recalled']\n",
            "Categories (1, object): ['recalled']\n",
            "Label 2: ['retold']\n",
            "Categories (1, object): ['retold']\n"
          ],
          "name": "stdout"
        }
      ]
    },
    {
      "cell_type": "code",
      "metadata": {
        "colab": {
          "base_uri": "https://localhost:8080/"
        },
        "id": "rDQspGWtZAim",
        "outputId": "f6d4fd50-37dd-490b-ffef-26e99de9f636"
      },
      "source": [
        "df.info()"
      ],
      "execution_count": 6,
      "outputs": [
        {
          "output_type": "stream",
          "text": [
            "<class 'pandas.core.frame.DataFrame'>\n",
            "RangeIndex: 6854 entries, 0 to 6853\n",
            "Data columns (total 20 columns):\n",
            " #   Column             Non-Null Count  Dtype   \n",
            "---  ------             --------------  -----   \n",
            " 0   WorkTimeInSeconds  6854 non-null   int64   \n",
            " 1   annotatorAge       6831 non-null   float64 \n",
            " 2   annotatorGender    6854 non-null   object  \n",
            " 3   annotatorRace      6854 non-null   object  \n",
            " 4   distracted         6854 non-null   float64 \n",
            " 5   draining           6854 non-null   float64 \n",
            " 6   frequency          4098 non-null   float64 \n",
            " 7   importance         6710 non-null   float64 \n",
            " 8   logTimeSinceEvent  6854 non-null   float64 \n",
            " 9   mainEvent          6854 non-null   object  \n",
            " 10  memType            6854 non-null   category\n",
            " 11  mostSurprising     6854 non-null   object  \n",
            " 12  openness           6854 non-null   float64 \n",
            " 13  similarity         2756 non-null   float64 \n",
            " 14  similarityReason   2756 non-null   object  \n",
            " 15  story              6854 non-null   object  \n",
            " 16  stressful          6854 non-null   float64 \n",
            " 17  summary            6854 non-null   object  \n",
            " 18  timeSinceEvent     6854 non-null   float64 \n",
            " 19  label              6854 non-null   int8    \n",
            "dtypes: category(1), float64(10), int64(1), int8(1), object(7)\n",
            "memory usage: 977.5+ KB\n"
          ],
          "name": "stdout"
        }
      ]
    },
    {
      "cell_type": "code",
      "metadata": {
        "colab": {
          "base_uri": "https://localhost:8080/"
        },
        "id": "RNzKxtyUZM0J",
        "outputId": "76603c83-a84e-47ba-9897-76c9a6475f40"
      },
      "source": [
        "df.memType.value_counts()"
      ],
      "execution_count": 8,
      "outputs": [
        {
          "output_type": "execute_result",
          "data": {
            "text/plain": [
              "recalled    2779\n",
              "imagined    2756\n",
              "retold      1319\n",
              "Name: memType, dtype: int64"
            ]
          },
          "metadata": {
            "tags": []
          },
          "execution_count": 8
        }
      ]
    },
    {
      "cell_type": "code",
      "metadata": {
        "colab": {
          "base_uri": "https://localhost:8080/"
        },
        "id": "zKlFOGUWZTc-",
        "outputId": "dea7e4e6-6c07-4e7f-9e2d-fc392902819a"
      },
      "source": [
        "def print_plot(index):\n",
        "    example = df[df.index == index][['story', 'memType']].values[0]\n",
        "    if len(example) > 0:\n",
        "        print(example[0])\n",
        "        print('memType:', example[1])\n",
        "print_plot(10)"
      ],
      "execution_count": 9,
      "outputs": [
        {
          "output_type": "stream",
          "text": [
            "About a month ago me and my girlfriend went to the zoo. It was an unexpected trip we just decided to go on a random Wednesday. It was a pretty hot day that day considering it was the middle of July. As soon as we got in, we saw that there were some seals to the left of the entrance so we saw them for a few minutes. Then we went to the insect section of the zoo. There were so many of them like spiders, scorpions, also bigger animals like cobras, rattlesnakes stuff like that. Then we saw the elephants. It was pretty interesting because they were in an area that looked like a jungle and off in the distance we heard gorillas grunting. So we walked around until we found the gorillas and around there we also saw other kinds of primates like chimpanzees. We walked around a bit more and we stumbled upon all the other African animals like tigers, lions, giraffes etc. It was actually pretty cool to see the giraffes because one of them got really close to me. Along the way we saw a lot of different kinds of birds and small animals. We passed by the koalas and other Australian animals like Tasmanian devils, and kangaroos. I would have enjoyed it more though if we had gone on another day. It was really hot that day and we didn't really prepare for it. But I really enjoyed going there and we'll probably go again soon.\n",
            "memType: recalled\n"
          ],
          "name": "stdout"
        }
      ]
    },
    {
      "cell_type": "markdown",
      "metadata": {
        "id": "4zcQ-Diqj_ND"
      },
      "source": [
        "# Preprocessing"
      ]
    },
    {
      "cell_type": "code",
      "metadata": {
        "id": "2FXlfzSKacNz"
      },
      "source": [
        "df = df.reset_index(drop=True)\n",
        "REPLACE_BY_SPACE_RE = re.compile('[/(){}\\[\\]\\|@,;]')\n",
        "BAD_SYMBOLS_RE = re.compile('[^0-9a-z #+_]')\n",
        "STOPWORDS = set(stopwords.words('english'))\n",
        "\n",
        "def clean_text(text):\n",
        "    \"\"\"\n",
        "        text: a string\n",
        "        \n",
        "        return: modified initial string\n",
        "    \"\"\"\n",
        "    text = text.lower() # lowercase text\n",
        "    text = REPLACE_BY_SPACE_RE.sub(' ', text) # replace REPLACE_BY_SPACE_RE symbols by space in text. substitute the matched string in REPLACE_BY_SPACE_RE with space.\n",
        "    text = BAD_SYMBOLS_RE.sub('', text) # remove symbols which are in BAD_SYMBOLS_RE from text. substitute the matched string in BAD_SYMBOLS_RE with nothing. \n",
        "    text = text.replace('x', '')\n",
        "#    text = re.sub(r'\\W+', '', text)\n",
        "    text = ' '.join(word for word in text.split() if word not in STOPWORDS) # remove stopwors from text\n",
        "    return text\n",
        "df['story'] = df['story'].apply(clean_text)\n",
        "df['story'] = df['story'].str.replace('\\d+', '')"
      ],
      "execution_count": 19,
      "outputs": []
    },
    {
      "cell_type": "code",
      "metadata": {
        "colab": {
          "base_uri": "https://localhost:8080/"
        },
        "id": "8sRabn-ibZp5",
        "outputId": "7f43e4a1-0e01-433b-fa5c-4a58ed5b07c5"
      },
      "source": [
        "df['story']"
      ],
      "execution_count": 20,
      "outputs": [
        {
          "output_type": "execute_result",
          "data": {
            "text/plain": [
              "0       concerts favorite thing boyfriend knew thats a...\n",
              "1       day started perfectly great drive denver show ...\n",
              "2       seems like yesterday today makes five months a...\n",
              "3       five months ago niece nephew born sisters firs...\n",
              "4       month ago went burning man hard time life felt...\n",
              "                              ...                        \n",
              "6849    dog diagnosed lymphoma year ago chemotherapy r...\n",
              "6850    vacation job went casper took side job lasted ...\n",
              "6851    event birthday party nephew turned five gather...\n",
              "6852    event occurred two weeks ago going shopping bi...\n",
              "6853    past year involved court situation involving d...\n",
              "Name: story, Length: 6854, dtype: object"
            ]
          },
          "metadata": {
            "tags": []
          },
          "execution_count": 20
        }
      ]
    },
    {
      "cell_type": "code",
      "metadata": {
        "colab": {
          "base_uri": "https://localhost:8080/"
        },
        "id": "nkwrlboqbbVL",
        "outputId": "119ea9a7-fea4-4e07-f4e2-d972b24197db"
      },
      "source": [
        "print_plot(10)"
      ],
      "execution_count": 21,
      "outputs": [
        {
          "output_type": "stream",
          "text": [
            "month ago girlfriend went zoo unepected trip decided go random wednesday pretty hot day day considering middle july soon got saw seals left entrance saw minutes went insect section zoo many like spiders scorpions also bigger animals like cobras rattlesnakes stuff like saw elephants pretty interesting area looked like jungle distance heard gorillas grunting walked around found gorillas around also saw kinds primates like chimpanzees walked around bit stumbled upon african animals like tigers lions giraffes etc actually pretty cool see giraffes one got really close along way saw lot different kinds birds small animals passed koalas australian animals like tasmanian devils kangaroos would enjoyed though gone another day really hot day didnt really prepare really enjoyed going well probably go soon\n",
            "memType: recalled\n"
          ],
          "name": "stdout"
        }
      ]
    },
    {
      "cell_type": "code",
      "metadata": {
        "colab": {
          "base_uri": "https://localhost:8080/"
        },
        "id": "I4aDLqOnb-z_",
        "outputId": "6c69a4f3-c0b2-480b-fce2-df4b28ef4a75"
      },
      "source": [
        "# The maximum number of words to be used (most frequent)\n",
        "MAX_NB_WORDS = 50000\n",
        "# Max number of words in each story\n",
        "MAX_SEQUENCE_LENGTH = 1967\n",
        "# This is fixed\n",
        "EMBEDDING_DIM = 100\n",
        "tokenizer = Tokenizer(num_words=MAX_NB_WORDS, filters='!\"#$%&()*+,-./:;<=>?@[\\]^_`{|}~', lower=True)\n",
        "tokenizer.fit_on_texts(df['story'].values)\n",
        "word_index = tokenizer.word_index\n",
        "print('Found %s unique tokens.' % len(word_index))"
      ],
      "execution_count": 85,
      "outputs": [
        {
          "output_type": "stream",
          "text": [
            "Found 26593 unique tokens.\n"
          ],
          "name": "stdout"
        }
      ]
    },
    {
      "cell_type": "code",
      "metadata": {
        "colab": {
          "base_uri": "https://localhost:8080/"
        },
        "id": "WrUhZNLPdlm2",
        "outputId": "c1f3a88c-9bbf-4278-909c-6de9a86b8864"
      },
      "source": [
        "X = tokenizer.texts_to_sequences(df['story'].values)\n",
        "X = pad_sequences(X, maxlen=MAX_SEQUENCE_LENGTH)\n",
        "print('Shape of data tensor:', X.shape)"
      ],
      "execution_count": 86,
      "outputs": [
        {
          "output_type": "stream",
          "text": [
            "Shape of data tensor: (6854, 1967)\n"
          ],
          "name": "stdout"
        }
      ]
    },
    {
      "cell_type": "code",
      "metadata": {
        "colab": {
          "base_uri": "https://localhost:8080/"
        },
        "id": "kBbFKn6ieAZy",
        "outputId": "6d56f51d-56ab-4a97-ab52-e516e71ab813"
      },
      "source": [
        "# change categorical strings to values\n",
        "Y = pd.get_dummies(df['memType']).values\n",
        "print('Shape of label tensor:', Y.shape)"
      ],
      "execution_count": 87,
      "outputs": [
        {
          "output_type": "stream",
          "text": [
            "Shape of label tensor: (6854, 3)\n"
          ],
          "name": "stdout"
        }
      ]
    },
    {
      "cell_type": "markdown",
      "metadata": {
        "id": "2n0K_QPGktXi"
      },
      "source": [
        "# Split dataset"
      ]
    },
    {
      "cell_type": "code",
      "metadata": {
        "colab": {
          "base_uri": "https://localhost:8080/"
        },
        "id": "9weQs_4EeJsq",
        "outputId": "bff71da9-101b-4110-c3e5-252d2fdb2ab8"
      },
      "source": [
        "X_train, X_test, Y_train, Y_test = train_test_split(X,Y, test_size = 0.20, random_state = 42)\n",
        "print(X_train.shape,Y_train.shape)\n",
        "print(X_test.shape,Y_test.shape)"
      ],
      "execution_count": 88,
      "outputs": [
        {
          "output_type": "stream",
          "text": [
            "(5483, 1967) (5483, 3)\n",
            "(1371, 1967) (1371, 3)\n"
          ],
          "name": "stdout"
        }
      ]
    },
    {
      "cell_type": "markdown",
      "metadata": {
        "id": "yD4_TJWOkvBz"
      },
      "source": [
        "# LSTM Model"
      ]
    },
    {
      "cell_type": "code",
      "metadata": {
        "colab": {
          "base_uri": "https://localhost:8080/"
        },
        "id": "5NkTabdkkaAB",
        "outputId": "51022bb7-8af0-438b-fa04-bbb8c6054a9f"
      },
      "source": [
        "model = keras.Sequential()\n",
        "model.add(keras.layers.Embedding(MAX_NB_WORDS, EMBEDDING_DIM, input_length=X.shape[1]))\n",
        "model.add(keras.layers.SpatialDropout1D(0.2))\n",
        "model.add(keras.layers.LSTM(50, dropout=0.2, recurrent_dropout=0.2))\n",
        "model.add(keras.layers.Dense(3, activation='softmax'))\n",
        "model.compile(loss='categorical_crossentropy', optimizer='adam', metrics=['accuracy'])\n",
        "\n",
        "epochs = 2\n",
        "batch_size = 32\n",
        "\n",
        "history = model.fit(X_train, Y_train, epochs=epochs, batch_size=batch_size,validation_split=0.2,callbacks=[keras.callbacks.EarlyStopping(monitor='val_loss', patience=3, min_delta=0.0001)])"
      ],
      "execution_count": 102,
      "outputs": [
        {
          "output_type": "stream",
          "text": [
            "Epoch 1/2\n",
            "35/35 [==============================] - 225s 6s/step - loss: 1.0806 - accuracy: 0.3913 - val_loss: 1.0550 - val_accuracy: 0.4622\n",
            "Epoch 2/2\n",
            "35/35 [==============================] - 211s 6s/step - loss: 1.0326 - accuracy: 0.5420 - val_loss: 1.2172 - val_accuracy: 0.4066\n"
          ],
          "name": "stdout"
        }
      ]
    },
    {
      "cell_type": "markdown",
      "metadata": {
        "id": "sl5kHoTRkyc1"
      },
      "source": [
        "# Model evaluation"
      ]
    },
    {
      "cell_type": "code",
      "metadata": {
        "colab": {
          "base_uri": "https://localhost:8080/"
        },
        "id": "5cg9imvEhXry",
        "outputId": "b07fd208-fa64-4560-97ed-3a57944071e5"
      },
      "source": [
        "# model evaluation\n",
        "accr = model.evaluate(X_test,Y_test)\n",
        "print('Test set\\n  Loss: {:0.3f}\\n  Accuracy: {:0.3f}'.format(accr[0],accr[1]))"
      ],
      "execution_count": 103,
      "outputs": [
        {
          "output_type": "stream",
          "text": [
            "43/43 [==============================] - 14s 336ms/step - loss: 1.1843 - accuracy: 0.4311\n",
            "Test set\n",
            "  Loss: 1.184\n",
            "  Accuracy: 0.431\n"
          ],
          "name": "stdout"
        }
      ]
    },
    {
      "cell_type": "code",
      "metadata": {
        "colab": {
          "base_uri": "https://localhost:8080/",
          "height": 281
        },
        "id": "ZOidP7Hlha9l",
        "outputId": "3b818ec7-6838-492a-aeed-9185e53352f7"
      },
      "source": [
        "plt.title('Loss')\n",
        "plt.plot(history.history['loss'], label='train')\n",
        "plt.plot(history.history['val_loss'], label='test')\n",
        "plt.legend()\n",
        "plt.show();"
      ],
      "execution_count": 104,
      "outputs": [
        {
          "output_type": "display_data",
          "data": {
            "image/png": "[encoded data removed]",
            "text/plain": [
              "<Figure size 432x288 with 1 Axes>"
            ]
          },
          "metadata": {
            "tags": [],
            "needs_background": "light"
          }
        }
      ]
    },
    {
      "cell_type": "code",
      "metadata": {
        "colab": {
          "base_uri": "https://localhost:8080/",
          "height": 281
        },
        "id": "cfkTX5Omhd3n",
        "outputId": "158d39e9-abc1-4cf0-80bd-b7ecf4d9f967"
      },
      "source": [
        "plt.title('Accuracy')\n",
        "plt.plot(history.history['accuracy'], label='train')\n",
        "plt.plot(history.history['val_accuracy'], label='test')\n",
        "plt.legend()\n",
        "plt.show();"
      ],
      "execution_count": 105,
      "outputs": [
        {
          "output_type": "display_data",
          "data": {
            "image/png": "[encoded data removed]",
            "text/plain": [
              "<Figure size 432x288 with 1 Axes>"
            ]
          },
          "metadata": {
            "tags": [],
            "needs_background": "light"
          }
        }
      ]
    }
  ]
}