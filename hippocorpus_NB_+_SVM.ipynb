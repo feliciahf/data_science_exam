{
  "nbformat": 4,
  "nbformat_minor": 0,
  "metadata": {
    "colab": {
      "name": "hippocorpus_NB + SVM.ipynb",
      "provenance": [],
      "include_colab_link": true
    },
    "kernelspec": {
      "name": "python3",
      "display_name": "Python 3"
    },
    "language_info": {
      "name": "python"
    }
  },
  "cells": [
    {
      "cell_type": "markdown",
      "metadata": {
        "id": "view-in-github",
        "colab_type": "text"
      },
      "source": [
        "<a href=\"https://colab.research.google.com/github/feliciahf/data_science_exam/blob/main/hippocorpus_NB_%2B_SVM.ipynb\" target=\"_parent\"><img src=\"https://colab.research.google.com/assets/colab-badge.svg\" alt=\"Open In Colab\"/></a>"
      ]
    },
    {
      "cell_type": "markdown",
      "metadata": {
        "id": "uS0Vz4ExdBMZ"
      },
      "source": [
        "# Import packages"
      ]
    },
    {
      "cell_type": "code",
      "metadata": {
        "colab": {
          "base_uri": "https://localhost:8080/"
        },
        "id": "JTSjJzvmc9Xh",
        "outputId": "c857541f-c7b2-46be-e293-052bd8ded705"
      },
      "source": [
        "import pandas as pd\n",
        "import numpy as np\n",
        "\n",
        "# Preprocessing\n",
        "import re\n",
        "import nltk\n",
        "from nltk.corpus import stopwords\n",
        "nltk.download('stopwords')\n",
        "from nltk.tokenize import word_tokenize\n",
        "nltk.download('punkt')\n",
        "\n",
        "# Naive Bayes model\n",
        "from sklearn.feature_extraction.text import CountVectorizer, TfidfTransformer\n",
        "from sklearn.model_selection import train_test_split\n",
        "from sklearn.naive_bayes import MultinomialNB\n",
        "\n",
        "# SVM model\n",
        "from sklearn import svm\n",
        "\n",
        "# Accuracies\n",
        "from sklearn.metrics import accuracy_score, precision_score, recall_score, f1_score, confusion_matrix, matthews_corrcoef\n",
        "from sklearn.metrics import precision_recall_fscore_support as score"
      ],
      "execution_count": 1,
      "outputs": [
        {
          "output_type": "stream",
          "text": [
            "[nltk_data] Downloading package stopwords to /root/nltk_data...\n",
            "[nltk_data]   Unzipping corpora/stopwords.zip.\n",
            "[nltk_data] Downloading package punkt to /root/nltk_data...\n",
            "[nltk_data]   Unzipping tokenizers/punkt.zip.\n"
          ],
          "name": "stdout"
        }
      ]
    },
    {
      "cell_type": "markdown",
      "metadata": {
        "id": "A-b1BAaGdFhT"
      },
      "source": [
        "# Import data"
      ]
    },
    {
      "cell_type": "code",
      "metadata": {
        "id": "fDQVM-btdG3n"
      },
      "source": [
        "# import csv file as dataframe (from GitHub repo)\n",
        "url = 'https://raw.githubusercontent.com/feliciahf/data_science_exam/main/hippoCorpusV2.csv'\n",
        "df = pd.read_csv(url, encoding='latin1')"
      ],
      "execution_count": 2,
      "outputs": []
    },
    {
      "cell_type": "code",
      "metadata": {
        "id": "DPxMdz5t5-0O"
      },
      "source": [
        "# drop retold label\n",
        "df = df[df.memType != 'retold']"
      ],
      "execution_count": 3,
      "outputs": []
    },
    {
      "cell_type": "code",
      "metadata": {
        "id": "pQ-xhwF_dKxI",
        "colab": {
          "base_uri": "https://localhost:8080/"
        },
        "outputId": "382ad75c-8534-42fc-ffd5-60a3da546ea3"
      },
      "source": [
        "# make labels column using numerical values\n",
        "df.memType = pd.Categorical(df.memType)\n",
        "df['label'] = df.memType.cat.codes\n",
        "\n",
        "# story type corresponding to label\n",
        "print(f\"Label 0: {df.loc[df['label'] == 0,'memType'].unique()}\")\n",
        "print(f\"Label 1: {df.loc[df['label'] == 1,'memType'].unique()}\")"
      ],
      "execution_count": 4,
      "outputs": [
        {
          "output_type": "stream",
          "text": [
            "Label 0: ['imagined']\n",
            "Categories (1, object): ['imagined']\n",
            "Label 1: ['recalled']\n",
            "Categories (1, object): ['recalled']\n"
          ],
          "name": "stdout"
        }
      ]
    },
    {
      "cell_type": "markdown",
      "metadata": {
        "id": "LT6l65DlddfO"
      },
      "source": [
        "# Preprocessing"
      ]
    },
    {
      "cell_type": "code",
      "metadata": {
        "id": "NjTGF8paetXx"
      },
      "source": [
        "# case collapsing\n",
        "df['story'] = df.story.map(lambda x: x.lower())\n",
        "# remove punctuation\n",
        "df['story'] = df.story.str.replace('[^\\w\\s]', '')\n",
        "# tokenization\n",
        "df['story'] = df['story'].apply(nltk.word_tokenize)"
      ],
      "execution_count": 5,
      "outputs": []
    },
    {
      "cell_type": "code",
      "metadata": {
        "colab": {
          "base_uri": "https://localhost:8080/"
        },
        "id": "_eKr5f07eheW",
        "outputId": "67a24c2d-ae24-4ed9-cb91-6c908ca0c5e7"
      },
      "source": [
        "# check whether preprocessing worked\n",
        "df['story']"
      ],
      "execution_count": 6,
      "outputs": [
        {
          "output_type": "execute_result",
          "data": {
            "text/plain": [
              "0       [concerts, are, my, most, favorite, thing, and...\n",
              "1       [the, day, started, perfectly, with, a, great,...\n",
              "2       [it, seems, just, like, yesterday, but, today,...\n",
              "3       [five, months, ago, my, niece, and, nephew, we...\n",
              "4       [about, a, month, ago, i, went, to, burning, m...\n",
              "                              ...                        \n",
              "6849    [my, dog, was, diagnosed, with, lymphoma, a, y...\n",
              "6850    [over, my, vacation, from, my, job, i, went, t...\n",
              "6851    [this, event, was, a, birthday, party, for, my...\n",
              "6852    [this, event, occurred, about, two, weeks, ago...\n",
              "6853    [over, the, past, year, i, have, been, involve...\n",
              "Name: story, Length: 5535, dtype: object"
            ]
          },
          "metadata": {
            "tags": []
          },
          "execution_count": 6
        }
      ]
    },
    {
      "cell_type": "code",
      "metadata": {
        "id": "DolDvebrdrIy"
      },
      "source": [
        "# transform data into occurrences\n",
        "# This converts the list of words into space-separated strings\n",
        "df['story'] = df['story'].apply(lambda x: ' '.join(x))\n",
        "\n",
        "count_vect = CountVectorizer()\n",
        "counts = count_vect.fit_transform(df['story'])"
      ],
      "execution_count": 7,
      "outputs": []
    },
    {
      "cell_type": "code",
      "metadata": {
        "id": "p-SfavCqduKf"
      },
      "source": [
        "# tf-idf\n",
        "transformer = TfidfTransformer().fit(counts)\n",
        "counts = transformer.transform(counts)"
      ],
      "execution_count": 8,
      "outputs": []
    },
    {
      "cell_type": "markdown",
      "metadata": {
        "id": "Xs8TNY3mduf0"
      },
      "source": [
        "# Training NB model"
      ]
    },
    {
      "cell_type": "code",
      "metadata": {
        "id": "lEv68KmFgIXH"
      },
      "source": [
        "# split data into train (80%) and test (20%)\n",
        "X_train, X_test, y_train, y_test = train_test_split(counts, df['label'], test_size=0.2, random_state=69)"
      ],
      "execution_count": 9,
      "outputs": []
    },
    {
      "cell_type": "code",
      "metadata": {
        "id": "WwCqa8Fvdwyv"
      },
      "source": [
        "# Fit model\n",
        "model = MultinomialNB().fit(X_train, y_train)\n",
        "# Test model\n",
        "predicted = model.predict(X_test)"
      ],
      "execution_count": 10,
      "outputs": []
    },
    {
      "cell_type": "markdown",
      "metadata": {
        "id": "hSARKmwTfIb5"
      },
      "source": [
        "# Evaluating NB model"
      ]
    },
    {
      "cell_type": "code",
      "metadata": {
        "colab": {
          "base_uri": "https://localhost:8080/"
        },
        "id": "e2gxHX8sfKiG",
        "outputId": "c00c84e0-899e-4e02-a0d3-ce4303a85357"
      },
      "source": [
        "# compute overall accuracy, precision, recall, f1 scores\n",
        "print('Accuracy: ', accuracy_score(y_test, predicted))\n",
        "print('Precision: ', precision_score(y_test, predicted, average='weighted', zero_division=1))\n",
        "print('Recall: ', recall_score(y_test, predicted, average='weighted', zero_division=1))\n",
        "print('F1:', f1_score(y_test, predicted, average='weighted'))"
      ],
      "execution_count": 11,
      "outputs": [
        {
          "output_type": "stream",
          "text": [
            "Accuracy:  0.6278229448961157\n",
            "Precision:  0.6485532653841489\n",
            "Recall:  0.6278229448961157\n",
            "F1: 0.6150819361589105\n"
          ],
          "name": "stdout"
        }
      ]
    },
    {
      "cell_type": "code",
      "metadata": {
        "id": "00fT_Ewrq7re",
        "colab": {
          "base_uri": "https://localhost:8080/"
        },
        "outputId": "f27a024c-6fb1-49eb-9177-7e124cf64e34"
      },
      "source": [
        "# confusion matrix\n",
        "confusion_matrix(y_test, predicted)"
      ],
      "execution_count": 12,
      "outputs": [
        {
          "output_type": "execute_result",
          "data": {
            "text/plain": [
              "array([[248, 308],\n",
              "       [104, 447]])"
            ]
          },
          "metadata": {
            "tags": []
          },
          "execution_count": 12
        }
      ]
    },
    {
      "cell_type": "code",
      "metadata": {
        "colab": {
          "base_uri": "https://localhost:8080/"
        },
        "id": "aCvOuPxQfTzK",
        "outputId": "5764f302-136e-445e-ba60-944d672f5acc"
      },
      "source": [
        "# precision, recall, fscore, support (number of stories)\n",
        "precision, recall, fscore, support = score(y_test, predicted)\n",
        "\n",
        "# create dataframe with accuracies by category\n",
        "df_acc = pd.DataFrame()\n",
        "df_acc['precision']=pd.Series(precision)\n",
        "df_acc['recall']=pd.Series(recall)\n",
        "df_acc['fscore']=pd.Series(fscore)\n",
        "df_acc['support']=pd.Series(support)\n",
        "print(df_acc)"
      ],
      "execution_count": 13,
      "outputs": [
        {
          "output_type": "stream",
          "text": [
            "   precision    recall    fscore  support\n",
            "0   0.704545  0.446043  0.546256      556\n",
            "1   0.592053  0.811252  0.684533      551\n"
          ],
          "name": "stdout"
        }
      ]
    },
    {
      "cell_type": "code",
      "metadata": {
        "id": "Z637Z0xKfiev",
        "colab": {
          "base_uri": "https://localhost:8080/"
        },
        "outputId": "3fb15f00-1d7c-4e79-b10e-304ee63996aa"
      },
      "source": [
        "# Matthews correlation coefficient\n",
        "matthews_corrcoef(y_test, predicted)"
      ],
      "execution_count": 14,
      "outputs": [
        {
          "output_type": "execute_result",
          "data": {
            "text/plain": [
              "0.2762488425224322"
            ]
          },
          "metadata": {
            "tags": []
          },
          "execution_count": 14
        }
      ]
    },
    {
      "cell_type": "markdown",
      "metadata": {
        "id": "MX-KijH2VBqR"
      },
      "source": [
        "##The SVM model"
      ]
    },
    {
      "cell_type": "code",
      "metadata": {
        "id": "r3858gMEUyGF"
      },
      "source": [
        "# Create SVM classifier with linear kernel and default parameters\n",
        "clf = svm.SVC(kernel='linear', C=1, gamma='scale')\n",
        "\n",
        "# Train the model using the training sets\n",
        "clf.fit(X_train, y_train)\n",
        "\n",
        "# Predict the response for test dataset\n",
        "y_pred = clf.predict(X_test)"
      ],
      "execution_count": 23,
      "outputs": []
    },
    {
      "cell_type": "markdown",
      "metadata": {
        "id": "lpxPDRkpVLzq"
      },
      "source": [
        "##Evaluate SVM model"
      ]
    },
    {
      "cell_type": "code",
      "metadata": {
        "colab": {
          "base_uri": "https://localhost:8080/"
        },
        "id": "GNN-fIerm79D",
        "outputId": "fc9c360f-5dde-41c3-971c-fd1c4161370e"
      },
      "source": [
        "# compute overall accuracy, precision, recall, f1 scores\n",
        "print('Accuracy: ', accuracy_score(y_test,y_pred))\n",
        "print('Precision: ', precision_score(y_test, y_pred, average='weighted', zero_division=1))\n",
        "print('Recall: ', recall_score(y_test, y_pred, average='weighted', zero_division=1))\n",
        "print('F1:', f1_score(y_test, y_pred, average='weighted'))"
      ],
      "execution_count": 24,
      "outputs": [
        {
          "output_type": "stream",
          "text": [
            "Accuracy:  0.7091237579042458\n",
            "Precision:  0.7091441742201728\n",
            "Recall:  0.7091237579042458\n",
            "F1: 0.7091247073569915\n"
          ],
          "name": "stdout"
        }
      ]
    },
    {
      "cell_type": "code",
      "metadata": {
        "id": "50lB9A8OrPz7",
        "colab": {
          "base_uri": "https://localhost:8080/"
        },
        "outputId": "0f0dd6b1-d561-4f2c-96c2-d51dde71694e"
      },
      "source": [
        "# confusion matrix\n",
        "confusion_matrix(y_test, y_pred)"
      ],
      "execution_count": 25,
      "outputs": [
        {
          "output_type": "execute_result",
          "data": {
            "text/plain": [
              "array([[393, 163],\n",
              "       [159, 392]])"
            ]
          },
          "metadata": {
            "tags": []
          },
          "execution_count": 25
        }
      ]
    },
    {
      "cell_type": "code",
      "metadata": {
        "colab": {
          "base_uri": "https://localhost:8080/"
        },
        "id": "_XhEiYELVVNB",
        "outputId": "af0d2390-8786-4d71-9b6f-bf2f7ae7f648"
      },
      "source": [
        "# precision, recall, fscore, support (number of stories)\n",
        "precision, recall, fscore, support = score(y_test, y_pred)\n",
        "\n",
        "# create dataframe with accuracies by category\n",
        "df_acc = pd.DataFrame()\n",
        "df_acc['precision']=pd.Series(precision)\n",
        "df_acc['recall']=pd.Series(recall)\n",
        "df_acc['fscore']=pd.Series(fscore)\n",
        "df_acc['support']=pd.Series(support)\n",
        "print(df_acc)"
      ],
      "execution_count": 26,
      "outputs": [
        {
          "output_type": "stream",
          "text": [
            "   precision    recall    fscore  support\n",
            "0   0.711957  0.706835  0.709386      556\n",
            "1   0.706306  0.711434  0.708861      551\n"
          ],
          "name": "stdout"
        }
      ]
    },
    {
      "cell_type": "code",
      "metadata": {
        "colab": {
          "base_uri": "https://localhost:8080/"
        },
        "id": "RNMkPR0ZVDOU",
        "outputId": "e08bbb19-ab85-45a8-d0f5-3ff0b1f92595"
      },
      "source": [
        "# accuracy on test data\n",
        "print(\"Accuracy:\", accuracy_score(y_test, y_pred))"
      ],
      "execution_count": 27,
      "outputs": [
        {
          "output_type": "stream",
          "text": [
            "Accuracy: 0.7091237579042458\n"
          ],
          "name": "stdout"
        }
      ]
    },
    {
      "cell_type": "code",
      "metadata": {
        "colab": {
          "base_uri": "https://localhost:8080/"
        },
        "id": "8LczJzSgVOu5",
        "outputId": "b3e250f0-54f4-492d-98fa-58decbfd6e11"
      },
      "source": [
        "# Matthews correlation coefficient\n",
        "matthews_corrcoef(y_test, y_pred)"
      ],
      "execution_count": 28,
      "outputs": [
        {
          "output_type": "execute_result",
          "data": {
            "text/plain": [
              "0.4182655586037596"
            ]
          },
          "metadata": {
            "tags": []
          },
          "execution_count": 28
        }
      ]
    },
    {
      "cell_type": "code",
      "metadata": {
        "id": "SFxaS99sVhbA"
      },
      "source": [
        ""
      ],
      "execution_count": null,
      "outputs": []
    }
  ]
}